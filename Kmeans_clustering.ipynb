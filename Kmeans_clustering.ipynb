{
 "cells": [
  {
   "cell_type": "code",
   "execution_count": 1,
   "id": "cb49a4e0-c6d4-4334-ac9c-35993ae1f279",
   "metadata": {},
   "outputs": [],
   "source": [
    "#import all necessary libraries\n",
    "import numpy as np\n",
    "import pandas as pd\n",
    "import seaborn as sns\n",
    "import matplotlib.pyplot as plt\n",
    "warnings.filterwarnings(\"ignore\")"
   ]
  },
  {
   "cell_type": "code",
   "execution_count": 2,
   "id": "6e3a63a7-b367-4d53-9085-f34dc5a20a87",
   "metadata": {},
   "outputs": [],
   "source": [
    "#load datasets\n",
    "train_10k = pd.read_csv('train_downsampled_10k.csv')\n",
    "train_11k = pd.read_csv('train_downsampled_11k.csv')\n",
    "train_12k = pd.read_csv('train_downsampled_12k.csv')\n",
    "train_13k = pd.read_csv('train_downsampled_13k.csv')\n",
    "train_14k = pd.read_csv('train_downsampled_14k.csv')\n",
    "train_15k = pd.read_csv('train_downsampled_15k.csv')"
   ]
  },
  {
   "cell_type": "code",
   "execution_count": 3,
   "id": "2f4629fa-40ad-466d-81bb-36745a81fcf2",
   "metadata": {},
   "outputs": [],
   "source": [
    "# Drop unnecessary features\n",
    "train_10k = train_10k.drop(['date_time'], axis=1)\n",
    "train_10k = train_10k.drop(['srch_ci'], axis=1)\n",
    "train_10k = train_10k.drop(['srch_co'], axis=1)\n",
    "\n",
    "train_11k = train_11k.drop(['date_time'], axis=1)\n",
    "train_11k = train_11k.drop(['srch_ci'], axis=1)\n",
    "train_11k = train_11k.drop(['srch_co'], axis=1)\n",
    "\n",
    "train_12k = train_12k.drop(['date_time'], axis=1)\n",
    "train_12k = train_12k.drop(['srch_ci'], axis=1)\n",
    "train_12k = train_12k.drop(['srch_co'], axis=1)\n",
    "\n",
    "train_13k = train_13k.drop(['date_time'], axis=1)\n",
    "train_13k = train_13k.drop(['srch_ci'], axis=1)\n",
    "train_13k = train_13k.drop(['srch_co'], axis=1)\n",
    "\n",
    "train_14k = train_14k.drop(['date_time'], axis=1)\n",
    "train_14k = train_14k.drop(['srch_ci'], axis=1)\n",
    "train_14k = train_14k.drop(['srch_co'], axis=1)\n",
    "\n",
    "train_15k = train_15k.drop(['date_time'], axis=1)\n",
    "train_15k = train_15k.drop(['srch_ci'], axis=1)\n",
    "train_15k = train_15k.drop(['srch_co'], axis=1)"
   ]
  },
  {
   "cell_type": "code",
   "execution_count": 4,
   "id": "82cc7567-2574-435f-a4e2-d19876b2166a",
   "metadata": {},
   "outputs": [],
   "source": [
    "#Split the data\n",
    "train_new_10k = train_10k[((train_10k.year == 2013) | ((train_10k.year == 2014) & (train_10k.month < 8)))]\n",
    "test_new_10k = train_10k[((train_10k.year == 2014) & (train_10k.month >= 8))]\n",
    "train_new_11k = train_11k[((train_11k.year == 2013) | ((train_11k.year == 2014) & (train_11k.month < 8)))]\n",
    "test_new_11k = train_11k[((train_11k.year == 2014) & (train_11k.month >= 8))]\n",
    "train_new_12k = train_12k[((train_12k.year == 2013) | ((train_12k.year == 2014) & (train_12k.month < 8)))]\n",
    "test_new_12k = train_12k[((train_12k.year == 2014) & (train_12k.month >= 8))]\n",
    "train_new_13k = train_13k[((train_13k.year == 2013) | ((train_13k.year == 2014) & (train_13k.month < 8)))]\n",
    "test_new_13k = train_13k[((train_13k.year == 2014) & (train_13k.month >= 8))]\n",
    "train_new_14k = train_14k[((train_14k.year == 2013) | ((train_14k.year == 2014) & (train_14k.month < 8)))]\n",
    "test_new_14k = train_14k[((train_14k.year == 2014) & (train_14k.month >= 8))]\n",
    "train_new_15k = train_15k[((train_15k.year == 2013) | ((train_15k.year == 2014) & (train_15k.month < 8)))]\n",
    "test_new_15k = train_15k[((train_11k.year == 2014) & (train_15k.month >= 8))]"
   ]
  },
  {
   "cell_type": "code",
   "execution_count": 5,
   "id": "23c13f5f-f3d7-4088-b222-d3f94587100d",
   "metadata": {},
   "outputs": [],
   "source": [
    "test_new_10k = test_new_10k[test_new_10k.is_booking == 1]\n",
    "test_new_11k = test_new_11k[test_new_11k.is_booking == 1]\n",
    "test_new_12k = test_new_12k[test_new_12k.is_booking == 1]\n",
    "test_new_13k = test_new_13k[test_new_13k.is_booking == 1]\n",
    "test_new_14k = test_new_14k[test_new_14k.is_booking == 1]\n",
    "test_new_15k = test_new_15k[test_new_15k.is_booking == 1]"
   ]
  },
  {
   "cell_type": "code",
   "execution_count": 6,
   "id": "b3e18481-bc6a-436e-9416-d2f6924125f5",
   "metadata": {},
   "outputs": [
    {
     "name": "stdout",
     "output_type": "stream",
     "text": [
      "<class 'pandas.core.frame.DataFrame'>\n",
      "Int64Index: 182551 entries, 0 to 290375\n",
      "Data columns (total 25 columns):\n",
      " #   Column                     Non-Null Count   Dtype  \n",
      "---  ------                     --------------   -----  \n",
      " 0   site_name                  182551 non-null  int64  \n",
      " 1   posa_continent             182551 non-null  int64  \n",
      " 2   user_location_country      182551 non-null  int64  \n",
      " 3   user_location_region       182551 non-null  int64  \n",
      " 4   user_location_city         182551 non-null  int64  \n",
      " 5   orig_destination_distance  182551 non-null  float64\n",
      " 6   user_id                    182551 non-null  int64  \n",
      " 7   is_mobile                  182551 non-null  int64  \n",
      " 8   is_package                 182551 non-null  int64  \n",
      " 9   channel                    182551 non-null  int64  \n",
      " 10  srch_adults_cnt            182551 non-null  int64  \n",
      " 11  srch_children_cnt          182551 non-null  int64  \n",
      " 12  srch_rm_cnt                182551 non-null  int64  \n",
      " 13  srch_destination_id        182551 non-null  int64  \n",
      " 14  srch_destination_type_id   182551 non-null  int64  \n",
      " 15  is_booking                 182551 non-null  int64  \n",
      " 16  cnt                        182551 non-null  int64  \n",
      " 17  hotel_continent            182551 non-null  int64  \n",
      " 18  hotel_country              182551 non-null  int64  \n",
      " 19  hotel_market               182551 non-null  int64  \n",
      " 20  hotel_cluster              182551 non-null  int64  \n",
      " 21  year                       182551 non-null  int64  \n",
      " 22  month                      182551 non-null  int64  \n",
      " 23  dayofweek                  182551 non-null  int64  \n",
      " 24  stay_span                  182551 non-null  float64\n",
      "dtypes: float64(2), int64(23)\n",
      "memory usage: 36.2 MB\n"
     ]
    }
   ],
   "source": [
    "train_new_10k.info()"
   ]
  },
  {
   "cell_type": "markdown",
   "id": "d224c3a6-d9ac-455f-a1d5-e3b3085a659e",
   "metadata": {},
   "source": [
    "Realised I do not need to split into train and test set so using the full dataset after removing the clicks and preserving the bookings"
   ]
  },
  {
   "cell_type": "code",
   "execution_count": 7,
   "id": "10518d3c-ed53-4af3-823a-8159438d1282",
   "metadata": {},
   "outputs": [],
   "source": [
    "train_10k = train_10k[train_10k.is_booking == 1]\n",
    "train_11k = train_11k[train_11k.is_booking == 1]\n",
    "train_12k = train_12k[train_12k.is_booking == 1]\n",
    "train_13k = train_13k[train_13k.is_booking == 1]\n",
    "train_14k = train_14k[train_14k.is_booking == 1]\n",
    "train_15k = train_15k[train_15k.is_booking == 1]"
   ]
  },
  {
   "cell_type": "code",
   "execution_count": 8,
   "id": "4c622e3f-cc78-45cf-9126-ed50e9444dda",
   "metadata": {},
   "outputs": [],
   "source": [
    "X_train_new_10k = train_10k.drop(['hotel_cluster'], axis=1)\n",
    "Y_train_new_10k = train_10k['hotel_cluster']\n",
    "X_train_new_11k = train_11k.drop(['hotel_cluster'], axis=1)\n",
    "Y_train_new_11k = train_11k['hotel_cluster']\n",
    "X_train_new_12k = train_12k.drop(['hotel_cluster'], axis=1)\n",
    "Y_train_new_12k = train_12k['hotel_cluster']\n",
    "X_train_new_13k = train_13k.drop(['hotel_cluster'], axis=1)\n",
    "Y_train_new_13k = train_13k['hotel_cluster']\n",
    "X_train_new_14k = train_14k.drop(['hotel_cluster'], axis=1)\n",
    "Y_train_new_14k = train_14k['hotel_cluster']\n",
    "X_train_new_15k = train_15k.drop(['hotel_cluster'], axis=1)\n",
    "Y_train_new_15k = train_15k['hotel_cluster']"
   ]
  },
  {
   "cell_type": "code",
   "execution_count": 9,
   "id": "28ad63d4-f0b4-4319-abcb-f37b777be463",
   "metadata": {},
   "outputs": [],
   "source": [
    "from sklearn.cluster import KMeans"
   ]
  },
  {
   "cell_type": "code",
   "execution_count": 10,
   "id": "16819a4d-72e3-46bf-999b-bbe80d6b6dfe",
   "metadata": {},
   "outputs": [
    {
     "name": "stderr",
     "output_type": "stream",
     "text": [
      "C:\\Users\\pragn\\AppData\\Local\\Packages\\PythonSoftwareFoundation.Python.3.11_qbz5n2kfra8p0\\LocalCache\\local-packages\\Python311\\site-packages\\sklearn\\cluster\\_kmeans.py:870: FutureWarning: The default value of `n_init` will change from 10 to 'auto' in 1.4. Set the value of `n_init` explicitly to suppress the warning\n",
      "  warnings.warn(\n",
      "C:\\Users\\pragn\\AppData\\Local\\Packages\\PythonSoftwareFoundation.Python.3.11_qbz5n2kfra8p0\\LocalCache\\local-packages\\Python311\\site-packages\\sklearn\\cluster\\_kmeans.py:870: FutureWarning: The default value of `n_init` will change from 10 to 'auto' in 1.4. Set the value of `n_init` explicitly to suppress the warning\n",
      "  warnings.warn(\n",
      "C:\\Users\\pragn\\AppData\\Local\\Packages\\PythonSoftwareFoundation.Python.3.11_qbz5n2kfra8p0\\LocalCache\\local-packages\\Python311\\site-packages\\sklearn\\cluster\\_kmeans.py:870: FutureWarning: The default value of `n_init` will change from 10 to 'auto' in 1.4. Set the value of `n_init` explicitly to suppress the warning\n",
      "  warnings.warn(\n",
      "C:\\Users\\pragn\\AppData\\Local\\Packages\\PythonSoftwareFoundation.Python.3.11_qbz5n2kfra8p0\\LocalCache\\local-packages\\Python311\\site-packages\\sklearn\\cluster\\_kmeans.py:870: FutureWarning: The default value of `n_init` will change from 10 to 'auto' in 1.4. Set the value of `n_init` explicitly to suppress the warning\n",
      "  warnings.warn(\n",
      "C:\\Users\\pragn\\AppData\\Local\\Packages\\PythonSoftwareFoundation.Python.3.11_qbz5n2kfra8p0\\LocalCache\\local-packages\\Python311\\site-packages\\sklearn\\cluster\\_kmeans.py:870: FutureWarning: The default value of `n_init` will change from 10 to 'auto' in 1.4. Set the value of `n_init` explicitly to suppress the warning\n",
      "  warnings.warn(\n",
      "C:\\Users\\pragn\\AppData\\Local\\Packages\\PythonSoftwareFoundation.Python.3.11_qbz5n2kfra8p0\\LocalCache\\local-packages\\Python311\\site-packages\\sklearn\\cluster\\_kmeans.py:870: FutureWarning: The default value of `n_init` will change from 10 to 'auto' in 1.4. Set the value of `n_init` explicitly to suppress the warning\n",
      "  warnings.warn(\n"
     ]
    },
    {
     "data": {
      "text/html": [
       "<style>#sk-container-id-1 {color: black;background-color: white;}#sk-container-id-1 pre{padding: 0;}#sk-container-id-1 div.sk-toggleable {background-color: white;}#sk-container-id-1 label.sk-toggleable__label {cursor: pointer;display: block;width: 100%;margin-bottom: 0;padding: 0.3em;box-sizing: border-box;text-align: center;}#sk-container-id-1 label.sk-toggleable__label-arrow:before {content: \"▸\";float: left;margin-right: 0.25em;color: #696969;}#sk-container-id-1 label.sk-toggleable__label-arrow:hover:before {color: black;}#sk-container-id-1 div.sk-estimator:hover label.sk-toggleable__label-arrow:before {color: black;}#sk-container-id-1 div.sk-toggleable__content {max-height: 0;max-width: 0;overflow: hidden;text-align: left;background-color: #f0f8ff;}#sk-container-id-1 div.sk-toggleable__content pre {margin: 0.2em;color: black;border-radius: 0.25em;background-color: #f0f8ff;}#sk-container-id-1 input.sk-toggleable__control:checked~div.sk-toggleable__content {max-height: 200px;max-width: 100%;overflow: auto;}#sk-container-id-1 input.sk-toggleable__control:checked~label.sk-toggleable__label-arrow:before {content: \"▾\";}#sk-container-id-1 div.sk-estimator input.sk-toggleable__control:checked~label.sk-toggleable__label {background-color: #d4ebff;}#sk-container-id-1 div.sk-label input.sk-toggleable__control:checked~label.sk-toggleable__label {background-color: #d4ebff;}#sk-container-id-1 input.sk-hidden--visually {border: 0;clip: rect(1px 1px 1px 1px);clip: rect(1px, 1px, 1px, 1px);height: 1px;margin: -1px;overflow: hidden;padding: 0;position: absolute;width: 1px;}#sk-container-id-1 div.sk-estimator {font-family: monospace;background-color: #f0f8ff;border: 1px dotted black;border-radius: 0.25em;box-sizing: border-box;margin-bottom: 0.5em;}#sk-container-id-1 div.sk-estimator:hover {background-color: #d4ebff;}#sk-container-id-1 div.sk-parallel-item::after {content: \"\";width: 100%;border-bottom: 1px solid gray;flex-grow: 1;}#sk-container-id-1 div.sk-label:hover label.sk-toggleable__label {background-color: #d4ebff;}#sk-container-id-1 div.sk-serial::before {content: \"\";position: absolute;border-left: 1px solid gray;box-sizing: border-box;top: 0;bottom: 0;left: 50%;z-index: 0;}#sk-container-id-1 div.sk-serial {display: flex;flex-direction: column;align-items: center;background-color: white;padding-right: 0.2em;padding-left: 0.2em;position: relative;}#sk-container-id-1 div.sk-item {position: relative;z-index: 1;}#sk-container-id-1 div.sk-parallel {display: flex;align-items: stretch;justify-content: center;background-color: white;position: relative;}#sk-container-id-1 div.sk-item::before, #sk-container-id-1 div.sk-parallel-item::before {content: \"\";position: absolute;border-left: 1px solid gray;box-sizing: border-box;top: 0;bottom: 0;left: 50%;z-index: -1;}#sk-container-id-1 div.sk-parallel-item {display: flex;flex-direction: column;z-index: 1;position: relative;background-color: white;}#sk-container-id-1 div.sk-parallel-item:first-child::after {align-self: flex-end;width: 50%;}#sk-container-id-1 div.sk-parallel-item:last-child::after {align-self: flex-start;width: 50%;}#sk-container-id-1 div.sk-parallel-item:only-child::after {width: 0;}#sk-container-id-1 div.sk-dashed-wrapped {border: 1px dashed gray;margin: 0 0.4em 0.5em 0.4em;box-sizing: border-box;padding-bottom: 0.4em;background-color: white;}#sk-container-id-1 div.sk-label label {font-family: monospace;font-weight: bold;display: inline-block;line-height: 1.2em;}#sk-container-id-1 div.sk-label-container {text-align: center;}#sk-container-id-1 div.sk-container {/* jupyter's `normalize.less` sets `[hidden] { display: none; }` but bootstrap.min.css set `[hidden] { display: none !important; }` so we also need the `!important` here to be able to override the default hidden behavior on the sphinx rendered scikit-learn.org. See: https://github.com/scikit-learn/scikit-learn/issues/21755 */display: inline-block !important;position: relative;}#sk-container-id-1 div.sk-text-repr-fallback {display: none;}</style><div id=\"sk-container-id-1\" class=\"sk-top-container\"><div class=\"sk-text-repr-fallback\"><pre>KMeans(n_clusters=100, random_state=10)</pre><b>In a Jupyter environment, please rerun this cell to show the HTML representation or trust the notebook. <br />On GitHub, the HTML representation is unable to render, please try loading this page with nbviewer.org.</b></div><div class=\"sk-container\" hidden><div class=\"sk-item\"><div class=\"sk-estimator sk-toggleable\"><input class=\"sk-toggleable__control sk-hidden--visually\" id=\"sk-estimator-id-1\" type=\"checkbox\" checked><label for=\"sk-estimator-id-1\" class=\"sk-toggleable__label sk-toggleable__label-arrow\">KMeans</label><div class=\"sk-toggleable__content\"><pre>KMeans(n_clusters=100, random_state=10)</pre></div></div></div></div></div>"
      ],
      "text/plain": [
       "KMeans(n_clusters=100, random_state=10)"
      ]
     },
     "execution_count": 10,
     "metadata": {},
     "output_type": "execute_result"
    }
   ],
   "source": [
    "kmeans_10k = KMeans(n_clusters=100,random_state=10)\n",
    "kmeans_10k.fit(X_train_new_10k)\n",
    "\n",
    "kmeans_11k = KMeans(n_clusters=100,random_state=10)\n",
    "kmeans_11k.fit(X_train_new_11k)\n",
    "\n",
    "kmeans_12k = KMeans(n_clusters=100,random_state=10)\n",
    "kmeans_12k.fit(X_train_new_12k)\n",
    "\n",
    "kmeans_13k = KMeans(n_clusters=100,random_state=10)\n",
    "kmeans_13k.fit(X_train_new_13k)\n",
    "\n",
    "kmeans_14k = KMeans(n_clusters=100,random_state=10)\n",
    "kmeans_14k.fit(X_train_new_14k)\n",
    "\n",
    "kmeans_15k = KMeans(n_clusters=100,random_state=10)\n",
    "kmeans_15k.fit(X_train_new_15k)"
   ]
  },
  {
   "cell_type": "code",
   "execution_count": 11,
   "id": "5ab205e7-5c50-4578-b061-a73517ccf59f",
   "metadata": {},
   "outputs": [],
   "source": [
    "# Get the cluster centers\n",
    "centers_10k = kmeans_10k.cluster_centers_\n",
    "centers_11k = kmeans_11k.cluster_centers_\n",
    "centers_12k = kmeans_12k.cluster_centers_\n",
    "centers_13k = kmeans_13k.cluster_centers_\n",
    "centers_14k = kmeans_14k.cluster_centers_\n",
    "centers_15k = kmeans_15k.cluster_centers_"
   ]
  },
  {
   "cell_type": "code",
   "execution_count": 12,
   "id": "55f59348-8887-4846-940b-5c82a269ceb0",
   "metadata": {},
   "outputs": [],
   "source": [
    "# Compute the distance between each row and each cluster center\n",
    "distances_10k = np.linalg.norm(X_train_new_10k.values[:, np.newaxis, :] - centers_10k, axis=2)\n",
    "distances_11k = np.linalg.norm(X_train_new_11k.values[:, np.newaxis, :] - centers_11k, axis=2)\n",
    "distances_12k = np.linalg.norm(X_train_new_12k.values[:, np.newaxis, :] - centers_12k, axis=2)\n",
    "distances_13k = np.linalg.norm(X_train_new_13k.values[:, np.newaxis, :] - centers_13k, axis=2)\n",
    "distances_14k = np.linalg.norm(X_train_new_14k.values[:, np.newaxis, :] - centers_14k, axis=2)\n",
    "distances_15k = np.linalg.norm(X_train_new_15k.values[:, np.newaxis, :] - centers_15k, axis=2)"
   ]
  },
  {
   "cell_type": "code",
   "execution_count": 13,
   "id": "ea5c7d60-2c48-4049-91a5-ddc9fb16b73d",
   "metadata": {},
   "outputs": [],
   "source": [
    "# Get the indices of the top 5 closest clusters for each row\n",
    "top_clusters_10k = np.argsort(distances_10k, axis=1)[:, :5]\n",
    "top_clusters_11k = np.argsort(distances_11k, axis=1)[:, :5]\n",
    "top_clusters_12k = np.argsort(distances_12k, axis=1)[:, :5]\n",
    "top_clusters_13k = np.argsort(distances_13k, axis=1)[:, :5]\n",
    "top_clusters_14k = np.argsort(distances_14k, axis=1)[:, :5]\n",
    "top_clusters_15k = np.argsort(distances_15k, axis=1)[:, :5]"
   ]
  },
  {
   "cell_type": "code",
   "execution_count": 14,
   "id": "bc986c0f-2e58-421e-bbcf-9be3ddeff017",
   "metadata": {},
   "outputs": [
    {
     "name": "stdout",
     "output_type": "stream",
     "text": [
      "Top 5 clusters for row 0 : [82  3 62 27 53]\n",
      "Top 5 clusters for row 1 : [82  3 62 27 53]\n",
      "Top 5 clusters for row 2 : [82  3 27 62 50]\n",
      "Top 5 clusters for row 3 : [82  3 27 53 62]\n",
      "Top 5 clusters for row 4 : [82  3 27 62 50]\n",
      "Top 5 clusters for row 5 : [82  3 50 27 62]\n",
      "Top 5 clusters for row 6 : [53 27 50 82  3]\n",
      "Top 5 clusters for row 7 : [82  3 53 50 62]\n",
      "Top 5 clusters for row 8 : [50 27 53 29  3]\n",
      "Top 5 clusters for row 9 : [50 27 29  3 82]\n"
     ]
    }
   ],
   "source": [
    "# Print the top 5 clusters for first 10 rows for 10k dataset\n",
    "for i in range(0,10):\n",
    "    print(\"Top 5 clusters for row\", i, \":\", top_clusters_10k[i])"
   ]
  },
  {
   "cell_type": "code",
   "execution_count": 15,
   "id": "c5eaba3f-0522-4b29-b6ed-b86720863116",
   "metadata": {},
   "outputs": [],
   "source": [
    "import ml_metrics as metrics\n",
    "target_preds_10k = [[i] for i in Y_train_new_10k]\n",
    "target_preds_11k = [[i] for i in Y_train_new_11k]\n",
    "target_preds_12k = [[i] for i in Y_train_new_12k]\n",
    "target_preds_13k = [[i] for i in Y_train_new_13k]\n",
    "target_preds_14k = [[i] for i in Y_train_new_14k]\n",
    "target_preds_15k = [[i] for i in Y_train_new_15k]"
   ]
  },
  {
   "cell_type": "code",
   "execution_count": 17,
   "id": "18f72b3f-d007-4106-a170-a3d0be4a092f",
   "metadata": {},
   "outputs": [],
   "source": [
    "mapk_scores = [metrics.mapk(target_preds_10k, top_clusters_10k, k=5), metrics.mapk(target_preds_11k, top_clusters_11k, k=5), metrics.mapk(target_preds_12k, top_clusters_12k, k=5), metrics.mapk(target_preds_13k, top_clusters_13k, k=5), metrics.mapk(target_preds_14k, top_clusters_14k, k=5), metrics.mapk(target_preds_15k, top_clusters_15k, k=5)]"
   ]
  },
  {
   "cell_type": "code",
   "execution_count": 18,
   "id": "b89ea4b1-3b4d-4722-be63-7e6c3563f0fa",
   "metadata": {},
   "outputs": [
    {
     "name": "stdout",
     "output_type": "stream",
     "text": [
      "[0.02639619272292393, 0.022445623034676634, 0.022537502869256425, 0.021850339106976275, 0.02200509237057843, 0.023924079283473985]\n"
     ]
    }
   ],
   "source": [
    "print(mapk_scores)"
   ]
  },
  {
   "cell_type": "code",
   "execution_count": 19,
   "id": "f6fd67a8-9f74-4954-bde2-42ebc66909ab",
   "metadata": {},
   "outputs": [
    {
     "data": {
      "image/png": "[encoded data removed]",
      "text/plain": [
       "<Figure size 640x480 with 1 Axes>"
      ]
     },
     "metadata": {},
     "output_type": "display_data"
    }
   ],
   "source": [
    "dataset_size = [10000, 11000, 12000, 13000, 14000, 15000]\n",
    "\n",
    "plt.plot(dataset_size,mapk_scores)\n",
    "plt.title(\"Dataset size vs MAPK score for kmeans clustering\",fontsize=20)\n",
    "plt.xlabel(\"Size\",fontsize=17)\n",
    "plt.ylabel(\"MAPK score\",fontsize=17)\n",
    "plt.show()"
   ]
  },
  {
   "cell_type": "code",
   "execution_count": null,
   "id": "dcf4adde-c501-48cb-898b-77517b7cef53",
   "metadata": {},
   "outputs": [],
   "source": []
  }
 ],
 "metadata": {
  "kernelspec": {
   "display_name": "Python 3 (ipykernel)",
   "language": "python",
   "name": "python3"
  },
  "language_info": {
   "codemirror_mode": {
    "name": "ipython",
    "version": 3
   },
   "file_extension": ".py",
   "mimetype": "text/x-python",
   "name": "python",
   "nbconvert_exporter": "python",
   "pygments_lexer": "ipython3",
   "version": "3.9.7"
  }
 },
 "nbformat": 4,
 "nbformat_minor": 5
}
