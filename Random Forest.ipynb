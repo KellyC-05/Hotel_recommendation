{
 "cells": [
  {
   "cell_type": "code",
   "execution_count": 1,
   "id": "5f7fc8b5",
   "metadata": {},
   "outputs": [],
   "source": [
    "import pandas as pd\n",
    "import numpy as np\n",
    "import matplotlib.pyplot as plt\n",
    "from sklearn.metrics import accuracy_score\n",
    "from sklearn.ensemble import RandomForestClassifier\n",
    "import ml_metrics as metrics\n",
    "from sklearn.metrics import make_scorer\n",
    "from sklearn.model_selection import GridSearchCV"
   ]
  },
  {
   "cell_type": "code",
   "execution_count": 2,
   "id": "11d25cdb",
   "metadata": {},
   "outputs": [],
   "source": [
    "#load datasets\n",
    "train_10k = pd.read_csv('train_downsampled_10k.csv')\n",
    "train_11k = pd.read_csv('train_downsampled_11k.csv')\n",
    "train_12k = pd.read_csv('train_downsampled_12k.csv')\n",
    "train_13k = pd.read_csv('train_downsampled_13k.csv')\n",
    "train_14k = pd.read_csv('train_downsampled_14k.csv')\n",
    "train_15k = pd.read_csv('train_downsampled_15k.csv')"
   ]
  },
  {
   "cell_type": "code",
   "execution_count": 3,
   "id": "848b6fb1",
   "metadata": {},
   "outputs": [],
   "source": [
    "# Drop unnecessary features\n",
    "train_10k = train_10k.drop(['date_time'], axis=1)\n",
    "train_10k = train_10k.drop(['srch_ci'], axis=1)\n",
    "train_10k = train_10k.drop(['srch_co'], axis=1)\n",
    "\n",
    "train_11k = train_11k.drop(['date_time'], axis=1)\n",
    "train_11k = train_11k.drop(['srch_ci'], axis=1)\n",
    "train_11k = train_11k.drop(['srch_co'], axis=1)\n",
    "\n",
    "train_12k = train_12k.drop(['date_time'], axis=1)\n",
    "train_12k = train_12k.drop(['srch_ci'], axis=1)\n",
    "train_12k = train_12k.drop(['srch_co'], axis=1)\n",
    "\n",
    "train_13k = train_13k.drop(['date_time'], axis=1)\n",
    "train_13k = train_13k.drop(['srch_ci'], axis=1)\n",
    "train_13k = train_13k.drop(['srch_co'], axis=1)\n",
    "\n",
    "train_14k = train_14k.drop(['date_time'], axis=1)\n",
    "train_14k = train_14k.drop(['srch_ci'], axis=1)\n",
    "train_14k = train_14k.drop(['srch_co'], axis=1)\n",
    "\n",
    "train_15k = train_15k.drop(['date_time'], axis=1)\n",
    "train_15k = train_15k.drop(['srch_ci'], axis=1)\n",
    "train_15k = train_15k.drop(['srch_co'], axis=1)"
   ]
  },
  {
   "cell_type": "code",
   "execution_count": 4,
   "id": "dbee037c",
   "metadata": {},
   "outputs": [],
   "source": [
    "#Split the data\n",
    "train_new_10k = train_10k[((train_10k.year == 2013) | ((train_10k.year == 2014) & (train_10k.month < 8)))]\n",
    "test_new_10k = train_10k[((train_10k.year == 2014) & (train_10k.month >= 8))]\n",
    "train_new_11k = train_11k[((train_11k.year == 2013) | ((train_11k.year == 2014) & (train_11k.month < 8)))]\n",
    "test_new_11k = train_11k[((train_11k.year == 2014) & (train_11k.month >= 8))]\n",
    "train_new_12k = train_12k[((train_12k.year == 2013) | ((train_12k.year == 2014) & (train_12k.month < 8)))]\n",
    "test_new_12k = train_12k[((train_12k.year == 2014) & (train_12k.month >= 8))]\n",
    "train_new_13k = train_13k[((train_13k.year == 2013) | ((train_13k.year == 2014) & (train_13k.month < 8)))]\n",
    "test_new_13k = train_13k[((train_13k.year == 2014) & (train_13k.month >= 8))]\n",
    "train_new_14k = train_14k[((train_14k.year == 2013) | ((train_14k.year == 2014) & (train_14k.month < 8)))]\n",
    "test_new_14k = train_14k[((train_14k.year == 2014) & (train_14k.month >= 8))]\n",
    "train_new_15k = train_15k[((train_15k.year == 2013) | ((train_15k.year == 2014) & (train_15k.month < 8)))]\n",
    "test_new_15k = train_15k[((train_11k.year == 2014) & (train_15k.month >= 8))]"
   ]
  },
  {
   "cell_type": "code",
   "execution_count": 5,
   "id": "7711f6db",
   "metadata": {},
   "outputs": [],
   "source": [
    "test_new_10k = test_new_10k[test_new_10k.is_booking == 1]\n",
    "test_new_11k = test_new_11k[test_new_11k.is_booking == 1]\n",
    "test_new_12k = test_new_12k[test_new_12k.is_booking == 1]\n",
    "test_new_13k = test_new_13k[test_new_13k.is_booking == 1]\n",
    "test_new_14k = test_new_14k[test_new_14k.is_booking == 1]\n",
    "test_new_15k = test_new_15k[test_new_15k.is_booking == 1]"
   ]
  },
  {
   "cell_type": "code",
   "execution_count": 6,
   "id": "ed3bc59f",
   "metadata": {},
   "outputs": [],
   "source": [
    "X_train_new_10k = train_new_10k.drop(['hotel_cluster'], axis=1)\n",
    "Y_train_new_10k = train_new_10k['hotel_cluster']\n",
    "X_train_new_11k = train_new_11k.drop(['hotel_cluster'], axis=1)\n",
    "Y_train_new_11k = train_new_11k['hotel_cluster']\n",
    "X_train_new_12k = train_new_12k.drop(['hotel_cluster'], axis=1)\n",
    "Y_train_new_12k = train_new_12k['hotel_cluster']\n",
    "X_train_new_13k = train_new_13k.drop(['hotel_cluster'], axis=1)\n",
    "Y_train_new_13k = train_new_13k['hotel_cluster']\n",
    "X_train_new_14k = train_new_14k.drop(['hotel_cluster'], axis=1)\n",
    "Y_train_new_14k = train_new_14k['hotel_cluster']\n",
    "X_train_new_15k = train_new_15k.drop(['hotel_cluster'], axis=1)\n",
    "Y_train_new_15k = train_new_15k['hotel_cluster']"
   ]
  },
  {
   "cell_type": "code",
   "execution_count": 7,
   "id": "1bc5772a",
   "metadata": {},
   "outputs": [],
   "source": [
    "X_test_new_10k = test_new_10k.drop(['hotel_cluster'], axis=1)\n",
    "Y_test_new_10k = test_new_10k['hotel_cluster']\n",
    "X_test_new_11k = test_new_11k.drop(['hotel_cluster'], axis=1)\n",
    "Y_test_new_11k = test_new_11k['hotel_cluster']\n",
    "X_test_new_12k = test_new_12k.drop(['hotel_cluster'], axis=1)\n",
    "Y_test_new_12k = test_new_12k['hotel_cluster']\n",
    "X_test_new_13k = test_new_13k.drop(['hotel_cluster'], axis=1)\n",
    "Y_test_new_13k = test_new_13k['hotel_cluster']\n",
    "X_test_new_14k = test_new_14k.drop(['hotel_cluster'], axis=1)\n",
    "Y_test_new_14k = test_new_14k['hotel_cluster']\n",
    "X_test_new_15k = test_new_15k.drop(['hotel_cluster'], axis=1)\n",
    "Y_test_new_15k = test_new_15k['hotel_cluster']"
   ]
  },
  {
   "cell_type": "code",
   "execution_count": 8,
   "id": "506d3038",
   "metadata": {},
   "outputs": [],
   "source": [
    "def mean_average_precision(y_test, y_pred_proba):\n",
    "    y_pred_k = np.array([y_pred_proba[i].argsort()[-5:][::-1] \n",
    "        for i in range(len(y_test))]) # k=5 most likely predicted classes for each input\n",
    "    map_score = metrics.mapk(y_test.values[np.newaxis].T, y_pred_k, 5)\n",
    "    return map_score"
   ]
  },
  {
   "cell_type": "code",
   "execution_count": 9,
   "id": "220aa4ae",
   "metadata": {},
   "outputs": [],
   "source": [
    "rfc_10k = RandomForestClassifier(n_estimators=23, random_state=42)\n",
    "rfc_11k = RandomForestClassifier(n_estimators=23, random_state=42)\n",
    "rfc_12k = RandomForestClassifier(n_estimators=23, random_state=42)\n",
    "rfc_13k = RandomForestClassifier(n_estimators=23, random_state=42)\n",
    "rfc_14k = RandomForestClassifier(n_estimators=23, random_state=42)\n",
    "rfc_15k = RandomForestClassifier(n_estimators=23, random_state=42)"
   ]
  },
  {
   "cell_type": "code",
   "execution_count": 10,
   "id": "0b6363fe",
   "metadata": {},
   "outputs": [
    {
     "data": {
      "text/plain": [
       "RandomForestClassifier(n_estimators=23, random_state=42)"
      ]
     },
     "execution_count": 10,
     "metadata": {},
     "output_type": "execute_result"
    }
   ],
   "source": [
    "rfc_10k.fit(X_train_new_10k, Y_train_new_10k)\n",
    "rfc_11k.fit(X_train_new_11k, Y_train_new_11k)\n",
    "rfc_12k.fit(X_train_new_12k, Y_train_new_12k)\n",
    "rfc_13k.fit(X_train_new_13k, Y_train_new_13k)\n",
    "rfc_14k.fit(X_train_new_14k, Y_train_new_14k)\n",
    "rfc_15k.fit(X_train_new_15k, Y_train_new_15k)"
   ]
  },
  {
   "cell_type": "code",
   "execution_count": 11,
   "id": "bbddbef6",
   "metadata": {},
   "outputs": [],
   "source": [
    "rfc_pred_10k = rfc_10k.predict(X_test_new_10k)\n",
    "rfc_pred_11k = rfc_11k.predict(X_test_new_11k)\n",
    "rfc_pred_12k = rfc_12k.predict(X_test_new_12k)\n",
    "rfc_pred_13k = rfc_13k.predict(X_test_new_13k)\n",
    "rfc_pred_14k = rfc_14k.predict(X_test_new_14k)\n",
    "rfc_pred_15k = rfc_15k.predict(X_test_new_15k)"
   ]
  },
  {
   "cell_type": "code",
   "execution_count": 12,
   "id": "6af20ce0",
   "metadata": {},
   "outputs": [],
   "source": [
    "rfc_prob_10k = rfc_10k.predict_proba(X_test_new_10k)\n",
    "rfc_prob_11k = rfc_11k.predict_proba(X_test_new_11k)\n",
    "rfc_prob_12k = rfc_12k.predict_proba(X_test_new_12k)\n",
    "rfc_prob_13k = rfc_13k.predict_proba(X_test_new_13k)\n",
    "rfc_prob_14k = rfc_14k.predict_proba(X_test_new_14k)\n",
    "rfc_prob_15k = rfc_15k.predict_proba(X_test_new_15k)"
   ]
  },
  {
   "cell_type": "code",
   "execution_count": 13,
   "id": "4fe79eda",
   "metadata": {},
   "outputs": [
    {
     "name": "stdout",
     "output_type": "stream",
     "text": [
      "[[0.         0.         0.19565217 ... 0.         0.         0.01086957]\n",
      " [0.         0.         0.04347826 ... 0.04347826 0.         0.        ]\n",
      " [0.         0.         0.         ... 0.         0.         0.        ]\n",
      " ...\n",
      " [0.         0.         0.         ... 0.         0.         0.        ]\n",
      " [0.         0.         0.08695652 ... 0.04347826 0.         0.        ]\n",
      " [0.         0.         0.         ... 0.         0.         0.        ]]\n"
     ]
    }
   ],
   "source": [
    "print(rfc_prob_10k)"
   ]
  },
  {
   "cell_type": "code",
   "execution_count": 14,
   "id": "2343809d",
   "metadata": {},
   "outputs": [
    {
     "name": "stdout",
     "output_type": "stream",
     "text": [
      "Accuracy 0.10468360005872852\n",
      "Accuracy 0.11069296651959512\n",
      "Accuracy 0.11408909815284317\n",
      "Accuracy 0.11120840630472854\n",
      "Accuracy 0.10685380596250384\n",
      "Accuracy 0.38164251207729466\n"
     ]
    }
   ],
   "source": [
    "accuracy_10k = accuracy_score(Y_test_new_10k, rfc_pred_10k)\n",
    "print('Accuracy', accuracy_10k)\n",
    "accuracy_11k = accuracy_score(Y_test_new_11k, rfc_pred_11k)\n",
    "print('Accuracy', accuracy_11k)\n",
    "accuracy_12k = accuracy_score(Y_test_new_12k, rfc_pred_12k)\n",
    "print('Accuracy', accuracy_12k)\n",
    "accuracy_13k = accuracy_score(Y_test_new_13k, rfc_pred_13k)\n",
    "print('Accuracy', accuracy_13k)\n",
    "accuracy_14k = accuracy_score(Y_test_new_14k, rfc_pred_14k)\n",
    "print('Accuracy', accuracy_14k)\n",
    "accuracy_15k = accuracy_score(Y_test_new_15k, rfc_pred_15k)\n",
    "print('Accuracy', accuracy_15k)"
   ]
  },
  {
   "cell_type": "code",
   "execution_count": 15,
   "id": "297f4b6f",
   "metadata": {},
   "outputs": [
    {
     "name": "stdout",
     "output_type": "stream",
     "text": [
      "Mean Average Precision@5 0.17559584985073165\n",
      "Mean Average Precision@5 0.18207241110822736\n",
      "Mean Average Precision@5 0.18394100366211918\n",
      "Mean Average Precision@5 0.18068447168709867\n",
      "Mean Average Precision@5 0.17539528053819622\n",
      "Mean Average Precision@5 0.42975584279932105\n"
     ]
    }
   ],
   "source": [
    "map_10k = mean_average_precision(Y_test_new_10k, rfc_prob_10k)\n",
    "print(\"Mean Average Precision@5\", map_10k)\n",
    "map_11k = mean_average_precision(Y_test_new_11k, rfc_prob_11k)\n",
    "print(\"Mean Average Precision@5\", map_11k)\n",
    "map_12k = mean_average_precision(Y_test_new_12k, rfc_prob_12k)\n",
    "print(\"Mean Average Precision@5\", map_12k)\n",
    "map_13k = mean_average_precision(Y_test_new_13k, rfc_prob_13k)\n",
    "print(\"Mean Average Precision@5\", map_13k)\n",
    "map_14k = mean_average_precision(Y_test_new_14k, rfc_prob_14k)\n",
    "print(\"Mean Average Precision@5\", map_14k)\n",
    "map_15k = mean_average_precision(Y_test_new_15k, rfc_prob_15k)\n",
    "print(\"Mean Average Precision@5\", map_15k)"
   ]
  },
  {
   "cell_type": "code",
   "execution_count": 16,
   "id": "a86f1129",
   "metadata": {},
   "outputs": [],
   "source": [
    "mapk_scores = [map_10k, map_11k, map_12k, map_13k, map_14k, map_15k]"
   ]
  },
  {
   "cell_type": "code",
   "execution_count": 17,
   "id": "4fb3ea3b",
   "metadata": {},
   "outputs": [
    {
     "data": {
      "image/png": "[encoded data removed]",
      "text/plain": [
       "<Figure size 432x288 with 1 Axes>"
      ]
     },
     "metadata": {
      "needs_background": "light"
     },
     "output_type": "display_data"
    }
   ],
   "source": [
    "dataset_size = [10000, 11000, 12000, 13000, 14000, 15000]\n",
    "\n",
    "plt.plot(dataset_size,mapk_scores)\n",
    "plt.title(\"Dataset Size vs MAPK Score for Random Forest\",fontsize=20)\n",
    "plt.xlabel(\"Size\",fontsize=17)\n",
    "plt.ylabel(\"MAPK Score\",fontsize=17)\n",
    "plt.show()"
   ]
  },
  {
   "cell_type": "code",
   "execution_count": 18,
   "id": "42cd4b02",
   "metadata": {},
   "outputs": [],
   "source": [
    "map_score = make_scorer(mean_average_precision, needs_proba=True, greater_is_better=True)"
   ]
  },
  {
   "cell_type": "code",
   "execution_count": 19,
   "id": "055db231",
   "metadata": {},
   "outputs": [],
   "source": [
    "param_grid_rfc = {'n_estimators': [100, 200, 300], 'max_depth': [5, 10, 20, None], 'min_samples_split': [2, 5, 10], 'min_samples_leaf': [1, 2, 4]}"
   ]
  },
  {
   "cell_type": "code",
   "execution_count": 20,
   "id": "855a3eea",
   "metadata": {},
   "outputs": [
    {
     "name": "stderr",
     "output_type": "stream",
     "text": [
      "C:\\Users\\kelly\\anaconda3\\lib\\site-packages\\sklearn\\model_selection\\_validation.py:610: FitFailedWarning: Estimator fit failed. The score on this train-test partition for these parameters will be set to nan. Details: \n",
      "Traceback (most recent call last):\n",
      "  File \"C:\\Users\\kelly\\anaconda3\\lib\\site-packages\\sklearn\\model_selection\\_validation.py\", line 593, in _fit_and_score\n",
      "    estimator.fit(X_train, y_train, **fit_params)\n",
      "  File \"C:\\Users\\kelly\\anaconda3\\lib\\site-packages\\sklearn\\ensemble\\_forest.py\", line 387, in fit\n",
      "    trees = Parallel(n_jobs=self.n_jobs, verbose=self.verbose,\n",
      "  File \"C:\\Users\\kelly\\anaconda3\\lib\\site-packages\\joblib\\parallel.py\", line 1046, in __call__\n",
      "    while self.dispatch_one_batch(iterator):\n",
      "  File \"C:\\Users\\kelly\\anaconda3\\lib\\site-packages\\joblib\\parallel.py\", line 861, in dispatch_one_batch\n",
      "    self._dispatch(tasks)\n",
      "  File \"C:\\Users\\kelly\\anaconda3\\lib\\site-packages\\joblib\\parallel.py\", line 779, in _dispatch\n",
      "    job = self._backend.apply_async(batch, callback=cb)\n",
      "  File \"C:\\Users\\kelly\\anaconda3\\lib\\site-packages\\joblib\\_parallel_backends.py\", line 208, in apply_async\n",
      "    result = ImmediateResult(func)\n",
      "  File \"C:\\Users\\kelly\\anaconda3\\lib\\site-packages\\joblib\\_parallel_backends.py\", line 572, in __init__\n",
      "    self.results = batch()\n",
      "  File \"C:\\Users\\kelly\\anaconda3\\lib\\site-packages\\joblib\\parallel.py\", line 262, in __call__\n",
      "    return [func(*args, **kwargs)\n",
      "  File \"C:\\Users\\kelly\\anaconda3\\lib\\site-packages\\joblib\\parallel.py\", line 262, in <listcomp>\n",
      "    return [func(*args, **kwargs)\n",
      "  File \"C:\\Users\\kelly\\anaconda3\\lib\\site-packages\\sklearn\\utils\\fixes.py\", line 222, in __call__\n",
      "    return self.function(*args, **kwargs)\n",
      "  File \"C:\\Users\\kelly\\anaconda3\\lib\\site-packages\\sklearn\\ensemble\\_forest.py\", line 169, in _parallel_build_trees\n",
      "    tree.fit(X, y, sample_weight=curr_sample_weight, check_input=False)\n",
      "  File \"C:\\Users\\kelly\\anaconda3\\lib\\site-packages\\sklearn\\tree\\_classes.py\", line 898, in fit\n",
      "    super().fit(\n",
      "  File \"C:\\Users\\kelly\\anaconda3\\lib\\site-packages\\sklearn\\tree\\_classes.py\", line 389, in fit\n",
      "    builder.build(self.tree_, X, y, sample_weight)\n",
      "  File \"sklearn\\tree\\_tree.pyx\", line 136, in sklearn.tree._tree.DepthFirstTreeBuilder.build\n",
      "  File \"sklearn\\tree\\_tree.pyx\", line 233, in sklearn.tree._tree.DepthFirstTreeBuilder.build\n",
      "  File \"sklearn\\tree\\_tree.pyx\", line 734, in sklearn.tree._tree.Tree._add_node\n",
      "  File \"sklearn\\tree\\_tree.pyx\", line 706, in sklearn.tree._tree.Tree._resize_c\n",
      "  File \"sklearn\\tree\\_utils.pyx\", line 41, in sklearn.tree._utils.safe_realloc\n",
      "MemoryError: could not allocate 209715200 bytes\n",
      "\n",
      "  warnings.warn(\"Estimator fit failed. The score on this train-test\"\n",
      "C:\\Users\\kelly\\anaconda3\\lib\\site-packages\\sklearn\\model_selection\\_validation.py:610: FitFailedWarning: Estimator fit failed. The score on this train-test partition for these parameters will be set to nan. Details: \n",
      "Traceback (most recent call last):\n",
      "  File \"C:\\Users\\kelly\\anaconda3\\lib\\site-packages\\sklearn\\model_selection\\_validation.py\", line 593, in _fit_and_score\n",
      "    estimator.fit(X_train, y_train, **fit_params)\n",
      "  File \"C:\\Users\\kelly\\anaconda3\\lib\\site-packages\\sklearn\\ensemble\\_forest.py\", line 387, in fit\n",
      "    trees = Parallel(n_jobs=self.n_jobs, verbose=self.verbose,\n",
      "  File \"C:\\Users\\kelly\\anaconda3\\lib\\site-packages\\joblib\\parallel.py\", line 1046, in __call__\n",
      "    while self.dispatch_one_batch(iterator):\n",
      "  File \"C:\\Users\\kelly\\anaconda3\\lib\\site-packages\\joblib\\parallel.py\", line 861, in dispatch_one_batch\n",
      "    self._dispatch(tasks)\n",
      "  File \"C:\\Users\\kelly\\anaconda3\\lib\\site-packages\\joblib\\parallel.py\", line 779, in _dispatch\n",
      "    job = self._backend.apply_async(batch, callback=cb)\n",
      "  File \"C:\\Users\\kelly\\anaconda3\\lib\\site-packages\\joblib\\_parallel_backends.py\", line 208, in apply_async\n",
      "    result = ImmediateResult(func)\n",
      "  File \"C:\\Users\\kelly\\anaconda3\\lib\\site-packages\\joblib\\_parallel_backends.py\", line 572, in __init__\n",
      "    self.results = batch()\n",
      "  File \"C:\\Users\\kelly\\anaconda3\\lib\\site-packages\\joblib\\parallel.py\", line 262, in __call__\n",
      "    return [func(*args, **kwargs)\n",
      "  File \"C:\\Users\\kelly\\anaconda3\\lib\\site-packages\\joblib\\parallel.py\", line 262, in <listcomp>\n",
      "    return [func(*args, **kwargs)\n",
      "  File \"C:\\Users\\kelly\\anaconda3\\lib\\site-packages\\sklearn\\utils\\fixes.py\", line 222, in __call__\n",
      "    return self.function(*args, **kwargs)\n",
      "  File \"C:\\Users\\kelly\\anaconda3\\lib\\site-packages\\sklearn\\ensemble\\_forest.py\", line 169, in _parallel_build_trees\n",
      "    tree.fit(X, y, sample_weight=curr_sample_weight, check_input=False)\n",
      "  File \"C:\\Users\\kelly\\anaconda3\\lib\\site-packages\\sklearn\\tree\\_classes.py\", line 898, in fit\n",
      "    super().fit(\n",
      "  File \"C:\\Users\\kelly\\anaconda3\\lib\\site-packages\\sklearn\\tree\\_classes.py\", line 389, in fit\n",
      "    builder.build(self.tree_, X, y, sample_weight)\n",
      "  File \"sklearn\\tree\\_tree.pyx\", line 136, in sklearn.tree._tree.DepthFirstTreeBuilder.build\n",
      "  File \"sklearn\\tree\\_tree.pyx\", line 233, in sklearn.tree._tree.DepthFirstTreeBuilder.build\n",
      "  File \"sklearn\\tree\\_tree.pyx\", line 734, in sklearn.tree._tree.Tree._add_node\n",
      "  File \"sklearn\\tree\\_tree.pyx\", line 706, in sklearn.tree._tree.Tree._resize_c\n",
      "  File \"sklearn\\tree\\_utils.pyx\", line 41, in sklearn.tree._utils.safe_realloc\n",
      "MemoryError: could not allocate 209715200 bytes\n",
      "\n",
      "  warnings.warn(\"Estimator fit failed. The score on this train-test\"\n",
      "C:\\Users\\kelly\\anaconda3\\lib\\site-packages\\sklearn\\model_selection\\_validation.py:610: FitFailedWarning: Estimator fit failed. The score on this train-test partition for these parameters will be set to nan. Details: \n",
      "Traceback (most recent call last):\n",
      "  File \"C:\\Users\\kelly\\anaconda3\\lib\\site-packages\\sklearn\\model_selection\\_validation.py\", line 593, in _fit_and_score\n",
      "    estimator.fit(X_train, y_train, **fit_params)\n",
      "  File \"C:\\Users\\kelly\\anaconda3\\lib\\site-packages\\sklearn\\ensemble\\_forest.py\", line 387, in fit\n",
      "    trees = Parallel(n_jobs=self.n_jobs, verbose=self.verbose,\n",
      "  File \"C:\\Users\\kelly\\anaconda3\\lib\\site-packages\\joblib\\parallel.py\", line 1046, in __call__\n",
      "    while self.dispatch_one_batch(iterator):\n",
      "  File \"C:\\Users\\kelly\\anaconda3\\lib\\site-packages\\joblib\\parallel.py\", line 861, in dispatch_one_batch\n",
      "    self._dispatch(tasks)\n",
      "  File \"C:\\Users\\kelly\\anaconda3\\lib\\site-packages\\joblib\\parallel.py\", line 779, in _dispatch\n",
      "    job = self._backend.apply_async(batch, callback=cb)\n",
      "  File \"C:\\Users\\kelly\\anaconda3\\lib\\site-packages\\joblib\\_parallel_backends.py\", line 208, in apply_async\n",
      "    result = ImmediateResult(func)\n",
      "  File \"C:\\Users\\kelly\\anaconda3\\lib\\site-packages\\joblib\\_parallel_backends.py\", line 572, in __init__\n",
      "    self.results = batch()\n",
      "  File \"C:\\Users\\kelly\\anaconda3\\lib\\site-packages\\joblib\\parallel.py\", line 262, in __call__\n",
      "    return [func(*args, **kwargs)\n",
      "  File \"C:\\Users\\kelly\\anaconda3\\lib\\site-packages\\joblib\\parallel.py\", line 262, in <listcomp>\n",
      "    return [func(*args, **kwargs)\n",
      "  File \"C:\\Users\\kelly\\anaconda3\\lib\\site-packages\\sklearn\\utils\\fixes.py\", line 222, in __call__\n",
      "    return self.function(*args, **kwargs)\n",
      "  File \"C:\\Users\\kelly\\anaconda3\\lib\\site-packages\\sklearn\\ensemble\\_forest.py\", line 169, in _parallel_build_trees\n",
      "    tree.fit(X, y, sample_weight=curr_sample_weight, check_input=False)\n",
      "  File \"C:\\Users\\kelly\\anaconda3\\lib\\site-packages\\sklearn\\tree\\_classes.py\", line 898, in fit\n",
      "    super().fit(\n",
      "  File \"C:\\Users\\kelly\\anaconda3\\lib\\site-packages\\sklearn\\tree\\_classes.py\", line 389, in fit\n",
      "    builder.build(self.tree_, X, y, sample_weight)\n",
      "  File \"sklearn\\tree\\_tree.pyx\", line 136, in sklearn.tree._tree.DepthFirstTreeBuilder.build\n",
      "  File \"sklearn\\tree\\_tree.pyx\", line 233, in sklearn.tree._tree.DepthFirstTreeBuilder.build\n",
      "  File \"sklearn\\tree\\_tree.pyx\", line 734, in sklearn.tree._tree.Tree._add_node\n",
      "  File \"sklearn\\tree\\_tree.pyx\", line 706, in sklearn.tree._tree.Tree._resize_c\n",
      "  File \"sklearn\\tree\\_utils.pyx\", line 41, in sklearn.tree._utils.safe_realloc\n",
      "MemoryError: could not allocate 209715200 bytes\n",
      "\n",
      "  warnings.warn(\"Estimator fit failed. The score on this train-test\"\n",
      "C:\\Users\\kelly\\anaconda3\\lib\\site-packages\\sklearn\\model_selection\\_validation.py:610: FitFailedWarning: Estimator fit failed. The score on this train-test partition for these parameters will be set to nan. Details: \n",
      "Traceback (most recent call last):\n",
      "  File \"C:\\Users\\kelly\\anaconda3\\lib\\site-packages\\sklearn\\model_selection\\_validation.py\", line 593, in _fit_and_score\n",
      "    estimator.fit(X_train, y_train, **fit_params)\n",
      "  File \"C:\\Users\\kelly\\anaconda3\\lib\\site-packages\\sklearn\\ensemble\\_forest.py\", line 387, in fit\n",
      "    trees = Parallel(n_jobs=self.n_jobs, verbose=self.verbose,\n",
      "  File \"C:\\Users\\kelly\\anaconda3\\lib\\site-packages\\joblib\\parallel.py\", line 1046, in __call__\n",
      "    while self.dispatch_one_batch(iterator):\n",
      "  File \"C:\\Users\\kelly\\anaconda3\\lib\\site-packages\\joblib\\parallel.py\", line 861, in dispatch_one_batch\n",
      "    self._dispatch(tasks)\n",
      "  File \"C:\\Users\\kelly\\anaconda3\\lib\\site-packages\\joblib\\parallel.py\", line 779, in _dispatch\n",
      "    job = self._backend.apply_async(batch, callback=cb)\n",
      "  File \"C:\\Users\\kelly\\anaconda3\\lib\\site-packages\\joblib\\_parallel_backends.py\", line 208, in apply_async\n",
      "    result = ImmediateResult(func)\n",
      "  File \"C:\\Users\\kelly\\anaconda3\\lib\\site-packages\\joblib\\_parallel_backends.py\", line 572, in __init__\n",
      "    self.results = batch()\n",
      "  File \"C:\\Users\\kelly\\anaconda3\\lib\\site-packages\\joblib\\parallel.py\", line 262, in __call__\n",
      "    return [func(*args, **kwargs)\n",
      "  File \"C:\\Users\\kelly\\anaconda3\\lib\\site-packages\\joblib\\parallel.py\", line 262, in <listcomp>\n",
      "    return [func(*args, **kwargs)\n",
      "  File \"C:\\Users\\kelly\\anaconda3\\lib\\site-packages\\sklearn\\utils\\fixes.py\", line 222, in __call__\n",
      "    return self.function(*args, **kwargs)\n",
      "  File \"C:\\Users\\kelly\\anaconda3\\lib\\site-packages\\sklearn\\ensemble\\_forest.py\", line 169, in _parallel_build_trees\n",
      "    tree.fit(X, y, sample_weight=curr_sample_weight, check_input=False)\n",
      "  File \"C:\\Users\\kelly\\anaconda3\\lib\\site-packages\\sklearn\\tree\\_classes.py\", line 898, in fit\n",
      "    super().fit(\n",
      "  File \"C:\\Users\\kelly\\anaconda3\\lib\\site-packages\\sklearn\\tree\\_classes.py\", line 389, in fit\n",
      "    builder.build(self.tree_, X, y, sample_weight)\n",
      "  File \"sklearn\\tree\\_tree.pyx\", line 136, in sklearn.tree._tree.DepthFirstTreeBuilder.build\n",
      "  File \"sklearn\\tree\\_tree.pyx\", line 233, in sklearn.tree._tree.DepthFirstTreeBuilder.build\n",
      "  File \"sklearn\\tree\\_tree.pyx\", line 734, in sklearn.tree._tree.Tree._add_node\n",
      "  File \"sklearn\\tree\\_tree.pyx\", line 706, in sklearn.tree._tree.Tree._resize_c\n",
      "  File \"sklearn\\tree\\_utils.pyx\", line 41, in sklearn.tree._utils.safe_realloc\n",
      "MemoryError: could not allocate 209715200 bytes\n",
      "\n",
      "  warnings.warn(\"Estimator fit failed. The score on this train-test\"\n"
     ]
    },
    {
     "name": "stderr",
     "output_type": "stream",
     "text": [
      "C:\\Users\\kelly\\anaconda3\\lib\\site-packages\\sklearn\\model_selection\\_validation.py:610: FitFailedWarning: Estimator fit failed. The score on this train-test partition for these parameters will be set to nan. Details: \n",
      "Traceback (most recent call last):\n",
      "  File \"C:\\Users\\kelly\\anaconda3\\lib\\site-packages\\sklearn\\model_selection\\_validation.py\", line 593, in _fit_and_score\n",
      "    estimator.fit(X_train, y_train, **fit_params)\n",
      "  File \"C:\\Users\\kelly\\anaconda3\\lib\\site-packages\\sklearn\\ensemble\\_forest.py\", line 387, in fit\n",
      "    trees = Parallel(n_jobs=self.n_jobs, verbose=self.verbose,\n",
      "  File \"C:\\Users\\kelly\\anaconda3\\lib\\site-packages\\joblib\\parallel.py\", line 1046, in __call__\n",
      "    while self.dispatch_one_batch(iterator):\n",
      "  File \"C:\\Users\\kelly\\anaconda3\\lib\\site-packages\\joblib\\parallel.py\", line 861, in dispatch_one_batch\n",
      "    self._dispatch(tasks)\n",
      "  File \"C:\\Users\\kelly\\anaconda3\\lib\\site-packages\\joblib\\parallel.py\", line 779, in _dispatch\n",
      "    job = self._backend.apply_async(batch, callback=cb)\n",
      "  File \"C:\\Users\\kelly\\anaconda3\\lib\\site-packages\\joblib\\_parallel_backends.py\", line 208, in apply_async\n",
      "    result = ImmediateResult(func)\n",
      "  File \"C:\\Users\\kelly\\anaconda3\\lib\\site-packages\\joblib\\_parallel_backends.py\", line 572, in __init__\n",
      "    self.results = batch()\n",
      "  File \"C:\\Users\\kelly\\anaconda3\\lib\\site-packages\\joblib\\parallel.py\", line 262, in __call__\n",
      "    return [func(*args, **kwargs)\n",
      "  File \"C:\\Users\\kelly\\anaconda3\\lib\\site-packages\\joblib\\parallel.py\", line 262, in <listcomp>\n",
      "    return [func(*args, **kwargs)\n",
      "  File \"C:\\Users\\kelly\\anaconda3\\lib\\site-packages\\sklearn\\utils\\fixes.py\", line 222, in __call__\n",
      "    return self.function(*args, **kwargs)\n",
      "  File \"C:\\Users\\kelly\\anaconda3\\lib\\site-packages\\sklearn\\ensemble\\_forest.py\", line 169, in _parallel_build_trees\n",
      "    tree.fit(X, y, sample_weight=curr_sample_weight, check_input=False)\n",
      "  File \"C:\\Users\\kelly\\anaconda3\\lib\\site-packages\\sklearn\\tree\\_classes.py\", line 898, in fit\n",
      "    super().fit(\n",
      "  File \"C:\\Users\\kelly\\anaconda3\\lib\\site-packages\\sklearn\\tree\\_classes.py\", line 389, in fit\n",
      "    builder.build(self.tree_, X, y, sample_weight)\n",
      "  File \"sklearn\\tree\\_tree.pyx\", line 136, in sklearn.tree._tree.DepthFirstTreeBuilder.build\n",
      "  File \"sklearn\\tree\\_tree.pyx\", line 233, in sklearn.tree._tree.DepthFirstTreeBuilder.build\n",
      "  File \"sklearn\\tree\\_tree.pyx\", line 734, in sklearn.tree._tree.Tree._add_node\n",
      "  File \"sklearn\\tree\\_tree.pyx\", line 706, in sklearn.tree._tree.Tree._resize_c\n",
      "  File \"sklearn\\tree\\_utils.pyx\", line 41, in sklearn.tree._utils.safe_realloc\n",
      "MemoryError: could not allocate 209715200 bytes\n",
      "\n",
      "  warnings.warn(\"Estimator fit failed. The score on this train-test\"\n",
      "C:\\Users\\kelly\\anaconda3\\lib\\site-packages\\sklearn\\model_selection\\_validation.py:610: FitFailedWarning: Estimator fit failed. The score on this train-test partition for these parameters will be set to nan. Details: \n",
      "Traceback (most recent call last):\n",
      "  File \"C:\\Users\\kelly\\anaconda3\\lib\\site-packages\\sklearn\\model_selection\\_validation.py\", line 593, in _fit_and_score\n",
      "    estimator.fit(X_train, y_train, **fit_params)\n",
      "  File \"C:\\Users\\kelly\\anaconda3\\lib\\site-packages\\sklearn\\ensemble\\_forest.py\", line 387, in fit\n",
      "    trees = Parallel(n_jobs=self.n_jobs, verbose=self.verbose,\n",
      "  File \"C:\\Users\\kelly\\anaconda3\\lib\\site-packages\\joblib\\parallel.py\", line 1046, in __call__\n",
      "    while self.dispatch_one_batch(iterator):\n",
      "  File \"C:\\Users\\kelly\\anaconda3\\lib\\site-packages\\joblib\\parallel.py\", line 861, in dispatch_one_batch\n",
      "    self._dispatch(tasks)\n",
      "  File \"C:\\Users\\kelly\\anaconda3\\lib\\site-packages\\joblib\\parallel.py\", line 779, in _dispatch\n",
      "    job = self._backend.apply_async(batch, callback=cb)\n",
      "  File \"C:\\Users\\kelly\\anaconda3\\lib\\site-packages\\joblib\\_parallel_backends.py\", line 208, in apply_async\n",
      "    result = ImmediateResult(func)\n",
      "  File \"C:\\Users\\kelly\\anaconda3\\lib\\site-packages\\joblib\\_parallel_backends.py\", line 572, in __init__\n",
      "    self.results = batch()\n",
      "  File \"C:\\Users\\kelly\\anaconda3\\lib\\site-packages\\joblib\\parallel.py\", line 262, in __call__\n",
      "    return [func(*args, **kwargs)\n",
      "  File \"C:\\Users\\kelly\\anaconda3\\lib\\site-packages\\joblib\\parallel.py\", line 262, in <listcomp>\n",
      "    return [func(*args, **kwargs)\n",
      "  File \"C:\\Users\\kelly\\anaconda3\\lib\\site-packages\\sklearn\\utils\\fixes.py\", line 222, in __call__\n",
      "    return self.function(*args, **kwargs)\n",
      "  File \"C:\\Users\\kelly\\anaconda3\\lib\\site-packages\\sklearn\\ensemble\\_forest.py\", line 169, in _parallel_build_trees\n",
      "    tree.fit(X, y, sample_weight=curr_sample_weight, check_input=False)\n",
      "  File \"C:\\Users\\kelly\\anaconda3\\lib\\site-packages\\sklearn\\tree\\_classes.py\", line 898, in fit\n",
      "    super().fit(\n",
      "  File \"C:\\Users\\kelly\\anaconda3\\lib\\site-packages\\sklearn\\tree\\_classes.py\", line 389, in fit\n",
      "    builder.build(self.tree_, X, y, sample_weight)\n",
      "  File \"sklearn\\tree\\_tree.pyx\", line 136, in sklearn.tree._tree.DepthFirstTreeBuilder.build\n",
      "  File \"sklearn\\tree\\_tree.pyx\", line 233, in sklearn.tree._tree.DepthFirstTreeBuilder.build\n",
      "  File \"sklearn\\tree\\_tree.pyx\", line 734, in sklearn.tree._tree.Tree._add_node\n",
      "  File \"sklearn\\tree\\_tree.pyx\", line 706, in sklearn.tree._tree.Tree._resize_c\n",
      "  File \"sklearn\\tree\\_utils.pyx\", line 41, in sklearn.tree._utils.safe_realloc\n",
      "MemoryError: could not allocate 209715200 bytes\n",
      "\n",
      "  warnings.warn(\"Estimator fit failed. The score on this train-test\"\n",
      "C:\\Users\\kelly\\anaconda3\\lib\\site-packages\\sklearn\\model_selection\\_search.py:918: UserWarning: One or more of the test scores are non-finite: [0.15156751 0.15299688 0.15371446 0.151643   0.15302305 0.15372328\n",
      " 0.15174017 0.15305284 0.15382886 0.15146526 0.15298056 0.15367977\n",
      " 0.15153633 0.15298951 0.1536976  0.15168222 0.15304933 0.15379919\n",
      " 0.15149463 0.15298237 0.15379605 0.15149463 0.15298237 0.15379605\n",
      " 0.15169841 0.15301694 0.15373011 0.198253   0.19938793 0.19941217\n",
      " 0.19829349 0.19941392 0.19974316 0.19854652 0.19943779 0.1995421\n",
      " 0.19835749 0.19888616 0.19967149 0.19791185 0.19873556 0.19920645\n",
      " 0.1982284  0.19919932 0.19971192 0.19829482 0.19913738 0.19964556\n",
      " 0.19829482 0.19913738 0.19964556 0.19790315 0.19933989 0.1997147\n",
      " 0.20088486 0.20669901 0.20855842 0.20423684 0.20822748 0.20996518\n",
      " 0.20752102 0.21111758 0.21253504 0.20582019 0.20985217 0.2111658\n",
      " 0.20562826 0.20990958 0.21132106 0.20841289 0.21162588 0.21304703\n",
      " 0.2083721  0.21173937 0.21292882 0.2083721  0.21173937 0.21292882\n",
      " 0.2091816  0.21240915 0.21370502 0.18667661        nan        nan\n",
      " 0.19470727 0.20086087 0.20256025 0.20182804 0.20674156 0.20830454\n",
      " 0.19927438 0.20413568 0.20544103 0.19884222 0.20362248 0.20540018\n",
      " 0.20306408 0.20785582 0.20933613 0.20511204 0.20853823 0.21063272\n",
      " 0.20511204 0.20853823 0.21063272 0.20596378 0.21007184 0.21126383]\n",
      "  warnings.warn(\n"
     ]
    },
    {
     "data": {
      "text/plain": [
       "GridSearchCV(cv=3,\n",
       "             estimator=RandomForestClassifier(n_estimators=23, random_state=42),\n",
       "             param_grid={'max_depth': [5, 10, 20, None],\n",
       "                         'min_samples_leaf': [1, 2, 4],\n",
       "                         'min_samples_split': [2, 5, 10],\n",
       "                         'n_estimators': [100, 200, 300]},\n",
       "             scoring=make_scorer(mean_average_precision, needs_proba=True))"
      ]
     },
     "execution_count": 20,
     "metadata": {},
     "output_type": "execute_result"
    }
   ],
   "source": [
    "rfc = RandomForestClassifier(n_estimators=23, random_state=42)\n",
    "rfc_grid = GridSearchCV(estimator=rfc, param_grid=param_grid_rfc, scoring=map_score, cv=3)\n",
    "rfc_grid.fit(X_train_new_15k, Y_train_new_15k)"
   ]
  },
  {
   "cell_type": "code",
   "execution_count": 21,
   "id": "7fd5f8da",
   "metadata": {},
   "outputs": [
    {
     "name": "stdout",
     "output_type": "stream",
     "text": [
      "{'max_depth': 20, 'min_samples_leaf': 4, 'min_samples_split': 10, 'n_estimators': 300}\n"
     ]
    }
   ],
   "source": [
    "print(rfc_grid.best_params_)"
   ]
  },
  {
   "cell_type": "code",
   "execution_count": 23,
   "id": "bbdfb736",
   "metadata": {},
   "outputs": [
    {
     "name": "stdout",
     "output_type": "stream",
     "text": [
      "Accuracy after gridsearch 0.36414675545110325\n",
      "Mean Average Precision@5 after gridsearch 0.4454345649997824\n"
     ]
    }
   ],
   "source": [
    "###### y_test_grid = rfc_grid.predict(X_test_new_15k)\n",
    "y_test_proba_grid = rfc_grid.predict_proba(X_test_new_15k)\n",
    "accuracy_grid = accuracy_score(Y_test_new_15k, y_test_grid)\n",
    "print('Accuracy after gridsearch', accuracy_grid)\n",
    "map_grid = mean_average_precision(Y_test_new_15k, y_test_proba_grid)\n",
    "print(\"Mean Average Precision@5 after gridsearch\", map_grid)"
   ]
  }
 ],
 "metadata": {
  "kernelspec": {
   "display_name": "Python 3 (ipykernel)",
   "language": "python",
   "name": "python3"
  },
  "language_info": {
   "codemirror_mode": {
    "name": "ipython",
    "version": 3
   },
   "file_extension": ".py",
   "mimetype": "text/x-python",
   "name": "python",
   "nbconvert_exporter": "python",
   "pygments_lexer": "ipython3",
   "version": "3.9.7"
  }
 },
 "nbformat": 4,
 "nbformat_minor": 5
}
