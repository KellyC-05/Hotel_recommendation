{
 "cells": [
  {
   "cell_type": "code",
   "execution_count": 1,
   "id": "20ad0860-355e-4c1f-b65d-12f6f4756c7b",
   "metadata": {},
   "outputs": [],
   "source": [
    "#import all necessary libraries\n",
    "import numpy as np\n",
    "import pandas as pd\n",
    "import seaborn as sns\n",
    "import matplotlib.pyplot as plt\n",
    "from sklearn.metrics import accuracy_score\n",
    "import ml_metrics as metrics"
   ]
  },
  {
   "cell_type": "code",
   "execution_count": 2,
   "id": "228f1530-a8f6-433e-8796-02f1b2f583ec",
   "metadata": {},
   "outputs": [],
   "source": [
    "#load datasets\n",
    "train_10k = pd.read_csv('train_downsampled_10k.csv')\n",
    "train_11k = pd.read_csv('train_downsampled_11k.csv')\n",
    "train_12k = pd.read_csv('train_downsampled_12k.csv')\n",
    "train_13k = pd.read_csv('train_downsampled_13k.csv')\n",
    "train_14k = pd.read_csv('train_downsampled_14k.csv')\n",
    "train_15k = pd.read_csv('train_downsampled_15k.csv')"
   ]
  },
  {
   "cell_type": "code",
   "execution_count": 3,
   "id": "81b7a039-c18c-49cd-8b86-167e8874bff9",
   "metadata": {},
   "outputs": [],
   "source": [
    "# Drop unnecessary features\n",
    "train_10k = train_10k.drop(['date_time'], axis=1)\n",
    "train_10k = train_10k.drop(['srch_ci'], axis=1)\n",
    "train_10k = train_10k.drop(['srch_co'], axis=1)\n",
    "\n",
    "train_11k = train_11k.drop(['date_time'], axis=1)\n",
    "train_11k = train_11k.drop(['srch_ci'], axis=1)\n",
    "train_11k = train_11k.drop(['srch_co'], axis=1)\n",
    "\n",
    "train_12k = train_12k.drop(['date_time'], axis=1)\n",
    "train_12k = train_12k.drop(['srch_ci'], axis=1)\n",
    "train_12k = train_12k.drop(['srch_co'], axis=1)\n",
    "\n",
    "train_13k = train_13k.drop(['date_time'], axis=1)\n",
    "train_13k = train_13k.drop(['srch_ci'], axis=1)\n",
    "train_13k = train_13k.drop(['srch_co'], axis=1)\n",
    "\n",
    "train_14k = train_14k.drop(['date_time'], axis=1)\n",
    "train_14k = train_14k.drop(['srch_ci'], axis=1)\n",
    "train_14k = train_14k.drop(['srch_co'], axis=1)\n",
    "\n",
    "train_15k = train_15k.drop(['date_time'], axis=1)\n",
    "train_15k = train_15k.drop(['srch_ci'], axis=1)\n",
    "train_15k = train_15k.drop(['srch_co'], axis=1)"
   ]
  },
  {
   "cell_type": "code",
   "execution_count": 4,
   "id": "496e8721-c445-4eff-b892-202726117953",
   "metadata": {},
   "outputs": [],
   "source": [
    "#Split the data\n",
    "train_new_10k = train_10k[((train_10k.year == 2013) | ((train_10k.year == 2014) & (train_10k.month < 8)))]\n",
    "test_new_10k = train_10k[((train_10k.year == 2014) & (train_10k.month >= 8))]\n",
    "train_new_11k = train_11k[((train_11k.year == 2013) | ((train_11k.year == 2014) & (train_11k.month < 8)))]\n",
    "test_new_11k = train_11k[((train_11k.year == 2014) & (train_11k.month >= 8))]\n",
    "train_new_12k = train_12k[((train_12k.year == 2013) | ((train_12k.year == 2014) & (train_12k.month < 8)))]\n",
    "test_new_12k = train_12k[((train_12k.year == 2014) & (train_12k.month >= 8))]\n",
    "train_new_13k = train_13k[((train_13k.year == 2013) | ((train_13k.year == 2014) & (train_13k.month < 8)))]\n",
    "test_new_13k = train_13k[((train_13k.year == 2014) & (train_13k.month >= 8))]\n",
    "train_new_14k = train_14k[((train_14k.year == 2013) | ((train_14k.year == 2014) & (train_14k.month < 8)))]\n",
    "test_new_14k = train_14k[((train_14k.year == 2014) & (train_14k.month >= 8))]\n",
    "train_new_15k = train_15k[((train_15k.year == 2013) | ((train_15k.year == 2014) & (train_15k.month < 8)))]\n",
    "test_new_15k = train_15k[((train_11k.year == 2014) & (train_15k.month >= 8))]"
   ]
  },
  {
   "cell_type": "code",
   "execution_count": 5,
   "id": "59e708ac-0219-4e0f-9a90-30a11493a201",
   "metadata": {},
   "outputs": [],
   "source": [
    "test_new_10k = test_new_10k[test_new_10k.is_booking == 1]\n",
    "test_new_11k = test_new_11k[test_new_11k.is_booking == 1]\n",
    "test_new_12k = test_new_12k[test_new_12k.is_booking == 1]\n",
    "test_new_13k = test_new_13k[test_new_13k.is_booking == 1]\n",
    "test_new_14k = test_new_14k[test_new_14k.is_booking == 1]\n",
    "test_new_15k = test_new_15k[test_new_15k.is_booking == 1]"
   ]
  },
  {
   "cell_type": "code",
   "execution_count": 6,
   "id": "77de0f84-4e6a-451d-baba-5b88235e53bd",
   "metadata": {},
   "outputs": [],
   "source": [
    "X_train_new_10k = train_new_10k.drop(['hotel_cluster'], axis=1)\n",
    "Y_train_new_10k = train_new_10k['hotel_cluster']\n",
    "X_train_new_11k = train_new_11k.drop(['hotel_cluster'], axis=1)\n",
    "Y_train_new_11k = train_new_11k['hotel_cluster']\n",
    "X_train_new_12k = train_new_12k.drop(['hotel_cluster'], axis=1)\n",
    "Y_train_new_12k = train_new_12k['hotel_cluster']\n",
    "X_train_new_13k = train_new_13k.drop(['hotel_cluster'], axis=1)\n",
    "Y_train_new_13k = train_new_13k['hotel_cluster']\n",
    "X_train_new_14k = train_new_14k.drop(['hotel_cluster'], axis=1)\n",
    "Y_train_new_14k = train_new_14k['hotel_cluster']\n",
    "X_train_new_15k = train_new_15k.drop(['hotel_cluster'], axis=1)\n",
    "Y_train_new_15k = train_new_15k['hotel_cluster']"
   ]
  },
  {
   "cell_type": "code",
   "execution_count": 7,
   "id": "7308cbfc-774f-4a7b-979c-1489ae5a9d0a",
   "metadata": {},
   "outputs": [],
   "source": [
    "def mean_average_precision(y_test, y_pred_proba):\n",
    "    y_pred_k = np.array([y_pred_proba[i].argsort()[-5:][::-1] \n",
    "        for i in range(len(y_test))]) # k=5 most likely predicted classes for each input\n",
    "    map_score = metrics.mapk(y_test.values[np.newaxis].T, y_pred_k, 5)\n",
    "    return map_score"
   ]
  },
  {
   "cell_type": "code",
   "execution_count": 8,
   "id": "0d64281b-b4e2-499a-b32c-0a79e30cfe68",
   "metadata": {},
   "outputs": [],
   "source": [
    "from lightgbm import LGBMClassifier\n",
    "\n",
    "lgb_10k = LGBMClassifier()\n",
    "lgb_11k = LGBMClassifier()\n",
    "lgb_12k = LGBMClassifier()\n",
    "lgb_13k = LGBMClassifier()\n",
    "lgb_14k = LGBMClassifier()\n",
    "lgb_15k = LGBMClassifier()"
   ]
  },
  {
   "cell_type": "code",
   "execution_count": 9,
   "id": "a8439bb1-733a-4085-9d02-760c4d2dc3c1",
   "metadata": {},
   "outputs": [
    {
     "data": {
      "text/html": [
       "<style>#sk-container-id-1 {color: black;background-color: white;}#sk-container-id-1 pre{padding: 0;}#sk-container-id-1 div.sk-toggleable {background-color: white;}#sk-container-id-1 label.sk-toggleable__label {cursor: pointer;display: block;width: 100%;margin-bottom: 0;padding: 0.3em;box-sizing: border-box;text-align: center;}#sk-container-id-1 label.sk-toggleable__label-arrow:before {content: \"▸\";float: left;margin-right: 0.25em;color: #696969;}#sk-container-id-1 label.sk-toggleable__label-arrow:hover:before {color: black;}#sk-container-id-1 div.sk-estimator:hover label.sk-toggleable__label-arrow:before {color: black;}#sk-container-id-1 div.sk-toggleable__content {max-height: 0;max-width: 0;overflow: hidden;text-align: left;background-color: #f0f8ff;}#sk-container-id-1 div.sk-toggleable__content pre {margin: 0.2em;color: black;border-radius: 0.25em;background-color: #f0f8ff;}#sk-container-id-1 input.sk-toggleable__control:checked~div.sk-toggleable__content {max-height: 200px;max-width: 100%;overflow: auto;}#sk-container-id-1 input.sk-toggleable__control:checked~label.sk-toggleable__label-arrow:before {content: \"▾\";}#sk-container-id-1 div.sk-estimator input.sk-toggleable__control:checked~label.sk-toggleable__label {background-color: #d4ebff;}#sk-container-id-1 div.sk-label input.sk-toggleable__control:checked~label.sk-toggleable__label {background-color: #d4ebff;}#sk-container-id-1 input.sk-hidden--visually {border: 0;clip: rect(1px 1px 1px 1px);clip: rect(1px, 1px, 1px, 1px);height: 1px;margin: -1px;overflow: hidden;padding: 0;position: absolute;width: 1px;}#sk-container-id-1 div.sk-estimator {font-family: monospace;background-color: #f0f8ff;border: 1px dotted black;border-radius: 0.25em;box-sizing: border-box;margin-bottom: 0.5em;}#sk-container-id-1 div.sk-estimator:hover {background-color: #d4ebff;}#sk-container-id-1 div.sk-parallel-item::after {content: \"\";width: 100%;border-bottom: 1px solid gray;flex-grow: 1;}#sk-container-id-1 div.sk-label:hover label.sk-toggleable__label {background-color: #d4ebff;}#sk-container-id-1 div.sk-serial::before {content: \"\";position: absolute;border-left: 1px solid gray;box-sizing: border-box;top: 0;bottom: 0;left: 50%;z-index: 0;}#sk-container-id-1 div.sk-serial {display: flex;flex-direction: column;align-items: center;background-color: white;padding-right: 0.2em;padding-left: 0.2em;position: relative;}#sk-container-id-1 div.sk-item {position: relative;z-index: 1;}#sk-container-id-1 div.sk-parallel {display: flex;align-items: stretch;justify-content: center;background-color: white;position: relative;}#sk-container-id-1 div.sk-item::before, #sk-container-id-1 div.sk-parallel-item::before {content: \"\";position: absolute;border-left: 1px solid gray;box-sizing: border-box;top: 0;bottom: 0;left: 50%;z-index: -1;}#sk-container-id-1 div.sk-parallel-item {display: flex;flex-direction: column;z-index: 1;position: relative;background-color: white;}#sk-container-id-1 div.sk-parallel-item:first-child::after {align-self: flex-end;width: 50%;}#sk-container-id-1 div.sk-parallel-item:last-child::after {align-self: flex-start;width: 50%;}#sk-container-id-1 div.sk-parallel-item:only-child::after {width: 0;}#sk-container-id-1 div.sk-dashed-wrapped {border: 1px dashed gray;margin: 0 0.4em 0.5em 0.4em;box-sizing: border-box;padding-bottom: 0.4em;background-color: white;}#sk-container-id-1 div.sk-label label {font-family: monospace;font-weight: bold;display: inline-block;line-height: 1.2em;}#sk-container-id-1 div.sk-label-container {text-align: center;}#sk-container-id-1 div.sk-container {/* jupyter's `normalize.less` sets `[hidden] { display: none; }` but bootstrap.min.css set `[hidden] { display: none !important; }` so we also need the `!important` here to be able to override the default hidden behavior on the sphinx rendered scikit-learn.org. See: https://github.com/scikit-learn/scikit-learn/issues/21755 */display: inline-block !important;position: relative;}#sk-container-id-1 div.sk-text-repr-fallback {display: none;}</style><div id=\"sk-container-id-1\" class=\"sk-top-container\"><div class=\"sk-text-repr-fallback\"><pre>LGBMClassifier()</pre><b>In a Jupyter environment, please rerun this cell to show the HTML representation or trust the notebook. <br />On GitHub, the HTML representation is unable to render, please try loading this page with nbviewer.org.</b></div><div class=\"sk-container\" hidden><div class=\"sk-item\"><div class=\"sk-estimator sk-toggleable\"><input class=\"sk-toggleable__control sk-hidden--visually\" id=\"sk-estimator-id-1\" type=\"checkbox\" checked><label for=\"sk-estimator-id-1\" class=\"sk-toggleable__label sk-toggleable__label-arrow\">LGBMClassifier</label><div class=\"sk-toggleable__content\"><pre>LGBMClassifier()</pre></div></div></div></div></div>"
      ],
      "text/plain": [
       "LGBMClassifier()"
      ]
     },
     "execution_count": 9,
     "metadata": {},
     "output_type": "execute_result"
    }
   ],
   "source": [
    "lgb_10k.fit(X_train_new_10k, Y_train_new_10k)\n",
    "lgb_11k.fit(X_train_new_11k, Y_train_new_11k)\n",
    "lgb_12k.fit(X_train_new_12k, Y_train_new_12k)\n",
    "lgb_13k.fit(X_train_new_13k, Y_train_new_13k)\n",
    "lgb_14k.fit(X_train_new_14k, Y_train_new_14k)\n",
    "lgb_15k.fit(X_train_new_15k, Y_train_new_15k)"
   ]
  },
  {
   "cell_type": "code",
   "execution_count": 10,
   "id": "1c9cc94b-e223-445b-b030-739d9faa3db6",
   "metadata": {},
   "outputs": [],
   "source": [
    "X_test_new_10k = test_new_10k.drop(['hotel_cluster'], axis=1)\n",
    "Y_test_new_10k = test_new_10k['hotel_cluster']\n",
    "X_test_new_11k = test_new_11k.drop(['hotel_cluster'], axis=1)\n",
    "Y_test_new_11k = test_new_11k['hotel_cluster']\n",
    "X_test_new_12k = test_new_12k.drop(['hotel_cluster'], axis=1)\n",
    "Y_test_new_12k = test_new_12k['hotel_cluster']\n",
    "X_test_new_13k = test_new_13k.drop(['hotel_cluster'], axis=1)\n",
    "Y_test_new_13k = test_new_13k['hotel_cluster']\n",
    "X_test_new_14k = test_new_14k.drop(['hotel_cluster'], axis=1)\n",
    "Y_test_new_14k = test_new_14k['hotel_cluster']\n",
    "X_test_new_15k = test_new_15k.drop(['hotel_cluster'], axis=1)\n",
    "Y_test_new_15k = test_new_15k['hotel_cluster']"
   ]
  },
  {
   "cell_type": "code",
   "execution_count": 11,
   "id": "42cf84c0-8b0f-4c09-97c8-a79ff96e03f3",
   "metadata": {},
   "outputs": [],
   "source": [
    "Y_test_pred_10k = lgb_10k.predict(X_test_new_10k)\n",
    "Y_test_pred_proba_10k = lgb_10k.predict_proba(X_test_new_10k)\n",
    "Y_test_pred_11k = lgb_11k.predict(X_test_new_11k)\n",
    "Y_test_pred_proba_11k = lgb_11k.predict_proba(X_test_new_11k)\n",
    "Y_test_pred_12k = lgb_12k.predict(X_test_new_12k)\n",
    "Y_test_pred_proba_12k = lgb_12k.predict_proba(X_test_new_12k)\n",
    "Y_test_pred_13k = lgb_13k.predict(X_test_new_13k)\n",
    "Y_test_pred_proba_13k = lgb_13k.predict_proba(X_test_new_13k)\n",
    "Y_test_pred_14k = lgb_14k.predict(X_test_new_14k)\n",
    "Y_test_pred_proba_14k = lgb_14k.predict_proba(X_test_new_14k)\n",
    "Y_test_pred_15k = lgb_15k.predict(X_test_new_15k)\n",
    "Y_test_pred_proba_15k = lgb_15k.predict_proba(X_test_new_15k)"
   ]
  },
  {
   "cell_type": "code",
   "execution_count": 12,
   "id": "ff3ddc34-5d60-4a3a-950e-f252ec3bccb1",
   "metadata": {},
   "outputs": [
    {
     "name": "stdout",
     "output_type": "stream",
     "text": [
      "[[0.00000000e+00 0.00000000e+00 0.00000000e+00 ... 0.00000000e+00\n",
      "  0.00000000e+00 0.00000000e+00]\n",
      " [5.34857282e-03 6.80208195e-06 1.53411500e-03 ... 1.41488756e-03\n",
      "  1.89480766e-02 2.64830572e-03]\n",
      " [0.00000000e+00 0.00000000e+00 0.00000000e+00 ... 0.00000000e+00\n",
      "  0.00000000e+00 0.00000000e+00]\n",
      " ...\n",
      " [0.00000000e+00 0.00000000e+00 0.00000000e+00 ... 0.00000000e+00\n",
      "  0.00000000e+00 0.00000000e+00]\n",
      " [0.00000000e+00 0.00000000e+00 0.00000000e+00 ... 0.00000000e+00\n",
      "  0.00000000e+00 0.00000000e+00]\n",
      " [0.00000000e+00 0.00000000e+00 0.00000000e+00 ... 0.00000000e+00\n",
      "  0.00000000e+00 0.00000000e+00]]\n"
     ]
    }
   ],
   "source": [
    "print(Y_test_pred_proba_10k)"
   ]
  },
  {
   "cell_type": "code",
   "execution_count": 13,
   "id": "536405fc-776a-4aa9-8166-ec9e91f6ae1a",
   "metadata": {},
   "outputs": [
    {
     "name": "stdout",
     "output_type": "stream",
     "text": [
      "Accuracy 0.055204815739245336\n",
      "Accuracy 0.06605242668050869\n",
      "Accuracy 0.05988168537969335\n",
      "Accuracy 0.05319614711033275\n",
      "Accuracy 0.06915275074275176\n",
      "Accuracy 0.08878443661052357\n"
     ]
    }
   ],
   "source": [
    "accuracy_10k = accuracy_score(Y_test_new_10k, Y_test_pred_10k)\n",
    "print('Accuracy', accuracy_10k)\n",
    "accuracy_11k = accuracy_score(Y_test_new_11k, Y_test_pred_11k)\n",
    "print('Accuracy', accuracy_11k)\n",
    "accuracy_12k = accuracy_score(Y_test_new_12k, Y_test_pred_12k)\n",
    "print('Accuracy', accuracy_12k)\n",
    "accuracy_13k = accuracy_score(Y_test_new_13k, Y_test_pred_13k)\n",
    "print('Accuracy', accuracy_13k)\n",
    "accuracy_14k = accuracy_score(Y_test_new_14k, Y_test_pred_14k)\n",
    "print('Accuracy', accuracy_14k)\n",
    "accuracy_15k = accuracy_score(Y_test_new_15k, Y_test_pred_15k)\n",
    "print('Accuracy', accuracy_15k)"
   ]
  },
  {
   "cell_type": "code",
   "execution_count": 14,
   "id": "75550342-9b5d-49b1-894c-42d0825b4cfd",
   "metadata": {},
   "outputs": [
    {
     "name": "stdout",
     "output_type": "stream",
     "text": [
      "Mean Average Precision@5 0.10895610042578181\n",
      "Mean Average Precision@5 0.1286940911843585\n",
      "Mean Average Precision@5 0.11625417521831863\n",
      "Mean Average Precision@5 0.1046847635726795\n",
      "Mean Average Precision@5 0.13739712461154938\n",
      "Mean Average Precision@5 0.13634068851460154\n"
     ]
    }
   ],
   "source": [
    "map_10k = mean_average_precision(Y_test_new_10k, Y_test_pred_proba_10k)\n",
    "print(\"Mean Average Precision@5\", map_10k)\n",
    "map_11k = mean_average_precision(Y_test_new_11k, Y_test_pred_proba_11k)\n",
    "print(\"Mean Average Precision@5\", map_11k)\n",
    "map_12k = mean_average_precision(Y_test_new_12k, Y_test_pred_proba_12k)\n",
    "print(\"Mean Average Precision@5\", map_12k)\n",
    "map_13k = mean_average_precision(Y_test_new_13k, Y_test_pred_proba_13k)\n",
    "print(\"Mean Average Precision@5\", map_13k)\n",
    "map_14k = mean_average_precision(Y_test_new_14k, Y_test_pred_proba_14k)\n",
    "print(\"Mean Average Precision@5\", map_14k)\n",
    "map_15k = mean_average_precision(Y_test_new_15k, Y_test_pred_proba_15k)\n",
    "print(\"Mean Average Precision@5\", map_15k)"
   ]
  },
  {
   "cell_type": "code",
   "execution_count": 15,
   "id": "fe66ee0a-a3e6-4c51-b1a6-14063228c9ed",
   "metadata": {},
   "outputs": [],
   "source": [
    "mapk_scores = [map_10k, map_11k, map_12k, map_13k, map_14k, map_15k]"
   ]
  },
  {
   "cell_type": "code",
   "execution_count": 16,
   "id": "fa10c04d-5a53-41dd-baf1-c8517e0bb12f",
   "metadata": {},
   "outputs": [
    {
     "data": {
      "image/png": "[encoded data removed]",
      "text/plain": [
       "<Figure size 640x480 with 1 Axes>"
      ]
     },
     "metadata": {},
     "output_type": "display_data"
    }
   ],
   "source": [
    "dataset_size = [10000, 11000, 12000, 13000, 14000, 15000]\n",
    "\n",
    "plt.plot(dataset_size,mapk_scores)\n",
    "plt.title(\"Dataset size vs MAPK score for LightGBM\",fontsize=20)\n",
    "plt.xlabel(\"Size\",fontsize=17)\n",
    "plt.ylabel(\"MAPK score\",fontsize=17)\n",
    "plt.show()"
   ]
  }
 ],
 "metadata": {
  "kernelspec": {
   "display_name": "Python 3 (ipykernel)",
   "language": "python",
   "name": "python3"
  },
  "language_info": {
   "codemirror_mode": {
    "name": "ipython",
    "version": 3
   },
   "file_extension": ".py",
   "mimetype": "text/x-python",
   "name": "python",
   "nbconvert_exporter": "python",
   "pygments_lexer": "ipython3",
   "version": "3.11.3"
  }
 },
 "nbformat": 4,
 "nbformat_minor": 5
}
