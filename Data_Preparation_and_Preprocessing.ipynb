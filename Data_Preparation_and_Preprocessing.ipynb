{
 "cells": [
  {
   "cell_type": "code",
   "execution_count": 1,
   "id": "6c8da9f5-7461-413e-968b-92db00b6f017",
   "metadata": {},
   "outputs": [
    {
     "name": "stdout",
     "output_type": "stream",
     "text": [
      "Requirement already satisfied: zipfile36 in c:\\users\\pragn\\appdata\\local\\packages\\pythonsoftwarefoundation.python.3.11_qbz5n2kfra8p0\\localcache\\local-packages\\python311\\site-packages (0.1.3)\n"
     ]
    }
   ],
   "source": [
    "#unzip downloaded files\n",
    "\n",
    "#install library\n",
    "!pip install zipfile36\n",
    "\n",
    "#import library\n",
    "import zipfile\n",
    "\n",
    "#unzipping\n",
    "train_data = zipfile.ZipFile('train.csv.zip')\n",
    "test_data = zipfile.ZipFile('test.csv.zip')\n",
    "\n",
    "#extract both data\n",
    "train_data.extractall()\n",
    "test_data.extractall()\n",
    "\n",
    "#close both data\n",
    "train_data.close()\n",
    "test_data.close()"
   ]
  },
  {
   "cell_type": "code",
   "execution_count": 2,
   "id": "f74eca55-3f14-40db-945c-d97025e9160e",
   "metadata": {},
   "outputs": [],
   "source": [
    "#import all necessary libraries\n",
    "import numpy as np\n",
    "import pandas as pd\n",
    "import seaborn as sns\n",
    "import matplotlib.pyplot as plt"
   ]
  },
  {
   "cell_type": "code",
   "execution_count": 3,
   "id": "3ca69f01-0378-411c-8f65-e46842d0ca71",
   "metadata": {},
   "outputs": [],
   "source": [
    "#load datasets\n",
    "train = pd.read_csv('train.csv')\n",
    "#test = pd.read_csv('test.csv')"
   ]
  },
  {
   "cell_type": "code",
   "execution_count": 4,
   "id": "80eafc22-293e-49a1-a566-27bb93b086fd",
   "metadata": {},
   "outputs": [
    {
     "data": {
      "text/html": [
       "<div>\n",
       "<style scoped>\n",
       "    .dataframe tbody tr th:only-of-type {\n",
       "        vertical-align: middle;\n",
       "    }\n",
       "\n",
       "    .dataframe tbody tr th {\n",
       "        vertical-align: top;\n",
       "    }\n",
       "\n",
       "    .dataframe thead th {\n",
       "        text-align: right;\n",
       "    }\n",
       "</style>\n",
       "<table border=\"1\" class=\"dataframe\">\n",
       "  <thead>\n",
       "    <tr style=\"text-align: right;\">\n",
       "      <th></th>\n",
       "      <th>date_time</th>\n",
       "      <th>site_name</th>\n",
       "      <th>posa_continent</th>\n",
       "      <th>user_location_country</th>\n",
       "      <th>user_location_region</th>\n",
       "      <th>user_location_city</th>\n",
       "      <th>orig_destination_distance</th>\n",
       "      <th>user_id</th>\n",
       "      <th>is_mobile</th>\n",
       "      <th>is_package</th>\n",
       "      <th>...</th>\n",
       "      <th>srch_children_cnt</th>\n",
       "      <th>srch_rm_cnt</th>\n",
       "      <th>srch_destination_id</th>\n",
       "      <th>srch_destination_type_id</th>\n",
       "      <th>is_booking</th>\n",
       "      <th>cnt</th>\n",
       "      <th>hotel_continent</th>\n",
       "      <th>hotel_country</th>\n",
       "      <th>hotel_market</th>\n",
       "      <th>hotel_cluster</th>\n",
       "    </tr>\n",
       "  </thead>\n",
       "  <tbody>\n",
       "    <tr>\n",
       "      <th>0</th>\n",
       "      <td>2014-08-11 07:46:59</td>\n",
       "      <td>2</td>\n",
       "      <td>3</td>\n",
       "      <td>66</td>\n",
       "      <td>348</td>\n",
       "      <td>48862</td>\n",
       "      <td>2234.2641</td>\n",
       "      <td>12</td>\n",
       "      <td>0</td>\n",
       "      <td>1</td>\n",
       "      <td>...</td>\n",
       "      <td>0</td>\n",
       "      <td>1</td>\n",
       "      <td>8250</td>\n",
       "      <td>1</td>\n",
       "      <td>0</td>\n",
       "      <td>3</td>\n",
       "      <td>2</td>\n",
       "      <td>50</td>\n",
       "      <td>628</td>\n",
       "      <td>1</td>\n",
       "    </tr>\n",
       "    <tr>\n",
       "      <th>1</th>\n",
       "      <td>2014-08-11 08:22:12</td>\n",
       "      <td>2</td>\n",
       "      <td>3</td>\n",
       "      <td>66</td>\n",
       "      <td>348</td>\n",
       "      <td>48862</td>\n",
       "      <td>2234.2641</td>\n",
       "      <td>12</td>\n",
       "      <td>0</td>\n",
       "      <td>1</td>\n",
       "      <td>...</td>\n",
       "      <td>0</td>\n",
       "      <td>1</td>\n",
       "      <td>8250</td>\n",
       "      <td>1</td>\n",
       "      <td>1</td>\n",
       "      <td>1</td>\n",
       "      <td>2</td>\n",
       "      <td>50</td>\n",
       "      <td>628</td>\n",
       "      <td>1</td>\n",
       "    </tr>\n",
       "    <tr>\n",
       "      <th>2</th>\n",
       "      <td>2014-08-11 08:24:33</td>\n",
       "      <td>2</td>\n",
       "      <td>3</td>\n",
       "      <td>66</td>\n",
       "      <td>348</td>\n",
       "      <td>48862</td>\n",
       "      <td>2234.2641</td>\n",
       "      <td>12</td>\n",
       "      <td>0</td>\n",
       "      <td>0</td>\n",
       "      <td>...</td>\n",
       "      <td>0</td>\n",
       "      <td>1</td>\n",
       "      <td>8250</td>\n",
       "      <td>1</td>\n",
       "      <td>0</td>\n",
       "      <td>1</td>\n",
       "      <td>2</td>\n",
       "      <td>50</td>\n",
       "      <td>628</td>\n",
       "      <td>1</td>\n",
       "    </tr>\n",
       "    <tr>\n",
       "      <th>3</th>\n",
       "      <td>2014-08-09 18:05:16</td>\n",
       "      <td>2</td>\n",
       "      <td>3</td>\n",
       "      <td>66</td>\n",
       "      <td>442</td>\n",
       "      <td>35390</td>\n",
       "      <td>913.1932</td>\n",
       "      <td>93</td>\n",
       "      <td>0</td>\n",
       "      <td>0</td>\n",
       "      <td>...</td>\n",
       "      <td>0</td>\n",
       "      <td>1</td>\n",
       "      <td>14984</td>\n",
       "      <td>1</td>\n",
       "      <td>0</td>\n",
       "      <td>1</td>\n",
       "      <td>2</td>\n",
       "      <td>50</td>\n",
       "      <td>1457</td>\n",
       "      <td>80</td>\n",
       "    </tr>\n",
       "    <tr>\n",
       "      <th>4</th>\n",
       "      <td>2014-08-09 18:08:18</td>\n",
       "      <td>2</td>\n",
       "      <td>3</td>\n",
       "      <td>66</td>\n",
       "      <td>442</td>\n",
       "      <td>35390</td>\n",
       "      <td>913.6259</td>\n",
       "      <td>93</td>\n",
       "      <td>0</td>\n",
       "      <td>0</td>\n",
       "      <td>...</td>\n",
       "      <td>0</td>\n",
       "      <td>1</td>\n",
       "      <td>14984</td>\n",
       "      <td>1</td>\n",
       "      <td>0</td>\n",
       "      <td>1</td>\n",
       "      <td>2</td>\n",
       "      <td>50</td>\n",
       "      <td>1457</td>\n",
       "      <td>21</td>\n",
       "    </tr>\n",
       "  </tbody>\n",
       "</table>\n",
       "<p>5 rows × 24 columns</p>\n",
       "</div>"
      ],
      "text/plain": [
       "             date_time  site_name  posa_continent  user_location_country  \\\n",
       "0  2014-08-11 07:46:59          2               3                     66   \n",
       "1  2014-08-11 08:22:12          2               3                     66   \n",
       "2  2014-08-11 08:24:33          2               3                     66   \n",
       "3  2014-08-09 18:05:16          2               3                     66   \n",
       "4  2014-08-09 18:08:18          2               3                     66   \n",
       "\n",
       "   user_location_region  user_location_city  orig_destination_distance  \\\n",
       "0                   348               48862                  2234.2641   \n",
       "1                   348               48862                  2234.2641   \n",
       "2                   348               48862                  2234.2641   \n",
       "3                   442               35390                   913.1932   \n",
       "4                   442               35390                   913.6259   \n",
       "\n",
       "   user_id  is_mobile  is_package  ...  srch_children_cnt srch_rm_cnt  \\\n",
       "0       12          0           1  ...                  0           1   \n",
       "1       12          0           1  ...                  0           1   \n",
       "2       12          0           0  ...                  0           1   \n",
       "3       93          0           0  ...                  0           1   \n",
       "4       93          0           0  ...                  0           1   \n",
       "\n",
       "  srch_destination_id  srch_destination_type_id  is_booking  cnt  \\\n",
       "0                8250                         1           0    3   \n",
       "1                8250                         1           1    1   \n",
       "2                8250                         1           0    1   \n",
       "3               14984                         1           0    1   \n",
       "4               14984                         1           0    1   \n",
       "\n",
       "   hotel_continent  hotel_country  hotel_market  hotel_cluster  \n",
       "0                2             50           628              1  \n",
       "1                2             50           628              1  \n",
       "2                2             50           628              1  \n",
       "3                2             50          1457             80  \n",
       "4                2             50          1457             21  \n",
       "\n",
       "[5 rows x 24 columns]"
      ]
     },
     "execution_count": 4,
     "metadata": {},
     "output_type": "execute_result"
    }
   ],
   "source": [
    "train.head()"
   ]
  },
  {
   "cell_type": "code",
   "execution_count": 5,
   "id": "7ef60382-749b-4ca3-9921-3500ce8c9e63",
   "metadata": {},
   "outputs": [
    {
     "name": "stdout",
     "output_type": "stream",
     "text": [
      "<class 'pandas.core.frame.DataFrame'>\n",
      "RangeIndex: 37670293 entries, 0 to 37670292\n",
      "Data columns (total 24 columns):\n",
      " #   Column                     Dtype  \n",
      "---  ------                     -----  \n",
      " 0   date_time                  object \n",
      " 1   site_name                  int64  \n",
      " 2   posa_continent             int64  \n",
      " 3   user_location_country      int64  \n",
      " 4   user_location_region       int64  \n",
      " 5   user_location_city         int64  \n",
      " 6   orig_destination_distance  float64\n",
      " 7   user_id                    int64  \n",
      " 8   is_mobile                  int64  \n",
      " 9   is_package                 int64  \n",
      " 10  channel                    int64  \n",
      " 11  srch_ci                    object \n",
      " 12  srch_co                    object \n",
      " 13  srch_adults_cnt            int64  \n",
      " 14  srch_children_cnt          int64  \n",
      " 15  srch_rm_cnt                int64  \n",
      " 16  srch_destination_id        int64  \n",
      " 17  srch_destination_type_id   int64  \n",
      " 18  is_booking                 int64  \n",
      " 19  cnt                        int64  \n",
      " 20  hotel_continent            int64  \n",
      " 21  hotel_country              int64  \n",
      " 22  hotel_market               int64  \n",
      " 23  hotel_cluster              int64  \n",
      "dtypes: float64(1), int64(20), object(3)\n",
      "memory usage: 6.7+ GB\n"
     ]
    }
   ],
   "source": [
    "train.info()"
   ]
  },
  {
   "cell_type": "markdown",
   "id": "b85fd146-7c18-4079-aa84-b31d896fd71e",
   "metadata": {},
   "source": [
    "Most of columns are numeric, so we can't do a lot of feature engineering. For example, user_location_location doesn't tell us what country represents which number. So we can't transform the data into features that better represent the predictor variables\n"
   ]
  },
  {
   "cell_type": "markdown",
   "id": "b1d65b4a-f2fe-4870-99de-8cc1d1bed75e",
   "metadata": {},
   "source": [
    "#### Generating new features"
   ]
  },
  {
   "cell_type": "markdown",
   "id": "0dc920f4-fcdf-46ec-97d1-4c6b266c002e",
   "metadata": {},
   "source": [
    "New features are generated date_time, srch_ci (check-in date), and srch_co (check-out date)\n",
    "- Year of access\n",
    "- Month of access\n",
    "- Day of Week of access\n",
    "- Length of stey"
   ]
  },
  {
   "cell_type": "code",
   "execution_count": 6,
   "id": "5112a941-8bc9-4351-9fb6-053613eba9ea",
   "metadata": {},
   "outputs": [
    {
     "data": {
      "text/html": [
       "<div>\n",
       "<style scoped>\n",
       "    .dataframe tbody tr th:only-of-type {\n",
       "        vertical-align: middle;\n",
       "    }\n",
       "\n",
       "    .dataframe tbody tr th {\n",
       "        vertical-align: top;\n",
       "    }\n",
       "\n",
       "    .dataframe thead th {\n",
       "        text-align: right;\n",
       "    }\n",
       "</style>\n",
       "<table border=\"1\" class=\"dataframe\">\n",
       "  <thead>\n",
       "    <tr style=\"text-align: right;\">\n",
       "      <th></th>\n",
       "      <th>date_time</th>\n",
       "      <th>site_name</th>\n",
       "      <th>posa_continent</th>\n",
       "      <th>user_location_country</th>\n",
       "      <th>user_location_region</th>\n",
       "      <th>user_location_city</th>\n",
       "      <th>orig_destination_distance</th>\n",
       "      <th>user_id</th>\n",
       "      <th>is_mobile</th>\n",
       "      <th>is_package</th>\n",
       "      <th>...</th>\n",
       "      <th>is_booking</th>\n",
       "      <th>cnt</th>\n",
       "      <th>hotel_continent</th>\n",
       "      <th>hotel_country</th>\n",
       "      <th>hotel_market</th>\n",
       "      <th>hotel_cluster</th>\n",
       "      <th>year</th>\n",
       "      <th>month</th>\n",
       "      <th>dayofweek</th>\n",
       "      <th>stay_span</th>\n",
       "    </tr>\n",
       "  </thead>\n",
       "  <tbody>\n",
       "    <tr>\n",
       "      <th>0</th>\n",
       "      <td>2014-08-11 07:46:59</td>\n",
       "      <td>2</td>\n",
       "      <td>3</td>\n",
       "      <td>66</td>\n",
       "      <td>348</td>\n",
       "      <td>48862</td>\n",
       "      <td>2234.2641</td>\n",
       "      <td>12</td>\n",
       "      <td>0</td>\n",
       "      <td>1</td>\n",
       "      <td>...</td>\n",
       "      <td>0</td>\n",
       "      <td>3</td>\n",
       "      <td>2</td>\n",
       "      <td>50</td>\n",
       "      <td>628</td>\n",
       "      <td>1</td>\n",
       "      <td>2014</td>\n",
       "      <td>8</td>\n",
       "      <td>0</td>\n",
       "      <td>96.0</td>\n",
       "    </tr>\n",
       "    <tr>\n",
       "      <th>1</th>\n",
       "      <td>2014-08-11 08:22:12</td>\n",
       "      <td>2</td>\n",
       "      <td>3</td>\n",
       "      <td>66</td>\n",
       "      <td>348</td>\n",
       "      <td>48862</td>\n",
       "      <td>2234.2641</td>\n",
       "      <td>12</td>\n",
       "      <td>0</td>\n",
       "      <td>1</td>\n",
       "      <td>...</td>\n",
       "      <td>1</td>\n",
       "      <td>1</td>\n",
       "      <td>2</td>\n",
       "      <td>50</td>\n",
       "      <td>628</td>\n",
       "      <td>1</td>\n",
       "      <td>2014</td>\n",
       "      <td>8</td>\n",
       "      <td>0</td>\n",
       "      <td>96.0</td>\n",
       "    </tr>\n",
       "    <tr>\n",
       "      <th>2</th>\n",
       "      <td>2014-08-11 08:24:33</td>\n",
       "      <td>2</td>\n",
       "      <td>3</td>\n",
       "      <td>66</td>\n",
       "      <td>348</td>\n",
       "      <td>48862</td>\n",
       "      <td>2234.2641</td>\n",
       "      <td>12</td>\n",
       "      <td>0</td>\n",
       "      <td>0</td>\n",
       "      <td>...</td>\n",
       "      <td>0</td>\n",
       "      <td>1</td>\n",
       "      <td>2</td>\n",
       "      <td>50</td>\n",
       "      <td>628</td>\n",
       "      <td>1</td>\n",
       "      <td>2014</td>\n",
       "      <td>8</td>\n",
       "      <td>0</td>\n",
       "      <td>96.0</td>\n",
       "    </tr>\n",
       "    <tr>\n",
       "      <th>3</th>\n",
       "      <td>2014-08-09 18:05:16</td>\n",
       "      <td>2</td>\n",
       "      <td>3</td>\n",
       "      <td>66</td>\n",
       "      <td>442</td>\n",
       "      <td>35390</td>\n",
       "      <td>913.1932</td>\n",
       "      <td>93</td>\n",
       "      <td>0</td>\n",
       "      <td>0</td>\n",
       "      <td>...</td>\n",
       "      <td>0</td>\n",
       "      <td>1</td>\n",
       "      <td>2</td>\n",
       "      <td>50</td>\n",
       "      <td>1457</td>\n",
       "      <td>80</td>\n",
       "      <td>2014</td>\n",
       "      <td>8</td>\n",
       "      <td>5</td>\n",
       "      <td>120.0</td>\n",
       "    </tr>\n",
       "    <tr>\n",
       "      <th>4</th>\n",
       "      <td>2014-08-09 18:08:18</td>\n",
       "      <td>2</td>\n",
       "      <td>3</td>\n",
       "      <td>66</td>\n",
       "      <td>442</td>\n",
       "      <td>35390</td>\n",
       "      <td>913.6259</td>\n",
       "      <td>93</td>\n",
       "      <td>0</td>\n",
       "      <td>0</td>\n",
       "      <td>...</td>\n",
       "      <td>0</td>\n",
       "      <td>1</td>\n",
       "      <td>2</td>\n",
       "      <td>50</td>\n",
       "      <td>1457</td>\n",
       "      <td>21</td>\n",
       "      <td>2014</td>\n",
       "      <td>8</td>\n",
       "      <td>5</td>\n",
       "      <td>120.0</td>\n",
       "    </tr>\n",
       "  </tbody>\n",
       "</table>\n",
       "<p>5 rows × 28 columns</p>\n",
       "</div>"
      ],
      "text/plain": [
       "            date_time  site_name  posa_continent  user_location_country  \\\n",
       "0 2014-08-11 07:46:59          2               3                     66   \n",
       "1 2014-08-11 08:22:12          2               3                     66   \n",
       "2 2014-08-11 08:24:33          2               3                     66   \n",
       "3 2014-08-09 18:05:16          2               3                     66   \n",
       "4 2014-08-09 18:08:18          2               3                     66   \n",
       "\n",
       "   user_location_region  user_location_city  orig_destination_distance  \\\n",
       "0                   348               48862                  2234.2641   \n",
       "1                   348               48862                  2234.2641   \n",
       "2                   348               48862                  2234.2641   \n",
       "3                   442               35390                   913.1932   \n",
       "4                   442               35390                   913.6259   \n",
       "\n",
       "   user_id  is_mobile  is_package  ...  is_booking cnt hotel_continent  \\\n",
       "0       12          0           1  ...           0   3               2   \n",
       "1       12          0           1  ...           1   1               2   \n",
       "2       12          0           0  ...           0   1               2   \n",
       "3       93          0           0  ...           0   1               2   \n",
       "4       93          0           0  ...           0   1               2   \n",
       "\n",
       "   hotel_country  hotel_market  hotel_cluster  year  month  dayofweek  \\\n",
       "0             50           628              1  2014      8          0   \n",
       "1             50           628              1  2014      8          0   \n",
       "2             50           628              1  2014      8          0   \n",
       "3             50          1457             80  2014      8          5   \n",
       "4             50          1457             21  2014      8          5   \n",
       "\n",
       "   stay_span  \n",
       "0       96.0  \n",
       "1       96.0  \n",
       "2       96.0  \n",
       "3      120.0  \n",
       "4      120.0  \n",
       "\n",
       "[5 rows x 28 columns]"
      ]
     },
     "execution_count": 6,
     "metadata": {},
     "output_type": "execute_result"
    }
   ],
   "source": [
    "train['date_time'] = pd.to_datetime(train['date_time'])\n",
    "train['year'] = train['date_time'].dt.year\n",
    "train['month'] = train['date_time'].dt.month\n",
    "train['dayofweek'] = train['date_time'].dt.dayofweek\n",
    "train[\"srch_ci\"] = pd.to_datetime(train[\"srch_ci\"], format='%Y-%m-%d', errors=\"coerce\")\n",
    "train[\"srch_co\"] = pd.to_datetime(train[\"srch_co\"], format='%Y-%m-%d', errors=\"coerce\")\n",
    "train[\"stay_span\"] = (train[\"srch_co\"] - train[\"srch_ci\"]).astype('timedelta64[h]')\n",
    "train.head()"
   ]
  },
  {
   "cell_type": "code",
   "execution_count": 7,
   "id": "27a85a36-abfd-4641-b35c-04949e30ec7d",
   "metadata": {},
   "outputs": [
    {
     "name": "stdout",
     "output_type": "stream",
     "text": [
      "(37670293, 28)\n"
     ]
    }
   ],
   "source": [
    "print(train.shape)\n",
    "#print(test.shape)"
   ]
  },
  {
   "cell_type": "markdown",
   "id": "0c8fe1f1-9dec-43ec-869b-11c996fc2100",
   "metadata": {},
   "source": [
    "There are nearly 37.6 million rows. We need to make the dataset smaller as we do not have enough compute"
   ]
  },
  {
   "cell_type": "code",
   "execution_count": 8,
   "id": "3a7a75eb-e171-4e77-8274-238d89b0bdd8",
   "metadata": {},
   "outputs": [
    {
     "name": "stdout",
     "output_type": "stream",
     "text": [
      "1198786\n"
     ]
    }
   ],
   "source": [
    "print(train['user_id'].nunique())"
   ]
  },
  {
   "cell_type": "markdown",
   "id": "dd7f0efd-8b01-46e2-b709-c573ea875af5",
   "metadata": {},
   "source": [
    "These 37.6 million rows represent 1.2 million users. We will downsample the dataset to 10000 randomly chosen users"
   ]
  },
  {
   "cell_type": "code",
   "execution_count": 9,
   "id": "42eda57c-368c-49be-a652-5c5f535659cd",
   "metadata": {},
   "outputs": [],
   "source": [
    "userids = list(train['user_id'].unique())  #gets list of unique user_ids"
   ]
  },
  {
   "cell_type": "code",
   "execution_count": 10,
   "id": "e5b00dea-a872-47cd-a1b5-803eeff3684f",
   "metadata": {},
   "outputs": [],
   "source": [
    "import random\n",
    "random.seed(10)\n",
    "#choose 10k random users\n",
    "userids_10k = random.choices(userids, k=10000)"
   ]
  },
  {
   "cell_type": "code",
   "execution_count": 11,
   "id": "2810849f-33dc-4128-bf52-2b882a8da2cb",
   "metadata": {},
   "outputs": [],
   "source": [
    "#create train dataset with the 10k users\n",
    "train_10k = train[train['user_id'].isin(userids_10k)] "
   ]
  },
  {
   "cell_type": "code",
   "execution_count": 12,
   "id": "c0079632-36ed-45d6-99a8-203cbb356a37",
   "metadata": {},
   "outputs": [
    {
     "data": {
      "text/html": [
       "<div>\n",
       "<style scoped>\n",
       "    .dataframe tbody tr th:only-of-type {\n",
       "        vertical-align: middle;\n",
       "    }\n",
       "\n",
       "    .dataframe tbody tr th {\n",
       "        vertical-align: top;\n",
       "    }\n",
       "\n",
       "    .dataframe thead th {\n",
       "        text-align: right;\n",
       "    }\n",
       "</style>\n",
       "<table border=\"1\" class=\"dataframe\">\n",
       "  <thead>\n",
       "    <tr style=\"text-align: right;\">\n",
       "      <th></th>\n",
       "      <th>date_time</th>\n",
       "      <th>site_name</th>\n",
       "      <th>posa_continent</th>\n",
       "      <th>user_location_country</th>\n",
       "      <th>user_location_region</th>\n",
       "      <th>user_location_city</th>\n",
       "      <th>orig_destination_distance</th>\n",
       "      <th>user_id</th>\n",
       "      <th>is_mobile</th>\n",
       "      <th>is_package</th>\n",
       "      <th>...</th>\n",
       "      <th>is_booking</th>\n",
       "      <th>cnt</th>\n",
       "      <th>hotel_continent</th>\n",
       "      <th>hotel_country</th>\n",
       "      <th>hotel_market</th>\n",
       "      <th>hotel_cluster</th>\n",
       "      <th>year</th>\n",
       "      <th>month</th>\n",
       "      <th>dayofweek</th>\n",
       "      <th>stay_span</th>\n",
       "    </tr>\n",
       "  </thead>\n",
       "  <tbody>\n",
       "    <tr>\n",
       "      <th>1927</th>\n",
       "      <td>2014-02-27 07:24:03</td>\n",
       "      <td>2</td>\n",
       "      <td>3</td>\n",
       "      <td>66</td>\n",
       "      <td>174</td>\n",
       "      <td>23793</td>\n",
       "      <td>1780.4772</td>\n",
       "      <td>8654</td>\n",
       "      <td>1</td>\n",
       "      <td>0</td>\n",
       "      <td>...</td>\n",
       "      <td>0</td>\n",
       "      <td>2</td>\n",
       "      <td>2</td>\n",
       "      <td>50</td>\n",
       "      <td>637</td>\n",
       "      <td>47</td>\n",
       "      <td>2014</td>\n",
       "      <td>2</td>\n",
       "      <td>3</td>\n",
       "      <td>48.0</td>\n",
       "    </tr>\n",
       "    <tr>\n",
       "      <th>1928</th>\n",
       "      <td>2014-08-30 16:10:42</td>\n",
       "      <td>2</td>\n",
       "      <td>3</td>\n",
       "      <td>66</td>\n",
       "      <td>174</td>\n",
       "      <td>13277</td>\n",
       "      <td>133.1612</td>\n",
       "      <td>8654</td>\n",
       "      <td>1</td>\n",
       "      <td>0</td>\n",
       "      <td>...</td>\n",
       "      <td>0</td>\n",
       "      <td>1</td>\n",
       "      <td>2</td>\n",
       "      <td>50</td>\n",
       "      <td>970</td>\n",
       "      <td>80</td>\n",
       "      <td>2014</td>\n",
       "      <td>8</td>\n",
       "      <td>5</td>\n",
       "      <td>48.0</td>\n",
       "    </tr>\n",
       "    <tr>\n",
       "      <th>1929</th>\n",
       "      <td>2014-08-30 16:25:16</td>\n",
       "      <td>2</td>\n",
       "      <td>3</td>\n",
       "      <td>66</td>\n",
       "      <td>174</td>\n",
       "      <td>13277</td>\n",
       "      <td>124.8268</td>\n",
       "      <td>8654</td>\n",
       "      <td>1</td>\n",
       "      <td>0</td>\n",
       "      <td>...</td>\n",
       "      <td>0</td>\n",
       "      <td>1</td>\n",
       "      <td>2</td>\n",
       "      <td>50</td>\n",
       "      <td>368</td>\n",
       "      <td>10</td>\n",
       "      <td>2014</td>\n",
       "      <td>8</td>\n",
       "      <td>5</td>\n",
       "      <td>24.0</td>\n",
       "    </tr>\n",
       "    <tr>\n",
       "      <th>1930</th>\n",
       "      <td>2014-08-30 16:26:45</td>\n",
       "      <td>2</td>\n",
       "      <td>3</td>\n",
       "      <td>66</td>\n",
       "      <td>174</td>\n",
       "      <td>13277</td>\n",
       "      <td>112.2581</td>\n",
       "      <td>8654</td>\n",
       "      <td>1</td>\n",
       "      <td>0</td>\n",
       "      <td>...</td>\n",
       "      <td>0</td>\n",
       "      <td>1</td>\n",
       "      <td>2</td>\n",
       "      <td>50</td>\n",
       "      <td>368</td>\n",
       "      <td>21</td>\n",
       "      <td>2014</td>\n",
       "      <td>8</td>\n",
       "      <td>5</td>\n",
       "      <td>24.0</td>\n",
       "    </tr>\n",
       "    <tr>\n",
       "      <th>1931</th>\n",
       "      <td>2014-08-30 16:29:57</td>\n",
       "      <td>2</td>\n",
       "      <td>3</td>\n",
       "      <td>66</td>\n",
       "      <td>174</td>\n",
       "      <td>13277</td>\n",
       "      <td>117.6094</td>\n",
       "      <td>8654</td>\n",
       "      <td>1</td>\n",
       "      <td>0</td>\n",
       "      <td>...</td>\n",
       "      <td>0</td>\n",
       "      <td>3</td>\n",
       "      <td>2</td>\n",
       "      <td>50</td>\n",
       "      <td>368</td>\n",
       "      <td>95</td>\n",
       "      <td>2014</td>\n",
       "      <td>8</td>\n",
       "      <td>5</td>\n",
       "      <td>24.0</td>\n",
       "    </tr>\n",
       "  </tbody>\n",
       "</table>\n",
       "<p>5 rows × 28 columns</p>\n",
       "</div>"
      ],
      "text/plain": [
       "               date_time  site_name  posa_continent  user_location_country  \\\n",
       "1927 2014-02-27 07:24:03          2               3                     66   \n",
       "1928 2014-08-30 16:10:42          2               3                     66   \n",
       "1929 2014-08-30 16:25:16          2               3                     66   \n",
       "1930 2014-08-30 16:26:45          2               3                     66   \n",
       "1931 2014-08-30 16:29:57          2               3                     66   \n",
       "\n",
       "      user_location_region  user_location_city  orig_destination_distance  \\\n",
       "1927                   174               23793                  1780.4772   \n",
       "1928                   174               13277                   133.1612   \n",
       "1929                   174               13277                   124.8268   \n",
       "1930                   174               13277                   112.2581   \n",
       "1931                   174               13277                   117.6094   \n",
       "\n",
       "      user_id  is_mobile  is_package  ...  is_booking cnt hotel_continent  \\\n",
       "1927     8654          1           0  ...           0   2               2   \n",
       "1928     8654          1           0  ...           0   1               2   \n",
       "1929     8654          1           0  ...           0   1               2   \n",
       "1930     8654          1           0  ...           0   1               2   \n",
       "1931     8654          1           0  ...           0   3               2   \n",
       "\n",
       "      hotel_country  hotel_market  hotel_cluster  year  month  dayofweek  \\\n",
       "1927             50           637             47  2014      2          3   \n",
       "1928             50           970             80  2014      8          5   \n",
       "1929             50           368             10  2014      8          5   \n",
       "1930             50           368             21  2014      8          5   \n",
       "1931             50           368             95  2014      8          5   \n",
       "\n",
       "      stay_span  \n",
       "1927       48.0  \n",
       "1928       48.0  \n",
       "1929       24.0  \n",
       "1930       24.0  \n",
       "1931       24.0  \n",
       "\n",
       "[5 rows x 28 columns]"
      ]
     },
     "execution_count": 12,
     "metadata": {},
     "output_type": "execute_result"
    }
   ],
   "source": [
    "train_10k.head()"
   ]
  },
  {
   "cell_type": "code",
   "execution_count": 13,
   "id": "09a6c43b-7883-47e8-aab5-9e0c5f8a1bb5",
   "metadata": {},
   "outputs": [
    {
     "name": "stdout",
     "output_type": "stream",
     "text": [
      "(316422, 28)\n"
     ]
    }
   ],
   "source": [
    "print(train_10k.shape)"
   ]
  },
  {
   "cell_type": "markdown",
   "id": "80a40481-7ea6-48f5-b3e1-7a13530fd66b",
   "metadata": {},
   "source": [
    "This has reduced the training data set to 10000 users consisting of 316K rows"
   ]
  },
  {
   "cell_type": "markdown",
   "id": "9d7ca745-5533-4ccd-b250-7189bf3defa8",
   "metadata": {},
   "source": [
    "Now we want to remove the travel agents from the dataset so that it does not affect the single user preferences. We identify a travel agent as someone with more than 20 bookings."
   ]
  },
  {
   "cell_type": "code",
   "execution_count": 14,
   "id": "da083515-bae6-4861-bcf3-58555c13e157",
   "metadata": {},
   "outputs": [],
   "source": [
    "#remove all non-bookings to make counting easier\n",
    "train_10k_booking = train_10k[train_10k.is_booking != 0]\n",
    "for user in userids_10k:\n",
    "  #count the number of rows under a single user\n",
    "  bookings = len(train_10k_booking.loc[train_10k_booking['user_id'] == user])\n",
    "  if bookings >= 20:\n",
    "    #remove the travel agent from dataset\n",
    "    train_10k = train_10k[train_10k.user_id != user]"
   ]
  },
  {
   "cell_type": "code",
   "execution_count": 15,
   "id": "ffe14f55-3d8f-4013-8298-45069cb08ad6",
   "metadata": {},
   "outputs": [
    {
     "name": "stdout",
     "output_type": "stream",
     "text": [
      "(290825, 28)\n"
     ]
    }
   ],
   "source": [
    "print(train_10k.shape)"
   ]
  },
  {
   "cell_type": "markdown",
   "id": "ba7bbb48-10d6-4096-ba01-7e72aadaf299",
   "metadata": {},
   "source": [
    "#### Handling missing data"
   ]
  },
  {
   "cell_type": "code",
   "execution_count": 16,
   "id": "3873b757-81ee-49e3-9ee0-e4b3dd6eb9a7",
   "metadata": {},
   "outputs": [
    {
     "data": {
      "text/html": [
       "<div>\n",
       "<style scoped>\n",
       "    .dataframe tbody tr th:only-of-type {\n",
       "        vertical-align: middle;\n",
       "    }\n",
       "\n",
       "    .dataframe tbody tr th {\n",
       "        vertical-align: top;\n",
       "    }\n",
       "\n",
       "    .dataframe thead th {\n",
       "        text-align: right;\n",
       "    }\n",
       "</style>\n",
       "<table border=\"1\" class=\"dataframe\">\n",
       "  <thead>\n",
       "    <tr style=\"text-align: right;\">\n",
       "      <th></th>\n",
       "      <th>Total Missing</th>\n",
       "      <th>Percent Missing</th>\n",
       "    </tr>\n",
       "  </thead>\n",
       "  <tbody>\n",
       "    <tr>\n",
       "      <th>date_time</th>\n",
       "      <td>0</td>\n",
       "      <td>0.000000</td>\n",
       "    </tr>\n",
       "    <tr>\n",
       "      <th>site_name</th>\n",
       "      <td>0</td>\n",
       "      <td>0.000000</td>\n",
       "    </tr>\n",
       "    <tr>\n",
       "      <th>posa_continent</th>\n",
       "      <td>0</td>\n",
       "      <td>0.000000</td>\n",
       "    </tr>\n",
       "    <tr>\n",
       "      <th>user_location_country</th>\n",
       "      <td>0</td>\n",
       "      <td>0.000000</td>\n",
       "    </tr>\n",
       "    <tr>\n",
       "      <th>user_location_region</th>\n",
       "      <td>0</td>\n",
       "      <td>0.000000</td>\n",
       "    </tr>\n",
       "    <tr>\n",
       "      <th>user_location_city</th>\n",
       "      <td>0</td>\n",
       "      <td>0.000000</td>\n",
       "    </tr>\n",
       "    <tr>\n",
       "      <th>orig_destination_distance</th>\n",
       "      <td>102986</td>\n",
       "      <td>35.411674</td>\n",
       "    </tr>\n",
       "    <tr>\n",
       "      <th>user_id</th>\n",
       "      <td>0</td>\n",
       "      <td>0.000000</td>\n",
       "    </tr>\n",
       "    <tr>\n",
       "      <th>is_mobile</th>\n",
       "      <td>0</td>\n",
       "      <td>0.000000</td>\n",
       "    </tr>\n",
       "    <tr>\n",
       "      <th>is_package</th>\n",
       "      <td>0</td>\n",
       "      <td>0.000000</td>\n",
       "    </tr>\n",
       "    <tr>\n",
       "      <th>channel</th>\n",
       "      <td>0</td>\n",
       "      <td>0.000000</td>\n",
       "    </tr>\n",
       "    <tr>\n",
       "      <th>srch_ci</th>\n",
       "      <td>412</td>\n",
       "      <td>0.141666</td>\n",
       "    </tr>\n",
       "    <tr>\n",
       "      <th>srch_co</th>\n",
       "      <td>412</td>\n",
       "      <td>0.141666</td>\n",
       "    </tr>\n",
       "    <tr>\n",
       "      <th>srch_adults_cnt</th>\n",
       "      <td>0</td>\n",
       "      <td>0.000000</td>\n",
       "    </tr>\n",
       "    <tr>\n",
       "      <th>srch_children_cnt</th>\n",
       "      <td>0</td>\n",
       "      <td>0.000000</td>\n",
       "    </tr>\n",
       "    <tr>\n",
       "      <th>srch_rm_cnt</th>\n",
       "      <td>0</td>\n",
       "      <td>0.000000</td>\n",
       "    </tr>\n",
       "    <tr>\n",
       "      <th>srch_destination_id</th>\n",
       "      <td>0</td>\n",
       "      <td>0.000000</td>\n",
       "    </tr>\n",
       "    <tr>\n",
       "      <th>srch_destination_type_id</th>\n",
       "      <td>0</td>\n",
       "      <td>0.000000</td>\n",
       "    </tr>\n",
       "    <tr>\n",
       "      <th>is_booking</th>\n",
       "      <td>0</td>\n",
       "      <td>0.000000</td>\n",
       "    </tr>\n",
       "    <tr>\n",
       "      <th>cnt</th>\n",
       "      <td>0</td>\n",
       "      <td>0.000000</td>\n",
       "    </tr>\n",
       "    <tr>\n",
       "      <th>hotel_continent</th>\n",
       "      <td>0</td>\n",
       "      <td>0.000000</td>\n",
       "    </tr>\n",
       "    <tr>\n",
       "      <th>hotel_country</th>\n",
       "      <td>0</td>\n",
       "      <td>0.000000</td>\n",
       "    </tr>\n",
       "    <tr>\n",
       "      <th>hotel_market</th>\n",
       "      <td>0</td>\n",
       "      <td>0.000000</td>\n",
       "    </tr>\n",
       "    <tr>\n",
       "      <th>hotel_cluster</th>\n",
       "      <td>0</td>\n",
       "      <td>0.000000</td>\n",
       "    </tr>\n",
       "    <tr>\n",
       "      <th>year</th>\n",
       "      <td>0</td>\n",
       "      <td>0.000000</td>\n",
       "    </tr>\n",
       "    <tr>\n",
       "      <th>month</th>\n",
       "      <td>0</td>\n",
       "      <td>0.000000</td>\n",
       "    </tr>\n",
       "    <tr>\n",
       "      <th>dayofweek</th>\n",
       "      <td>0</td>\n",
       "      <td>0.000000</td>\n",
       "    </tr>\n",
       "    <tr>\n",
       "      <th>stay_span</th>\n",
       "      <td>412</td>\n",
       "      <td>0.141666</td>\n",
       "    </tr>\n",
       "  </tbody>\n",
       "</table>\n",
       "</div>"
      ],
      "text/plain": [
       "                           Total Missing  Percent Missing\n",
       "date_time                              0         0.000000\n",
       "site_name                              0         0.000000\n",
       "posa_continent                         0         0.000000\n",
       "user_location_country                  0         0.000000\n",
       "user_location_region                   0         0.000000\n",
       "user_location_city                     0         0.000000\n",
       "orig_destination_distance         102986        35.411674\n",
       "user_id                                0         0.000000\n",
       "is_mobile                              0         0.000000\n",
       "is_package                             0         0.000000\n",
       "channel                                0         0.000000\n",
       "srch_ci                              412         0.141666\n",
       "srch_co                              412         0.141666\n",
       "srch_adults_cnt                        0         0.000000\n",
       "srch_children_cnt                      0         0.000000\n",
       "srch_rm_cnt                            0         0.000000\n",
       "srch_destination_id                    0         0.000000\n",
       "srch_destination_type_id               0         0.000000\n",
       "is_booking                             0         0.000000\n",
       "cnt                                    0         0.000000\n",
       "hotel_continent                        0         0.000000\n",
       "hotel_country                          0         0.000000\n",
       "hotel_market                           0         0.000000\n",
       "hotel_cluster                          0         0.000000\n",
       "year                                   0         0.000000\n",
       "month                                  0         0.000000\n",
       "dayofweek                              0         0.000000\n",
       "stay_span                            412         0.141666"
      ]
     },
     "execution_count": 16,
     "metadata": {},
     "output_type": "execute_result"
    }
   ],
   "source": [
    "# Calculate total missing values per column\n",
    "total_missing = train_10k.isnull().sum()\n",
    "\n",
    "# Calculate % missing values per column\n",
    "percent_missing = ((train_10k.isnull().sum()/train_10k.isnull().count())*100)\n",
    "\n",
    "# Create a dataframe with the total and % missing values per column \n",
    "missing_data = pd.concat([total_missing, percent_missing], axis=1, keys=['Total Missing', 'Percent Missing'])\n",
    "missing_data"
   ]
  },
  {
   "cell_type": "code",
   "execution_count": 17,
   "id": "713fdd16-810c-42af-981e-65cbfe9c607d",
   "metadata": {},
   "outputs": [
    {
     "name": "stdout",
     "output_type": "stream",
     "text": [
      "1972.884946094794\n"
     ]
    }
   ],
   "source": [
    "#find mean orig_destination_distance\n",
    "print(train_10k['orig_destination_distance'].mean())"
   ]
  },
  {
   "cell_type": "code",
   "execution_count": 18,
   "id": "4fb3b6b1-6ccb-4324-9828-4aba910111d3",
   "metadata": {},
   "outputs": [],
   "source": [
    "#fill missing values for orig_destination_distance with the column mean\n",
    "train_10k['orig_destination_distance'] = train_10k['orig_destination_distance'].fillna(1972.884946094794)"
   ]
  },
  {
   "cell_type": "code",
   "execution_count": 19,
   "id": "58ae913c-d608-49b9-8015-57dbc2263b06",
   "metadata": {},
   "outputs": [],
   "source": [
    "#clean data with empty cells\n",
    "train_10k = train_10k.dropna()"
   ]
  },
  {
   "cell_type": "code",
   "execution_count": 20,
   "id": "35eca949-49d5-48d8-8baf-eae1ced5e9d8",
   "metadata": {},
   "outputs": [
    {
     "name": "stdout",
     "output_type": "stream",
     "text": [
      "(290413, 28)\n"
     ]
    }
   ],
   "source": [
    "print(train_10k.shape)"
   ]
  },
  {
   "cell_type": "code",
   "execution_count": 21,
   "id": "01ad6bf0-f712-4867-ae77-b1b6146cf801",
   "metadata": {},
   "outputs": [],
   "source": [
    "train_10k.to_csv('train_downsampled_10k.csv', index = False)"
   ]
  },
  {
   "cell_type": "code",
   "execution_count": 22,
   "id": "16e6b778-aff4-4dd8-bac7-73191ba62329",
   "metadata": {},
   "outputs": [
    {
     "name": "stderr",
     "output_type": "stream",
     "text": [
      "C:\\Users\\pragn\\AppData\\Local\\Temp\\ipykernel_20696\\3626639521.py:1: FutureWarning: The default value of numeric_only in DataFrame.corr is deprecated. In a future version, it will default to False. Select only valid columns or specify the value of numeric_only to silence this warning.\n",
      "  train_10k.corr()['hotel_cluster']\n"
     ]
    },
    {
     "data": {
      "text/plain": [
       "site_name                   -0.024835\n",
       "posa_continent               0.019831\n",
       "user_location_country       -0.015561\n",
       "user_location_region         0.013036\n",
       "user_location_city          -0.001013\n",
       "orig_destination_distance    0.011047\n",
       "user_id                      0.001739\n",
       "is_mobile                    0.009824\n",
       "is_package                   0.042279\n",
       "channel                     -0.003721\n",
       "srch_adults_cnt              0.010422\n",
       "srch_children_cnt            0.011673\n",
       "srch_rm_cnt                 -0.007727\n",
       "srch_destination_id         -0.016216\n",
       "srch_destination_type_id    -0.036056\n",
       "is_booking                  -0.023270\n",
       "cnt                          0.002919\n",
       "hotel_continent             -0.012584\n",
       "hotel_country               -0.021196\n",
       "hotel_market                 0.034559\n",
       "hotel_cluster                1.000000\n",
       "year                        -0.000776\n",
       "month                        0.001328\n",
       "dayofweek                    0.001842\n",
       "stay_span                    0.039513\n",
       "Name: hotel_cluster, dtype: float64"
      ]
     },
     "execution_count": 22,
     "metadata": {},
     "output_type": "execute_result"
    }
   ],
   "source": [
    "train_10k.corr()['hotel_cluster']"
   ]
  },
  {
   "cell_type": "markdown",
   "id": "707df106-3802-4640-bf2c-e1a7caba06d9",
   "metadata": {},
   "source": [
    "Since none of the columns are correlated with hotel_cluster, linear regression won't work well on our data.\n"
   ]
  },
  {
   "cell_type": "code",
   "execution_count": 23,
   "id": "6b2f7b02-3272-4e6b-8c98-7182e2fdd554",
   "metadata": {},
   "outputs": [
    {
     "data": {
      "text/plain": [
       "year  month\n",
       "2013  7         8464\n",
       "      3         7724\n",
       "      6         7553\n",
       "      8         7310\n",
       "      5         7308\n",
       "      9         7248\n",
       "      4         7031\n",
       "      12        6693\n",
       "      10        6679\n",
       "      2         6259\n",
       "      11        6208\n",
       "      1         5780\n",
       "2014  12       23371\n",
       "      7        22166\n",
       "      8        21950\n",
       "      11       21348\n",
       "      9        20831\n",
       "      10       20362\n",
       "      6        17892\n",
       "      5        13963\n",
       "      4        13395\n",
       "      3        13081\n",
       "      1         9089\n",
       "      2         8708\n",
       "Name: month, dtype: int64"
      ]
     },
     "execution_count": 23,
     "metadata": {},
     "output_type": "execute_result"
    }
   ],
   "source": [
    "train_10k.groupby(['year'])['month'].value_counts()"
   ]
  },
  {
   "cell_type": "markdown",
   "id": "e795abe0-8172-411c-8a93-7127b33dcb66",
   "metadata": {},
   "source": [
    "#### Creating datasets with more training data - in batches of 1k users"
   ]
  },
  {
   "cell_type": "code",
   "execution_count": 24,
   "id": "c84b048e-1841-40c5-959e-6ac8d3b99e09",
   "metadata": {},
   "outputs": [
    {
     "name": "stdout",
     "output_type": "stream",
     "text": [
      "(348150, 28)\n",
      "(322270, 28)\n"
     ]
    }
   ],
   "source": [
    "#choose 11k random users using same seed\n",
    "userids_11k = random.choices(userids, k=11000)\n",
    "#create train dataset with the 11k users\n",
    "train_11k = train[train['user_id'].isin(userids_11k)]\n",
    "print(train_11k.shape)\n",
    "#remove all non-bookings to make counting easier\n",
    "train_11k_booking = train_11k[train_11k.is_booking != 0]\n",
    "for user in userids_11k:\n",
    "  #count the number of rows under a single user\n",
    "  bookings = len(train_11k_booking.loc[train_11k_booking['user_id'] == user])\n",
    "  if bookings >= 20:\n",
    "    #remove the travel agent from dataset\n",
    "    train_11k = train_11k[train_11k.user_id != user]\n",
    "print(train_11k.shape)"
   ]
  },
  {
   "cell_type": "code",
   "execution_count": 25,
   "id": "9ea27090-22f7-43a5-a8ce-5e9b67d66fd6",
   "metadata": {},
   "outputs": [
    {
     "name": "stdout",
     "output_type": "stream",
     "text": [
      "1987.4836235623675\n"
     ]
    }
   ],
   "source": [
    "#find mean orig_destination_distance\n",
    "print(train_11k['orig_destination_distance'].mean())"
   ]
  },
  {
   "cell_type": "code",
   "execution_count": 26,
   "id": "4990db67-0bef-4f0e-997e-18991d79bf2b",
   "metadata": {},
   "outputs": [
    {
     "name": "stdout",
     "output_type": "stream",
     "text": [
      "(321845, 28)\n"
     ]
    }
   ],
   "source": [
    "#fill missing values for orig_destination_distance with the column mean\n",
    "train_11k['orig_destination_distance'] = train_11k['orig_destination_distance'].fillna(1987.4836235623675)\n",
    "#clean data with empty cells\n",
    "train_11k = train_11k.dropna()\n",
    "print(train_11k.shape)\n",
    "train_11k.to_csv('train_downsampled_11k.csv', index = False)"
   ]
  },
  {
   "cell_type": "code",
   "execution_count": 27,
   "id": "76467580-76f1-4145-b198-63c29289d8a5",
   "metadata": {},
   "outputs": [
    {
     "name": "stdout",
     "output_type": "stream",
     "text": [
      "(372664, 28)\n",
      "(345106, 28)\n"
     ]
    }
   ],
   "source": [
    "#choose 12k random users using same seed\n",
    "userids_12k = random.choices(userids, k=12000)\n",
    "#create train dataset with the 12k users\n",
    "train_12k = train[train['user_id'].isin(userids_12k)]\n",
    "print(train_12k.shape)\n",
    "#remove all non-bookings to make counting easier\n",
    "train_12k_booking = train_12k[train_12k.is_booking != 0]\n",
    "for user in userids_12k:\n",
    "  #count the number of rows under a single user\n",
    "  bookings = len(train_12k_booking.loc[train_12k_booking['user_id'] == user])\n",
    "  if bookings >= 20:\n",
    "    #remove the travel agent from dataset\n",
    "    train_12k = train_12k[train_12k.user_id != user]\n",
    "print(train_12k.shape)"
   ]
  },
  {
   "cell_type": "code",
   "execution_count": 28,
   "id": "78abe63d-84e4-4ac2-a7bc-399258d737e4",
   "metadata": {},
   "outputs": [
    {
     "name": "stdout",
     "output_type": "stream",
     "text": [
      "1937.888871297059\n"
     ]
    }
   ],
   "source": [
    "#find mean orig_destination_distance\n",
    "print(train_12k['orig_destination_distance'].mean())"
   ]
  },
  {
   "cell_type": "code",
   "execution_count": 29,
   "id": "9be5636a-3928-4c85-8d28-9af35205c1ba",
   "metadata": {},
   "outputs": [
    {
     "name": "stdout",
     "output_type": "stream",
     "text": [
      "(344670, 28)\n"
     ]
    }
   ],
   "source": [
    "#fill missing values for orig_destination_distance with the column mean\n",
    "train_12k['orig_destination_distance'] = train_12k['orig_destination_distance'].fillna(1937.888871297059)\n",
    "#clean data with empty cells\n",
    "train_12k = train_12k.dropna()\n",
    "print(train_12k.shape)\n",
    "train_12k.to_csv('train_downsampled_12k.csv', index = False)"
   ]
  },
  {
   "cell_type": "code",
   "execution_count": 30,
   "id": "609e5f1d-4f60-45b2-8904-749d3dd1b7f7",
   "metadata": {},
   "outputs": [
    {
     "name": "stdout",
     "output_type": "stream",
     "text": [
      "(401915, 28)\n",
      "(373407, 28)\n"
     ]
    }
   ],
   "source": [
    "#choose 13k random users using same seed\n",
    "userids_13k = random.choices(userids, k=13000)\n",
    "#create train dataset with the 13k users\n",
    "train_13k = train[train['user_id'].isin(userids_13k)]\n",
    "print(train_13k.shape)\n",
    "#remove all non-bookings to make counting easier\n",
    "train_13k_booking = train_13k[train_13k.is_booking != 0]\n",
    "for user in userids_13k:\n",
    "  #count the number of rows under a single user\n",
    "  bookings = len(train_13k_booking.loc[train_13k_booking['user_id'] == user])\n",
    "  if bookings >= 20:\n",
    "    #remove the travel agent from dataset\n",
    "    train_13k = train_13k[train_13k.user_id != user]\n",
    "print(train_13k.shape)"
   ]
  },
  {
   "cell_type": "code",
   "execution_count": 31,
   "id": "9efe6679-68ba-4eb3-a827-f7c9d774b531",
   "metadata": {},
   "outputs": [
    {
     "name": "stdout",
     "output_type": "stream",
     "text": [
      "1994.0424972621383\n"
     ]
    }
   ],
   "source": [
    "#find mean orig_destination_distance\n",
    "print(train_13k['orig_destination_distance'].mean())"
   ]
  },
  {
   "cell_type": "code",
   "execution_count": 32,
   "id": "d088f946-3c48-44fa-b942-981c96f625cf",
   "metadata": {},
   "outputs": [
    {
     "name": "stdout",
     "output_type": "stream",
     "text": [
      "(372899, 28)\n"
     ]
    }
   ],
   "source": [
    "#fill missing values for orig_destination_distance with the column mean\n",
    "train_13k['orig_destination_distance'] = train_13k['orig_destination_distance'].fillna(1994.0424972621383)\n",
    "#clean data with empty cells\n",
    "train_13k = train_13k.dropna()\n",
    "print(train_13k.shape)\n",
    "train_13k.to_csv('train_downsampled_13k.csv', index = False)"
   ]
  },
  {
   "cell_type": "code",
   "execution_count": 33,
   "id": "11943479-28ff-4e47-8852-61a47aead7d9",
   "metadata": {},
   "outputs": [
    {
     "name": "stdout",
     "output_type": "stream",
     "text": [
      "(442084, 28)\n",
      "(406843, 28)\n"
     ]
    }
   ],
   "source": [
    "#choose 14k random users using same seed\n",
    "userids_14k = random.choices(userids, k=14000)\n",
    "#create train dataset with the 14k users\n",
    "train_14k = train[train['user_id'].isin(userids_14k)]\n",
    "print(train_14k.shape)\n",
    "#remove all non-bookings to make counting easier\n",
    "train_14k_booking = train_14k[train_14k.is_booking != 0]\n",
    "for user in userids_14k:\n",
    "  #count the number of rows under a single user\n",
    "  bookings = len(train_14k_booking.loc[train_14k_booking['user_id'] == user])\n",
    "  if bookings >= 20:\n",
    "    #remove the travel agent from dataset\n",
    "    train_14k = train_14k[train_14k.user_id != user]\n",
    "print(train_14k.shape)"
   ]
  },
  {
   "cell_type": "code",
   "execution_count": 34,
   "id": "f8536e96-aade-4e47-b27c-ef1119c53da7",
   "metadata": {},
   "outputs": [
    {
     "name": "stdout",
     "output_type": "stream",
     "text": [
      "1945.0912953497989\n"
     ]
    }
   ],
   "source": [
    "#find mean orig_destination_distance\n",
    "print(train_14k['orig_destination_distance'].mean())"
   ]
  },
  {
   "cell_type": "code",
   "execution_count": 35,
   "id": "3f33e2b8-ef07-4fd2-874b-37804eb3e474",
   "metadata": {},
   "outputs": [
    {
     "name": "stdout",
     "output_type": "stream",
     "text": [
      "(406249, 28)\n"
     ]
    }
   ],
   "source": [
    "#fill missing values for orig_destination_distance with the column mean\n",
    "train_14k['orig_destination_distance'] = train_14k['orig_destination_distance'].fillna(1945.0912953497989)\n",
    "#clean data with empty cells\n",
    "train_14k = train_14k.dropna()\n",
    "print(train_14k.shape)\n",
    "train_14k.to_csv('train_downsampled_14k.csv', index = False)"
   ]
  },
  {
   "cell_type": "code",
   "execution_count": 36,
   "id": "63ff151f-89a8-4cd6-aa20-618c999390e3",
   "metadata": {},
   "outputs": [
    {
     "name": "stdout",
     "output_type": "stream",
     "text": [
      "(478268, 28)\n",
      "(436883, 28)\n"
     ]
    }
   ],
   "source": [
    "#choose 15k random users using same seed\n",
    "userids_15k = random.choices(userids, k=15000)\n",
    "#create train dataset with the 15k users\n",
    "train_15k = train[train['user_id'].isin(userids_15k)]\n",
    "print(train_15k.shape)\n",
    "#remove all non-bookings to make counting easier\n",
    "train_15k_booking = train_15k[train_15k.is_booking != 0]\n",
    "for user in userids_15k:\n",
    "  #count the number of rows under a single user\n",
    "  bookings = len(train_15k_booking.loc[train_15k_booking['user_id'] == user])\n",
    "  if bookings >= 20:\n",
    "    #remove the travel agent from dataset\n",
    "    train_15k = train_15k[train_15k.user_id != user]\n",
    "print(train_15k.shape)"
   ]
  },
  {
   "cell_type": "code",
   "execution_count": 37,
   "id": "81d17cf9-351b-4214-b706-5c46f27ccae3",
   "metadata": {},
   "outputs": [
    {
     "name": "stdout",
     "output_type": "stream",
     "text": [
      "1955.5055139469346\n"
     ]
    }
   ],
   "source": [
    "#find mean orig_destination_distance\n",
    "print(train_15k['orig_destination_distance'].mean())"
   ]
  },
  {
   "cell_type": "code",
   "execution_count": 38,
   "id": "f9e0023a-084c-4b58-9bfa-766296714a03",
   "metadata": {},
   "outputs": [
    {
     "name": "stdout",
     "output_type": "stream",
     "text": [
      "(436347, 28)\n"
     ]
    }
   ],
   "source": [
    "#fill missing values for orig_destination_distance with the column mean\n",
    "train_15k['orig_destination_distance'] = train_15k['orig_destination_distance'].fillna(1955.5055139469346)\n",
    "#clean data with empty cells\n",
    "train_15k = train_15k.dropna()\n",
    "print(train_15k.shape)\n",
    "train_15k.to_csv('train_downsampled_15k.csv', index = False)"
   ]
  }
 ],
 "metadata": {
  "kernelspec": {
   "display_name": "Python 3 (ipykernel)",
   "language": "python",
   "name": "python3"
  },
  "language_info": {
   "codemirror_mode": {
    "name": "ipython",
    "version": 3
   },
   "file_extension": ".py",
   "mimetype": "text/x-python",
   "name": "python",
   "nbconvert_exporter": "python",
   "pygments_lexer": "ipython3",
   "version": "3.11.2"
  }
 },
 "nbformat": 4,
 "nbformat_minor": 5
}
