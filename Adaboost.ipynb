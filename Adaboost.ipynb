{
 "cells": [
  {
   "cell_type": "code",
   "execution_count": 1,
   "id": "b2ec844f",
   "metadata": {
    "scrolled": true
   },
   "outputs": [],
   "source": [
    "#import all necessary libraries\n",
    "import numpy as np\n",
    "import pandas as pd\n",
    "import seaborn as sns\n",
    "import matplotlib.pyplot as plt\n",
    "from sklearn.metrics import accuracy_score\n",
    "import ml_metrics as metrics\n",
    "from sklearn.ensemble import AdaBoostClassifier\n"
   ]
  },
  {
   "cell_type": "code",
   "execution_count": 2,
   "id": "a12ecac7",
   "metadata": {},
   "outputs": [],
   "source": [
    "#load datasets\n",
    "train_10k = pd.read_csv('train_downsampled_10k.csv')\n",
    "train_11k = pd.read_csv('train_downsampled_11k.csv')\n",
    "train_12k = pd.read_csv('train_downsampled_12k.csv')\n",
    "train_13k = pd.read_csv('train_downsampled_13k.csv')\n",
    "train_14k = pd.read_csv('train_downsampled_14k.csv')\n",
    "train_15k = pd.read_csv('train_downsampled_15k.csv')"
   ]
  },
  {
   "cell_type": "code",
   "execution_count": 3,
   "id": "49ba44ff",
   "metadata": {},
   "outputs": [],
   "source": [
    "# Drop unnecessary features\n",
    "train_10k = train_10k.drop(['date_time'], axis=1)\n",
    "train_10k = train_10k.drop(['srch_ci'], axis=1)\n",
    "train_10k = train_10k.drop(['srch_co'], axis=1)\n",
    "\n",
    "train_11k = train_11k.drop(['date_time'], axis=1)\n",
    "train_11k = train_11k.drop(['srch_ci'], axis=1)\n",
    "train_11k = train_11k.drop(['srch_co'], axis=1)\n",
    "\n",
    "train_12k = train_12k.drop(['date_time'], axis=1)\n",
    "train_12k = train_12k.drop(['srch_ci'], axis=1)\n",
    "train_12k = train_12k.drop(['srch_co'], axis=1)\n",
    "\n",
    "train_13k = train_13k.drop(['date_time'], axis=1)\n",
    "train_13k = train_13k.drop(['srch_ci'], axis=1)\n",
    "train_13k = train_13k.drop(['srch_co'], axis=1)\n",
    "\n",
    "train_14k = train_14k.drop(['date_time'], axis=1)\n",
    "train_14k = train_14k.drop(['srch_ci'], axis=1)\n",
    "train_14k = train_14k.drop(['srch_co'], axis=1)\n",
    "\n",
    "train_15k = train_15k.drop(['date_time'], axis=1)\n",
    "train_15k = train_15k.drop(['srch_ci'], axis=1)\n",
    "train_15k = train_15k.drop(['srch_co'], axis=1)"
   ]
  },
  {
   "cell_type": "code",
   "execution_count": 4,
   "id": "549c7734",
   "metadata": {},
   "outputs": [],
   "source": [
    "#Split the data\n",
    "train_new_10k = train_10k[((train_10k.year == 2013) | ((train_10k.year == 2014) & (train_10k.month < 8)))]\n",
    "test_new_10k = train_10k[((train_10k.year == 2014) & (train_10k.month >= 8))]\n",
    "train_new_11k = train_11k[((train_11k.year == 2013) | ((train_11k.year == 2014) & (train_11k.month < 8)))]\n",
    "test_new_11k = train_11k[((train_11k.year == 2014) & (train_11k.month >= 8))]\n",
    "train_new_12k = train_12k[((train_12k.year == 2013) | ((train_12k.year == 2014) & (train_12k.month < 8)))]\n",
    "test_new_12k = train_12k[((train_12k.year == 2014) & (train_12k.month >= 8))]\n",
    "train_new_13k = train_13k[((train_13k.year == 2013) | ((train_13k.year == 2014) & (train_13k.month < 8)))]\n",
    "test_new_13k = train_13k[((train_13k.year == 2014) & (train_13k.month >= 8))]\n",
    "train_new_14k = train_14k[((train_14k.year == 2013) | ((train_14k.year == 2014) & (train_14k.month < 8)))]\n",
    "test_new_14k = train_14k[((train_14k.year == 2014) & (train_14k.month >= 8))]\n",
    "train_new_15k = train_15k[((train_15k.year == 2013) | ((train_15k.year == 2014) & (train_15k.month < 8)))]\n",
    "test_new_15k = train_15k[((train_11k.year == 2014) & (train_15k.month >= 8))]"
   ]
  },
  {
   "cell_type": "code",
   "execution_count": 5,
   "id": "3f878823",
   "metadata": {},
   "outputs": [],
   "source": [
    "test_new_10k = test_new_10k[test_new_10k.is_booking == 1]\n",
    "test_new_11k = test_new_11k[test_new_11k.is_booking == 1]\n",
    "test_new_12k = test_new_12k[test_new_12k.is_booking == 1]\n",
    "test_new_13k = test_new_13k[test_new_13k.is_booking == 1]\n",
    "test_new_14k = test_new_14k[test_new_14k.is_booking == 1]\n",
    "test_new_15k = test_new_15k[test_new_15k.is_booking == 1]"
   ]
  },
  {
   "cell_type": "code",
   "execution_count": 6,
   "id": "15957e06",
   "metadata": {},
   "outputs": [],
   "source": [
    "X_train_new_10k = train_new_10k.drop(['hotel_cluster'], axis=1)\n",
    "Y_train_new_10k = train_new_10k['hotel_cluster']\n",
    "X_train_new_11k = train_new_11k.drop(['hotel_cluster'], axis=1)\n",
    "Y_train_new_11k = train_new_11k['hotel_cluster']\n",
    "X_train_new_12k = train_new_12k.drop(['hotel_cluster'], axis=1)\n",
    "Y_train_new_12k = train_new_12k['hotel_cluster']\n",
    "X_train_new_13k = train_new_13k.drop(['hotel_cluster'], axis=1)\n",
    "Y_train_new_13k = train_new_13k['hotel_cluster']\n",
    "X_train_new_14k = train_new_14k.drop(['hotel_cluster'], axis=1)\n",
    "Y_train_new_14k = train_new_14k['hotel_cluster']\n",
    "X_train_new_15k = train_new_15k.drop(['hotel_cluster'], axis=1)\n",
    "Y_train_new_15k = train_new_15k['hotel_cluster']"
   ]
  },
  {
   "cell_type": "code",
   "execution_count": 7,
   "id": "00a19868",
   "metadata": {},
   "outputs": [],
   "source": [
    "X_test_new_10k = test_new_10k.drop(['hotel_cluster'], axis=1)\n",
    "Y_test_new_10k = test_new_10k['hotel_cluster']\n",
    "X_test_new_11k = test_new_11k.drop(['hotel_cluster'], axis=1)\n",
    "Y_test_new_11k = test_new_11k['hotel_cluster']\n",
    "X_test_new_12k = test_new_12k.drop(['hotel_cluster'], axis=1)\n",
    "Y_test_new_12k = test_new_12k['hotel_cluster']\n",
    "X_test_new_13k = test_new_13k.drop(['hotel_cluster'], axis=1)\n",
    "Y_test_new_13k = test_new_13k['hotel_cluster']\n",
    "X_test_new_14k = test_new_14k.drop(['hotel_cluster'], axis=1)\n",
    "Y_test_new_14k = test_new_14k['hotel_cluster']\n",
    "X_test_new_15k = test_new_15k.drop(['hotel_cluster'], axis=1)\n",
    "Y_test_new_15k = test_new_15k['hotel_cluster']"
   ]
  },
  {
   "cell_type": "code",
   "execution_count": 8,
   "id": "e713c9f3",
   "metadata": {},
   "outputs": [],
   "source": [
    "def mean_average_precision(y_test, y_pred_proba):\n",
    "    y_pred_k = np.array([y_pred_proba[i].argsort()[-5:][::-1] \n",
    "        for i in range(len(y_test))]) # k=5 most likely predicted classes for each input\n",
    "    map_score = metrics.mapk(y_test.values[np.newaxis].T, y_pred_k, 5)\n",
    "    return map_score"
   ]
  },
  {
   "cell_type": "code",
   "execution_count": 9,
   "id": "031f69d4",
   "metadata": {},
   "outputs": [],
   "source": [
    "abc_10k = AdaBoostClassifier(n_estimators=50, learning_rate=1)\n",
    "abc_11k = AdaBoostClassifier(n_estimators=50, learning_rate=1)\n",
    "abc_12k = AdaBoostClassifier(n_estimators=50, learning_rate=1)\n",
    "abc_13k = AdaBoostClassifier(n_estimators=50, learning_rate=1)\n",
    "abc_14k = AdaBoostClassifier(n_estimators=50, learning_rate=1)\n",
    "abc_15k = AdaBoostClassifier(n_estimators=50, learning_rate=1)"
   ]
  },
  {
   "cell_type": "code",
   "execution_count": 10,
   "id": "9babdc1d",
   "metadata": {},
   "outputs": [
    {
     "data": {
      "text/plain": [
       "AdaBoostClassifier(learning_rate=1)"
      ]
     },
     "execution_count": 10,
     "metadata": {},
     "output_type": "execute_result"
    }
   ],
   "source": [
    "abc_10k.fit(X_train_new_10k, Y_train_new_10k)\n",
    "abc_11k.fit(X_train_new_11k, Y_train_new_11k)\n",
    "abc_12k.fit(X_train_new_12k, Y_train_new_12k)\n",
    "abc_13k.fit(X_train_new_13k, Y_train_new_13k)\n",
    "abc_14k.fit(X_train_new_14k, Y_train_new_14k)\n",
    "abc_15k.fit(X_train_new_15k, Y_train_new_15k)"
   ]
  },
  {
   "cell_type": "code",
   "execution_count": 11,
   "id": "b5aa36c6",
   "metadata": {},
   "outputs": [],
   "source": [
    "abc_pred_10k = abc_10k.predict(X_test_new_10k)\n",
    "abc_pred_11k = abc_11k.predict(X_test_new_11k)\n",
    "abc_pred_12k = abc_12k.predict(X_test_new_12k)\n",
    "abc_pred_13k = abc_13k.predict(X_test_new_13k)\n",
    "abc_pred_14k = abc_14k.predict(X_test_new_14k)\n",
    "abc_pred_15k = abc_15k.predict(X_test_new_15k)"
   ]
  },
  {
   "cell_type": "code",
   "execution_count": 12,
   "id": "94840589",
   "metadata": {},
   "outputs": [],
   "source": [
    "abc_prob_10k = abc_10k.predict_proba(X_test_new_10k)\n",
    "abc_prob_11k = abc_11k.predict_proba(X_test_new_11k)\n",
    "abc_prob_12k = abc_12k.predict_proba(X_test_new_12k)\n",
    "abc_prob_13k = abc_13k.predict_proba(X_test_new_13k)\n",
    "abc_prob_14k = abc_14k.predict_proba(X_test_new_14k)\n",
    "abc_prob_15k = abc_15k.predict_proba(X_test_new_15k)"
   ]
  },
  {
   "cell_type": "code",
   "execution_count": 13,
   "id": "73de3a6e",
   "metadata": {},
   "outputs": [
    {
     "name": "stdout",
     "output_type": "stream",
     "text": [
      "[[1.06161752e-02 2.98813176e-03 1.05826301e-02 ... 1.05419806e-02\n",
      "  1.03883996e-02 1.06436639e-02]\n",
      " [1.04608210e-02 5.53716197e-03 1.03002818e-02 ... 1.02421849e-02\n",
      "  1.04864476e-02 1.03841885e-02]\n",
      " [1.07178948e-02 1.63155919e-06 1.07620539e-02 ... 1.07488314e-02\n",
      "  1.02672325e-02 1.09513362e-02]\n",
      " ...\n",
      " [1.04608210e-02 5.53716197e-03 1.03002818e-02 ... 1.02421849e-02\n",
      "  1.04864476e-02 1.03841885e-02]\n",
      " [1.06950946e-02 1.06686543e-06 1.07950756e-02 ... 1.06589152e-02\n",
      "  1.04854877e-02 1.07724035e-02]\n",
      " [1.08716813e-02 1.64791810e-03 1.06108103e-02 ... 1.06051313e-02\n",
      "  1.07708526e-02 1.05906972e-02]]\n"
     ]
    }
   ],
   "source": [
    "print(abc_prob_10k)"
   ]
  },
  {
   "cell_type": "code",
   "execution_count": 14,
   "id": "5e9461be",
   "metadata": {},
   "outputs": [
    {
     "name": "stdout",
     "output_type": "stream",
     "text": [
      "Accuracy 0.05931581265599765\n",
      "Accuracy 0.05904490007786141\n",
      "Accuracy 0.06446939514668598\n",
      "Accuracy 0.05637040280210158\n",
      "Accuracy 0.055936891711914766\n",
      "Accuracy 0.06123514819166993\n"
     ]
    }
   ],
   "source": [
    "accuracy_10k = accuracy_score(Y_test_new_10k, abc_pred_10k)\n",
    "print('Accuracy', accuracy_10k)\n",
    "accuracy_11k = accuracy_score(Y_test_new_11k, abc_pred_11k)\n",
    "print('Accuracy', accuracy_11k)\n",
    "accuracy_12k = accuracy_score(Y_test_new_12k, abc_pred_12k)\n",
    "print('Accuracy', accuracy_12k)\n",
    "accuracy_13k = accuracy_score(Y_test_new_13k, abc_pred_13k)\n",
    "print('Accuracy', accuracy_13k)\n",
    "accuracy_14k = accuracy_score(Y_test_new_14k, abc_pred_14k)\n",
    "print('Accuracy', accuracy_14k)\n",
    "accuracy_15k = accuracy_score(Y_test_new_15k, abc_pred_15k)\n",
    "print('Accuracy', accuracy_15k)"
   ]
  },
  {
   "cell_type": "code",
   "execution_count": 15,
   "id": "7c964dc2",
   "metadata": {},
   "outputs": [
    {
     "name": "stdout",
     "output_type": "stream",
     "text": [
      "Mean Average Precision@5 0.11880046982821905\n",
      "Mean Average Precision@5 0.11074919975776451\n",
      "Mean Average Precision@5 0.12148979838222866\n",
      "Mean Average Precision@5 0.10392768534734384\n",
      "Mean Average Precision@5 0.11254823617798722\n",
      "Mean Average Precision@5 0.11218392305348826\n"
     ]
    }
   ],
   "source": [
    "map_10k = mean_average_precision(Y_test_new_10k, abc_prob_10k)\n",
    "print(\"Mean Average Precision@5\", map_10k)\n",
    "map_11k = mean_average_precision(Y_test_new_11k, abc_prob_11k)\n",
    "print(\"Mean Average Precision@5\", map_11k)\n",
    "map_12k = mean_average_precision(Y_test_new_12k, abc_prob_12k)\n",
    "print(\"Mean Average Precision@5\", map_12k)\n",
    "map_13k = mean_average_precision(Y_test_new_13k, abc_prob_13k)\n",
    "print(\"Mean Average Precision@5\", map_13k)\n",
    "map_14k = mean_average_precision(Y_test_new_14k, abc_prob_14k)\n",
    "print(\"Mean Average Precision@5\", map_14k)\n",
    "map_15k = mean_average_precision(Y_test_new_15k, abc_prob_15k)\n",
    "print(\"Mean Average Precision@5\", map_15k)"
   ]
  },
  {
   "cell_type": "code",
   "execution_count": 16,
   "id": "64bbf786",
   "metadata": {},
   "outputs": [],
   "source": [
    "mapk_scores = [map_10k, map_11k, map_12k, map_13k, map_14k, map_15k]"
   ]
  },
  {
   "cell_type": "code",
   "execution_count": 17,
   "id": "5e870bf6",
   "metadata": {},
   "outputs": [
    {
     "data": {
      "image/png": "[encoded data removed]",
      "text/plain": [
       "<Figure size 432x288 with 1 Axes>"
      ]
     },
     "metadata": {
      "needs_background": "light"
     },
     "output_type": "display_data"
    }
   ],
   "source": [
    "dataset_size = [10000, 11000, 12000, 13000, 14000, 15000]\n",
    "\n",
    "plt.plot(dataset_size,mapk_scores)\n",
    "plt.title(\"Dataset Size vs MAPK Score for AdaBoost\",fontsize=20)\n",
    "plt.xlabel(\"Size\",fontsize=17)\n",
    "plt.ylabel(\"MAPK Score\",fontsize=17)\n",
    "plt.show()"
   ]
  }
 ],
 "metadata": {
  "kernelspec": {
   "display_name": "Python 3 (ipykernel)",
   "language": "python",
   "name": "python3"
  },
  "language_info": {
   "codemirror_mode": {
    "name": "ipython",
    "version": 3
   },
   "file_extension": ".py",
   "mimetype": "text/x-python",
   "name": "python",
   "nbconvert_exporter": "python",
   "pygments_lexer": "ipython3",
   "version": "3.9.7"
  }
 },
 "nbformat": 4,
 "nbformat_minor": 5
}
