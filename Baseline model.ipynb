{
 "cells": [
  {
   "cell_type": "code",
   "execution_count": 1,
   "id": "33de9a9b-e766-4bea-ad3b-84ae218ecc61",
   "metadata": {},
   "outputs": [],
   "source": [
    "#import all necessary libraries\n",
    "import numpy as np\n",
    "import pandas as pd\n",
    "import seaborn as sns\n",
    "import matplotlib.pyplot as plt"
   ]
  },
  {
   "cell_type": "code",
   "execution_count": 2,
   "id": "47bcc3e4-6d9c-49b1-9ce0-9e8d19900ac8",
   "metadata": {},
   "outputs": [],
   "source": [
    "#load datasets\n",
    "train = pd.read_csv('train_downsampled_10k.csv')\n",
    "#test = pd.read_csv('test.csv')"
   ]
  },
  {
   "cell_type": "markdown",
   "id": "50022f5c-da21-4c3b-81de-75931da1c725",
   "metadata": {},
   "source": [
    "Since the original challenge required that we use data from 2013 and 2014 to predict users’ preferred hotel clusters in 2015, we further split our new set of 10,000 users into training and testing sets by year; 2013 and part of 2014 for the new training set and the rest of 2014 for the testing set. For a 80/20 split, we will split our data set so that anything after September 2014 is in test_new and anything before is in train_new.\n"
   ]
  },
  {
   "cell_type": "code",
   "execution_count": 3,
   "id": "cee7dbdd-36de-4c95-b9e3-bff3a8394d8e",
   "metadata": {},
   "outputs": [],
   "source": [
    "train_new = train[((train.year == 2013) | ((train.year == 2014) & (train.month < 10)))]\n",
    "test_new = train[((train.year == 2014) & (train.month >= 10))]"
   ]
  },
  {
   "cell_type": "code",
   "execution_count": 4,
   "id": "c4da609d-0f78-4917-b55b-111b810736e4",
   "metadata": {},
   "outputs": [
    {
     "name": "stdout",
     "output_type": "stream",
     "text": [
      "(225332, 28)\n",
      "(65081, 28)\n"
     ]
    }
   ],
   "source": [
    "print(train_new.shape)\n",
    "print(test_new.shape)"
   ]
  },
  {
   "cell_type": "markdown",
   "id": "2196680a-87ae-4889-a6c8-ce5d104b2f56",
   "metadata": {},
   "source": [
    "## Baseline model"
   ]
  },
  {
   "cell_type": "markdown",
   "id": "e28bb68e-cde5-442d-ad8f-67de15841920",
   "metadata": {},
   "source": [
    "The most simple method that we could try (beyond just randomly selecting clusters for each user) was to always select the most common clusters among the training set."
   ]
  },
  {
   "cell_type": "code",
   "execution_count": 5,
   "id": "57c6388f-f79b-4ef2-a636-22e855ba65f3",
   "metadata": {},
   "outputs": [
    {
     "name": "stdout",
     "output_type": "stream",
     "text": [
      "[91, 48, 41, 64, 65]\n"
     ]
    }
   ],
   "source": [
    "top_five_clusters = list(train.hotel_cluster.value_counts().head().index)\n",
    "print(top_five_clusters)"
   ]
  },
  {
   "cell_type": "markdown",
   "id": "b1f17bd2-16b5-483e-a7f6-56ce8ed77b1c",
   "metadata": {},
   "source": [
    "We can use the most common clusters as our first list of predictions for each row in the test subset."
   ]
  },
  {
   "cell_type": "code",
   "execution_count": 6,
   "id": "1eb33a56-7087-4634-9a3f-c273ee460230",
   "metadata": {},
   "outputs": [],
   "source": [
    "preds = [top_five_clusters for i in range(test_new.shape[0])]"
   ]
  },
  {
   "cell_type": "code",
   "execution_count": 7,
   "id": "8ace7467-2c2d-40d0-af00-ae241d11b5ef",
   "metadata": {},
   "outputs": [
    {
     "data": {
      "text/plain": [
       "0.05042383081595755"
      ]
     },
     "execution_count": 7,
     "metadata": {},
     "output_type": "execute_result"
    }
   ],
   "source": [
    "import ml_metrics as metrics\n",
    "target_preds = [[i] for i in test_new['hotel_cluster']]\n",
    "metrics.mapk(target_preds, preds, k=5)"
   ]
  },
  {
   "cell_type": "markdown",
   "id": "4e907a92-d848-49ca-86ce-9152e7c50f23",
   "metadata": {},
   "source": [
    "The above code gave us a list of the 5 most common clusters and the MAP@5 score for this method was .0504. This provides a baseline value for which to evaluate the other models."
   ]
  },
  {
   "cell_type": "code",
   "execution_count": null,
   "id": "8789c169-5f3e-4461-abe2-e16c44045d21",
   "metadata": {},
   "outputs": [],
   "source": []
  }
 ],
 "metadata": {
  "kernelspec": {
   "display_name": "Python 3 (ipykernel)",
   "language": "python",
   "name": "python3"
  },
  "language_info": {
   "codemirror_mode": {
    "name": "ipython",
    "version": 3
   },
   "file_extension": ".py",
   "mimetype": "text/x-python",
   "name": "python",
   "nbconvert_exporter": "python",
   "pygments_lexer": "ipython3",
   "version": "3.11.2"
  }
 },
 "nbformat": 4,
 "nbformat_minor": 5
}
