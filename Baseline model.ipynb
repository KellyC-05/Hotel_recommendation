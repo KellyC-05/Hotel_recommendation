{
 "cells": [
  {
   "cell_type": "code",
   "execution_count": 1,
   "id": "33de9a9b-e766-4bea-ad3b-84ae218ecc61",
   "metadata": {},
   "outputs": [],
   "source": [
    "#import all necessary libraries\n",
    "import numpy as np\n",
    "import pandas as pd\n",
    "import seaborn as sns\n",
    "import matplotlib.pyplot as plt"
   ]
  },
  {
   "cell_type": "code",
   "execution_count": 2,
   "id": "47bcc3e4-6d9c-49b1-9ce0-9e8d19900ac8",
   "metadata": {},
   "outputs": [],
   "source": [
    "#load datasets\n",
    "train = pd.read_csv('train_downsampled_10k.csv')"
   ]
  },
  {
   "cell_type": "markdown",
   "id": "50022f5c-da21-4c3b-81de-75931da1c725",
   "metadata": {},
   "source": [
    "Since the original challenge required that we use data from 2013 and 2014 to predict users’ preferred hotel clusters in 2015, we further split our new set of 10,000 users into training and testing sets by year; 2013 and part of 2014 for the new training set and the rest of 2014 for the testing set. For a 80/20 split, we will split our data set so that anything after July 2014 is in test_new and anything before is in train_new.\n"
   ]
  },
  {
   "cell_type": "code",
   "execution_count": 3,
   "id": "cee7dbdd-36de-4c95-b9e3-bff3a8394d8e",
   "metadata": {},
   "outputs": [],
   "source": [
    "train_new = train[((train.year == 2013) | ((train.year == 2014) & (train.month < 8)))]\n",
    "test_new = train[((train.year == 2014) & (train.month >= 8))]"
   ]
  },
  {
   "cell_type": "markdown",
   "id": "571821d0-a00f-46f0-bdbf-8660ca5b212d",
   "metadata": {},
   "source": [
    "The test set should only contain booking events. When is_booking is 0, it means that instance was a click and didn't end in a booking. So we'll need our test set to only include bookings"
   ]
  },
  {
   "cell_type": "code",
   "execution_count": 4,
   "id": "3ca1b2ab-c6fb-4839-b8a2-3be3e75f0d5e",
   "metadata": {},
   "outputs": [],
   "source": [
    "test_new = test_new[test_new.is_booking == 1]"
   ]
  },
  {
   "cell_type": "code",
   "execution_count": 5,
   "id": "c4da609d-0f78-4917-b55b-111b810736e4",
   "metadata": {},
   "outputs": [
    {
     "name": "stdout",
     "output_type": "stream",
     "text": [
      "(182551, 28)\n",
      "(6811, 28)\n"
     ]
    }
   ],
   "source": [
    "print(train_new.shape)\n",
    "print(test_new.shape)"
   ]
  },
  {
   "cell_type": "markdown",
   "id": "2196680a-87ae-4889-a6c8-ce5d104b2f56",
   "metadata": {},
   "source": [
    "## Baseline model"
   ]
  },
  {
   "cell_type": "markdown",
   "id": "e28bb68e-cde5-442d-ad8f-67de15841920",
   "metadata": {},
   "source": [
    "The most simple method that we could try (beyond just randomly selecting clusters for each user) was to always select the most common clusters among the training set."
   ]
  },
  {
   "cell_type": "code",
   "execution_count": 6,
   "id": "57c6388f-f79b-4ef2-a636-22e855ba65f3",
   "metadata": {},
   "outputs": [
    {
     "name": "stdout",
     "output_type": "stream",
     "text": [
      "[91, 48, 41, 64, 65]\n"
     ]
    }
   ],
   "source": [
    "top_five_clusters = list(train.hotel_cluster.value_counts().head().index)\n",
    "print(top_five_clusters)"
   ]
  },
  {
   "cell_type": "markdown",
   "id": "b1f17bd2-16b5-483e-a7f6-56ce8ed77b1c",
   "metadata": {},
   "source": [
    "We can use the most common clusters as our first list of predictions for each row in the test subset."
   ]
  },
  {
   "cell_type": "code",
   "execution_count": 7,
   "id": "1eb33a56-7087-4634-9a3f-c273ee460230",
   "metadata": {},
   "outputs": [],
   "source": [
    "preds = [top_five_clusters for i in range(test_new.shape[0])]"
   ]
  },
  {
   "cell_type": "code",
   "execution_count": 8,
   "id": "8ace7467-2c2d-40d0-af00-ae241d11b5ef",
   "metadata": {},
   "outputs": [],
   "source": [
    "import ml_metrics as metrics\n",
    "target_preds = [[i] for i in test_new['hotel_cluster']]"
   ]
  },
  {
   "cell_type": "markdown",
   "id": "4e907a92-d848-49ca-86ce-9152e7c50f23",
   "metadata": {},
   "source": [
    "The above code gave us a list of the 5 most common clusters and the MAP@5 score for this method was .0504. This provides a baseline value for which to evaluate the other models."
   ]
  },
  {
   "cell_type": "code",
   "execution_count": 9,
   "id": "8789c169-5f3e-4461-abe2-e16c44045d21",
   "metadata": {},
   "outputs": [],
   "source": [
    "#load datasets\n",
    "train_11k = pd.read_csv('train_downsampled_11k.csv')\n",
    "train_12k = pd.read_csv('train_downsampled_12k.csv')\n",
    "train_13k = pd.read_csv('train_downsampled_13k.csv')\n",
    "train_14k = pd.read_csv('train_downsampled_14k.csv')\n",
    "train_15k = pd.read_csv('train_downsampled_15k.csv')"
   ]
  },
  {
   "cell_type": "code",
   "execution_count": 10,
   "id": "af82e519-7fc2-4623-b94a-d76f13ea8daf",
   "metadata": {},
   "outputs": [],
   "source": [
    "#Split the data\n",
    "train_new_11k = train_11k[((train_11k.year == 2013) | ((train_11k.year == 2014) & (train_11k.month < 8)))]\n",
    "test_new_11k = train_11k[((train_11k.year == 2014) & (train_11k.month >= 8))]\n",
    "train_new_12k = train_12k[((train_12k.year == 2013) | ((train_12k.year == 2014) & (train_12k.month < 8)))]\n",
    "test_new_12k = train_12k[((train_12k.year == 2014) & (train_12k.month >= 8))]\n",
    "train_new_13k = train_13k[((train_13k.year == 2013) | ((train_13k.year == 2014) & (train_13k.month < 8)))]\n",
    "test_new_13k = train_13k[((train_13k.year == 2014) & (train_13k.month >= 8))]\n",
    "train_new_14k = train_14k[((train_14k.year == 2013) | ((train_14k.year == 2014) & (train_14k.month < 8)))]\n",
    "test_new_14k = train_14k[((train_14k.year == 2014) & (train_14k.month >= 8))]\n",
    "train_new_15k = train_15k[((train_15k.year == 2013) | ((train_15k.year == 2014) & (train_15k.month < 8)))]\n",
    "test_new_15k = train_15k[((train_11k.year == 2014) & (train_15k.month >= 8))]"
   ]
  },
  {
   "cell_type": "code",
   "execution_count": 11,
   "id": "7ee0ac78-0b98-46bd-b45f-27a0def24bd7",
   "metadata": {},
   "outputs": [],
   "source": [
    "test_new_11k = test_new_11k[test_new_11k.is_booking == 1]\n",
    "test_new_12k = test_new_12k[test_new_12k.is_booking == 1]\n",
    "test_new_13k = test_new_13k[test_new_13k.is_booking == 1]\n",
    "test_new_14k = test_new_14k[test_new_14k.is_booking == 1]\n",
    "test_new_15k = test_new_15k[test_new_15k.is_booking == 1]"
   ]
  },
  {
   "cell_type": "code",
   "execution_count": 12,
   "id": "7d72acf6-fe82-4ba8-9a24-7384df7990a6",
   "metadata": {},
   "outputs": [
    {
     "name": "stdout",
     "output_type": "stream",
     "text": [
      "(201514, 28)\n",
      "(7706, 28)\n",
      "(218144, 28)\n",
      "(8283, 28)\n",
      "(231302, 28)\n",
      "(9136, 28)\n",
      "(254745, 28)\n",
      "(9761, 28)\n",
      "(275787, 28)\n",
      "(7659, 28)\n"
     ]
    }
   ],
   "source": [
    "print(train_new_11k.shape)\n",
    "print(test_new_11k.shape)\n",
    "print(train_new_12k.shape)\n",
    "print(test_new_12k.shape)\n",
    "print(train_new_13k.shape)\n",
    "print(test_new_13k.shape)\n",
    "print(train_new_14k.shape)\n",
    "print(test_new_14k.shape)\n",
    "print(train_new_15k.shape)\n",
    "print(test_new_15k.shape)"
   ]
  },
  {
   "cell_type": "code",
   "execution_count": 13,
   "id": "23afaeea-66c9-40e0-8582-5a4126ac5065",
   "metadata": {},
   "outputs": [],
   "source": [
    "preds_11k = [top_five_clusters for i in range(test_new_11k.shape[0])]\n",
    "preds_12k = [top_five_clusters for i in range(test_new_12k.shape[0])]\n",
    "preds_13k = [top_five_clusters for i in range(test_new_13k.shape[0])]\n",
    "preds_14k = [top_five_clusters for i in range(test_new_14k.shape[0])]\n",
    "preds_15k = [top_five_clusters for i in range(test_new_15k.shape[0])]"
   ]
  },
  {
   "cell_type": "code",
   "execution_count": 14,
   "id": "d22ecb9b-9283-4b49-9645-6fcdfaa424e0",
   "metadata": {},
   "outputs": [],
   "source": [
    "target_preds_11k = [[i] for i in test_new_11k['hotel_cluster']]\n",
    "target_preds_12k = [[i] for i in test_new_12k['hotel_cluster']]\n",
    "target_preds_13k = [[i] for i in test_new_13k['hotel_cluster']]\n",
    "target_preds_14k = [[i] for i in test_new_14k['hotel_cluster']]\n",
    "target_preds_15k = [[i] for i in test_new_15k['hotel_cluster']]"
   ]
  },
  {
   "cell_type": "code",
   "execution_count": 15,
   "id": "038b070b-1007-482b-8f01-7aecea0debdd",
   "metadata": {},
   "outputs": [],
   "source": [
    "mapk_scores = [metrics.mapk(target_preds, preds, k=5), metrics.mapk(target_preds_11k, preds_11k, k=5), metrics.mapk(target_preds_12k, preds_12k, k=5), metrics.mapk(target_preds_13k, preds_13k, k=5), metrics.mapk(target_preds_14k, preds_14k, k=5), metrics.mapk(target_preds_15k, preds_15k, k=5)]"
   ]
  },
  {
   "cell_type": "code",
   "execution_count": 16,
   "id": "c70bd1b3-eace-43e0-a74e-9043fac6fa6b",
   "metadata": {},
   "outputs": [
    {
     "name": "stdout",
     "output_type": "stream",
     "text": [
      "[0.06752067733568247, 0.06794921706029934, 0.07058432934926959, 0.06524190017513136, 0.06447939077280333, 0.06035383209296253]\n"
     ]
    }
   ],
   "source": [
    "print(mapk_scores)"
   ]
  },
  {
   "cell_type": "code",
   "execution_count": 17,
   "id": "585b8a63-8627-4834-86df-40a8754c86d9",
   "metadata": {},
   "outputs": [
    {
     "data": {
      "image/png": "[encoded data removed]",
      "text/plain": [
       "<Figure size 640x480 with 1 Axes>"
      ]
     },
     "metadata": {},
     "output_type": "display_data"
    }
   ],
   "source": [
    "dataset_size = [10000, 11000, 12000, 13000, 14000, 15000]\n",
    "\n",
    "plt.plot(dataset_size,mapk_scores)\n",
    "plt.title(\"Dataset size vs MAPK score for baseline\",fontsize=20)\n",
    "plt.xlabel(\"Size\",fontsize=17)\n",
    "plt.ylabel(\"MAPK score\",fontsize=17)\n",
    "plt.show()"
   ]
  }
 ],
 "metadata": {
  "kernelspec": {
   "display_name": "Python 3 (ipykernel)",
   "language": "python",
   "name": "python3"
  },
  "language_info": {
   "codemirror_mode": {
    "name": "ipython",
    "version": 3
   },
   "file_extension": ".py",
   "mimetype": "text/x-python",
   "name": "python",
   "nbconvert_exporter": "python",
   "pygments_lexer": "ipython3",
   "version": "3.11.2"
  }
 },
 "nbformat": 4,
 "nbformat_minor": 5
}
