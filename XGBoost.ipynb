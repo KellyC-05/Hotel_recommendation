{
 "cells": [
  {
   "cell_type": "code",
   "execution_count": 1,
   "id": "20ad0860-355e-4c1f-b65d-12f6f4756c7b",
   "metadata": {},
   "outputs": [],
   "source": [
    "#import all necessary libraries\n",
    "import numpy as np\n",
    "import pandas as pd\n",
    "import seaborn as sns\n",
    "import matplotlib.pyplot as plt\n",
    "from sklearn.metrics import accuracy_score\n",
    "import ml_metrics as metrics"
   ]
  },
  {
   "cell_type": "code",
   "execution_count": 2,
   "id": "228f1530-a8f6-433e-8796-02f1b2f583ec",
   "metadata": {},
   "outputs": [],
   "source": [
    "#load datasets\n",
    "train_10k = pd.read_csv('train_downsampled_10k.csv')\n",
    "train_11k = pd.read_csv('train_downsampled_11k.csv')\n",
    "train_12k = pd.read_csv('train_downsampled_12k.csv')\n",
    "train_13k = pd.read_csv('train_downsampled_13k.csv')\n",
    "train_14k = pd.read_csv('train_downsampled_14k.csv')\n",
    "train_15k = pd.read_csv('train_downsampled_15k.csv')"
   ]
  },
  {
   "cell_type": "code",
   "execution_count": 3,
   "id": "81b7a039-c18c-49cd-8b86-167e8874bff9",
   "metadata": {},
   "outputs": [],
   "source": [
    "# Drop unnecessary features\n",
    "train_10k = train_10k.drop(['date_time'], axis=1)\n",
    "train_10k = train_10k.drop(['srch_ci'], axis=1)\n",
    "train_10k = train_10k.drop(['srch_co'], axis=1)\n",
    "\n",
    "train_11k = train_11k.drop(['date_time'], axis=1)\n",
    "train_11k = train_11k.drop(['srch_ci'], axis=1)\n",
    "train_11k = train_11k.drop(['srch_co'], axis=1)\n",
    "\n",
    "train_12k = train_12k.drop(['date_time'], axis=1)\n",
    "train_12k = train_12k.drop(['srch_ci'], axis=1)\n",
    "train_12k = train_12k.drop(['srch_co'], axis=1)\n",
    "\n",
    "train_13k = train_13k.drop(['date_time'], axis=1)\n",
    "train_13k = train_13k.drop(['srch_ci'], axis=1)\n",
    "train_13k = train_13k.drop(['srch_co'], axis=1)\n",
    "\n",
    "train_14k = train_14k.drop(['date_time'], axis=1)\n",
    "train_14k = train_14k.drop(['srch_ci'], axis=1)\n",
    "train_14k = train_14k.drop(['srch_co'], axis=1)\n",
    "\n",
    "train_15k = train_15k.drop(['date_time'], axis=1)\n",
    "train_15k = train_15k.drop(['srch_ci'], axis=1)\n",
    "train_15k = train_15k.drop(['srch_co'], axis=1)"
   ]
  },
  {
   "cell_type": "code",
   "execution_count": 4,
   "id": "496e8721-c445-4eff-b892-202726117953",
   "metadata": {},
   "outputs": [],
   "source": [
    "#Split the data\n",
    "train_new_10k = train_10k[((train_10k.year == 2013) | ((train_10k.year == 2014) & (train_10k.month < 8)))]\n",
    "test_new_10k = train_10k[((train_10k.year == 2014) & (train_10k.month >= 8))]\n",
    "train_new_11k = train_11k[((train_11k.year == 2013) | ((train_11k.year == 2014) & (train_11k.month < 8)))]\n",
    "test_new_11k = train_11k[((train_11k.year == 2014) & (train_11k.month >= 8))]\n",
    "train_new_12k = train_12k[((train_12k.year == 2013) | ((train_12k.year == 2014) & (train_12k.month < 8)))]\n",
    "test_new_12k = train_12k[((train_12k.year == 2014) & (train_12k.month >= 8))]\n",
    "train_new_13k = train_13k[((train_13k.year == 2013) | ((train_13k.year == 2014) & (train_13k.month < 8)))]\n",
    "test_new_13k = train_13k[((train_13k.year == 2014) & (train_13k.month >= 8))]\n",
    "train_new_14k = train_14k[((train_14k.year == 2013) | ((train_14k.year == 2014) & (train_14k.month < 8)))]\n",
    "test_new_14k = train_14k[((train_14k.year == 2014) & (train_14k.month >= 8))]\n",
    "train_new_15k = train_15k[((train_15k.year == 2013) | ((train_15k.year == 2014) & (train_15k.month < 8)))]\n",
    "test_new_15k = train_15k[((train_11k.year == 2014) & (train_15k.month >= 8))]"
   ]
  },
  {
   "cell_type": "code",
   "execution_count": 5,
   "id": "59e708ac-0219-4e0f-9a90-30a11493a201",
   "metadata": {},
   "outputs": [],
   "source": [
    "test_new_10k = test_new_10k[test_new_10k.is_booking == 1]\n",
    "test_new_11k = test_new_11k[test_new_11k.is_booking == 1]\n",
    "test_new_12k = test_new_12k[test_new_12k.is_booking == 1]\n",
    "test_new_13k = test_new_13k[test_new_13k.is_booking == 1]\n",
    "test_new_14k = test_new_14k[test_new_14k.is_booking == 1]\n",
    "test_new_15k = test_new_15k[test_new_15k.is_booking == 1]"
   ]
  },
  {
   "cell_type": "code",
   "execution_count": 6,
   "id": "77de0f84-4e6a-451d-baba-5b88235e53bd",
   "metadata": {},
   "outputs": [],
   "source": [
    "X_train_new_10k = train_new_10k.drop(['hotel_cluster'], axis=1)\n",
    "Y_train_new_10k = train_new_10k['hotel_cluster']\n",
    "X_train_new_11k = train_new_11k.drop(['hotel_cluster'], axis=1)\n",
    "Y_train_new_11k = train_new_11k['hotel_cluster']\n",
    "X_train_new_12k = train_new_12k.drop(['hotel_cluster'], axis=1)\n",
    "Y_train_new_12k = train_new_12k['hotel_cluster']\n",
    "X_train_new_13k = train_new_13k.drop(['hotel_cluster'], axis=1)\n",
    "Y_train_new_13k = train_new_13k['hotel_cluster']\n",
    "X_train_new_14k = train_new_14k.drop(['hotel_cluster'], axis=1)\n",
    "Y_train_new_14k = train_new_14k['hotel_cluster']\n",
    "X_train_new_15k = train_new_15k.drop(['hotel_cluster'], axis=1)\n",
    "Y_train_new_15k = train_new_15k['hotel_cluster']"
   ]
  },
  {
   "cell_type": "code",
   "execution_count": 7,
   "id": "7308cbfc-774f-4a7b-979c-1489ae5a9d0a",
   "metadata": {},
   "outputs": [],
   "source": [
    "def mean_average_precision(y_test, y_pred_proba):\n",
    "    y_pred_k = np.array([y_pred_proba[i].argsort()[-5:][::-1] \n",
    "        for i in range(len(y_test))]) # k=5 most likely predicted classes for each input\n",
    "    map_score = metrics.mapk(y_test.values[np.newaxis].T, y_pred_k, 5)\n",
    "    return map_score"
   ]
  },
  {
   "cell_type": "code",
   "execution_count": 9,
   "id": "0d64281b-b4e2-499a-b32c-0a79e30cfe68",
   "metadata": {},
   "outputs": [],
   "source": [
    "from xgboost import XGBClassifier\n",
    "\n",
    "xgb = XGBClassifier()"
   ]
  },
  {
   "cell_type": "code",
   "execution_count": 10,
   "id": "a8439bb1-733a-4085-9d02-760c4d2dc3c1",
   "metadata": {},
   "outputs": [
    {
     "data": {
      "text/html": [
       "<style>#sk-container-id-1 {color: black;background-color: white;}#sk-container-id-1 pre{padding: 0;}#sk-container-id-1 div.sk-toggleable {background-color: white;}#sk-container-id-1 label.sk-toggleable__label {cursor: pointer;display: block;width: 100%;margin-bottom: 0;padding: 0.3em;box-sizing: border-box;text-align: center;}#sk-container-id-1 label.sk-toggleable__label-arrow:before {content: \"▸\";float: left;margin-right: 0.25em;color: #696969;}#sk-container-id-1 label.sk-toggleable__label-arrow:hover:before {color: black;}#sk-container-id-1 div.sk-estimator:hover label.sk-toggleable__label-arrow:before {color: black;}#sk-container-id-1 div.sk-toggleable__content {max-height: 0;max-width: 0;overflow: hidden;text-align: left;background-color: #f0f8ff;}#sk-container-id-1 div.sk-toggleable__content pre {margin: 0.2em;color: black;border-radius: 0.25em;background-color: #f0f8ff;}#sk-container-id-1 input.sk-toggleable__control:checked~div.sk-toggleable__content {max-height: 200px;max-width: 100%;overflow: auto;}#sk-container-id-1 input.sk-toggleable__control:checked~label.sk-toggleable__label-arrow:before {content: \"▾\";}#sk-container-id-1 div.sk-estimator input.sk-toggleable__control:checked~label.sk-toggleable__label {background-color: #d4ebff;}#sk-container-id-1 div.sk-label input.sk-toggleable__control:checked~label.sk-toggleable__label {background-color: #d4ebff;}#sk-container-id-1 input.sk-hidden--visually {border: 0;clip: rect(1px 1px 1px 1px);clip: rect(1px, 1px, 1px, 1px);height: 1px;margin: -1px;overflow: hidden;padding: 0;position: absolute;width: 1px;}#sk-container-id-1 div.sk-estimator {font-family: monospace;background-color: #f0f8ff;border: 1px dotted black;border-radius: 0.25em;box-sizing: border-box;margin-bottom: 0.5em;}#sk-container-id-1 div.sk-estimator:hover {background-color: #d4ebff;}#sk-container-id-1 div.sk-parallel-item::after {content: \"\";width: 100%;border-bottom: 1px solid gray;flex-grow: 1;}#sk-container-id-1 div.sk-label:hover label.sk-toggleable__label {background-color: #d4ebff;}#sk-container-id-1 div.sk-serial::before {content: \"\";position: absolute;border-left: 1px solid gray;box-sizing: border-box;top: 0;bottom: 0;left: 50%;z-index: 0;}#sk-container-id-1 div.sk-serial {display: flex;flex-direction: column;align-items: center;background-color: white;padding-right: 0.2em;padding-left: 0.2em;position: relative;}#sk-container-id-1 div.sk-item {position: relative;z-index: 1;}#sk-container-id-1 div.sk-parallel {display: flex;align-items: stretch;justify-content: center;background-color: white;position: relative;}#sk-container-id-1 div.sk-item::before, #sk-container-id-1 div.sk-parallel-item::before {content: \"\";position: absolute;border-left: 1px solid gray;box-sizing: border-box;top: 0;bottom: 0;left: 50%;z-index: -1;}#sk-container-id-1 div.sk-parallel-item {display: flex;flex-direction: column;z-index: 1;position: relative;background-color: white;}#sk-container-id-1 div.sk-parallel-item:first-child::after {align-self: flex-end;width: 50%;}#sk-container-id-1 div.sk-parallel-item:last-child::after {align-self: flex-start;width: 50%;}#sk-container-id-1 div.sk-parallel-item:only-child::after {width: 0;}#sk-container-id-1 div.sk-dashed-wrapped {border: 1px dashed gray;margin: 0 0.4em 0.5em 0.4em;box-sizing: border-box;padding-bottom: 0.4em;background-color: white;}#sk-container-id-1 div.sk-label label {font-family: monospace;font-weight: bold;display: inline-block;line-height: 1.2em;}#sk-container-id-1 div.sk-label-container {text-align: center;}#sk-container-id-1 div.sk-container {/* jupyter's `normalize.less` sets `[hidden] { display: none; }` but bootstrap.min.css set `[hidden] { display: none !important; }` so we also need the `!important` here to be able to override the default hidden behavior on the sphinx rendered scikit-learn.org. See: https://github.com/scikit-learn/scikit-learn/issues/21755 */display: inline-block !important;position: relative;}#sk-container-id-1 div.sk-text-repr-fallback {display: none;}</style><div id=\"sk-container-id-1\" class=\"sk-top-container\"><div class=\"sk-text-repr-fallback\"><pre>XGBClassifier(base_score=None, booster=None, callbacks=None,\n",
       "              colsample_bylevel=None, colsample_bynode=None,\n",
       "              colsample_bytree=None, early_stopping_rounds=None,\n",
       "              enable_categorical=False, eval_metric=None, feature_types=None,\n",
       "              gamma=None, gpu_id=None, grow_policy=None, importance_type=None,\n",
       "              interaction_constraints=None, learning_rate=None, max_bin=None,\n",
       "              max_cat_threshold=None, max_cat_to_onehot=None,\n",
       "              max_delta_step=None, max_depth=None, max_leaves=None,\n",
       "              min_child_weight=None, missing=nan, monotone_constraints=None,\n",
       "              n_estimators=100, n_jobs=None, num_parallel_tree=None,\n",
       "              objective=&#x27;multi:softprob&#x27;, predictor=None, ...)</pre><b>In a Jupyter environment, please rerun this cell to show the HTML representation or trust the notebook. <br />On GitHub, the HTML representation is unable to render, please try loading this page with nbviewer.org.</b></div><div class=\"sk-container\" hidden><div class=\"sk-item\"><div class=\"sk-estimator sk-toggleable\"><input class=\"sk-toggleable__control sk-hidden--visually\" id=\"sk-estimator-id-1\" type=\"checkbox\" checked><label for=\"sk-estimator-id-1\" class=\"sk-toggleable__label sk-toggleable__label-arrow\">XGBClassifier</label><div class=\"sk-toggleable__content\"><pre>XGBClassifier(base_score=None, booster=None, callbacks=None,\n",
       "              colsample_bylevel=None, colsample_bynode=None,\n",
       "              colsample_bytree=None, early_stopping_rounds=None,\n",
       "              enable_categorical=False, eval_metric=None, feature_types=None,\n",
       "              gamma=None, gpu_id=None, grow_policy=None, importance_type=None,\n",
       "              interaction_constraints=None, learning_rate=None, max_bin=None,\n",
       "              max_cat_threshold=None, max_cat_to_onehot=None,\n",
       "              max_delta_step=None, max_depth=None, max_leaves=None,\n",
       "              min_child_weight=None, missing=nan, monotone_constraints=None,\n",
       "              n_estimators=100, n_jobs=None, num_parallel_tree=None,\n",
       "              objective=&#x27;multi:softprob&#x27;, predictor=None, ...)</pre></div></div></div></div></div>"
      ],
      "text/plain": [
       "XGBClassifier(base_score=None, booster=None, callbacks=None,\n",
       "              colsample_bylevel=None, colsample_bynode=None,\n",
       "              colsample_bytree=None, early_stopping_rounds=None,\n",
       "              enable_categorical=False, eval_metric=None, feature_types=None,\n",
       "              gamma=None, gpu_id=None, grow_policy=None, importance_type=None,\n",
       "              interaction_constraints=None, learning_rate=None, max_bin=None,\n",
       "              max_cat_threshold=None, max_cat_to_onehot=None,\n",
       "              max_delta_step=None, max_depth=None, max_leaves=None,\n",
       "              min_child_weight=None, missing=nan, monotone_constraints=None,\n",
       "              n_estimators=100, n_jobs=None, num_parallel_tree=None,\n",
       "              objective='multi:softprob', predictor=None, ...)"
      ]
     },
     "execution_count": 10,
     "metadata": {},
     "output_type": "execute_result"
    }
   ],
   "source": [
    "xgb.fit(X_train_new_10k, Y_train_new_10k)"
   ]
  },
  {
   "cell_type": "code",
   "execution_count": 11,
   "id": "1c9cc94b-e223-445b-b030-739d9faa3db6",
   "metadata": {},
   "outputs": [],
   "source": [
    "X_test_new_10k = test_new_10k.drop(['hotel_cluster'], axis=1)\n",
    "Y_test_new_10k = test_new_10k['hotel_cluster']"
   ]
  },
  {
   "cell_type": "code",
   "execution_count": 13,
   "id": "42cf84c0-8b0f-4c09-97c8-a79ff96e03f3",
   "metadata": {},
   "outputs": [],
   "source": [
    "Y_test_pred_10k = xgb.predict(X_test_new_10k)\n",
    "Y_test_pred_proba_10k = xgb.predict_proba(X_test_new_10k)"
   ]
  },
  {
   "cell_type": "code",
   "execution_count": 14,
   "id": "ff3ddc34-5d60-4a3a-950e-f252ec3bccb1",
   "metadata": {},
   "outputs": [
    {
     "name": "stdout",
     "output_type": "stream",
     "text": [
      "[[3.0547988e-05 8.2117949e-06 1.2764915e-02 ... 2.3689677e-03\n",
      "  7.1358413e-04 6.2460271e-03]\n",
      " [1.1101558e-03 6.4591550e-06 1.7577643e-03 ... 1.1092214e-03\n",
      "  9.7801331e-03 2.9394273e-03]\n",
      " [1.8824163e-06 2.7189230e-06 1.6062108e-03 ... 2.9818770e-05\n",
      "  9.9308068e-05 7.0752035e-04]\n",
      " ...\n",
      " [6.5805425e-04 5.9508557e-06 8.6443834e-03 ... 4.0433629e-04\n",
      "  1.2265281e-03 6.8034190e-03]\n",
      " [1.2666256e-04 2.5541427e-05 2.7293226e-02 ... 1.3404728e-02\n",
      "  6.0613686e-03 3.0561266e-02]\n",
      " [1.8460200e-03 7.6331289e-06 3.1501912e-03 ... 1.0334338e-02\n",
      "  3.5786953e-02 1.4299246e-02]]\n"
     ]
    }
   ],
   "source": [
    "print(Y_test_pred_proba_10k)"
   ]
  },
  {
   "cell_type": "code",
   "execution_count": 15,
   "id": "536405fc-776a-4aa9-8166-ec9e91f6ae1a",
   "metadata": {},
   "outputs": [
    {
     "name": "stdout",
     "output_type": "stream",
     "text": [
      "Accuracy 0.13228600792835118\n"
     ]
    }
   ],
   "source": [
    "accuracy_10k = accuracy_score(Y_test_new_10k, Y_test_pred_10k)\n",
    "print('Accuracy', accuracy_10k)"
   ]
  },
  {
   "cell_type": "code",
   "execution_count": 16,
   "id": "75550342-9b5d-49b1-894c-42d0825b4cfd",
   "metadata": {},
   "outputs": [
    {
     "name": "stdout",
     "output_type": "stream",
     "text": [
      "Mean Average Precision@5 0.22788870944061076\n"
     ]
    }
   ],
   "source": [
    "map_10k = mean_average_precision(Y_test_new_10k, Y_test_pred_proba_10k)\n",
    "print(\"Mean Average Precision@5\", map_10k)"
   ]
  },
  {
   "cell_type": "code",
   "execution_count": null,
   "id": "fe66ee0a-a3e6-4c51-b1a6-14063228c9ed",
   "metadata": {},
   "outputs": [],
   "source": []
  }
 ],
 "metadata": {
  "kernelspec": {
   "display_name": "Python 3 (ipykernel)",
   "language": "python",
   "name": "python3"
  },
  "language_info": {
   "codemirror_mode": {
    "name": "ipython",
    "version": 3
   },
   "file_extension": ".py",
   "mimetype": "text/x-python",
   "name": "python",
   "nbconvert_exporter": "python",
   "pygments_lexer": "ipython3",
   "version": "3.11.3"
  }
 },
 "nbformat": 4,
 "nbformat_minor": 5
}
